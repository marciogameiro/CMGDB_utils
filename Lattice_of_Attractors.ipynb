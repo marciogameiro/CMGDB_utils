{
 "cells": [
  {
   "cell_type": "code",
   "execution_count": 67,
   "metadata": {},
   "outputs": [],
   "source": [
    "import collections\n",
    "\n",
    "def morse_graph_from_edges(edges, grid_size):\n",
    "    \"\"\"Compute Morse graph from list of edges\"\"\"\n",
    "    # Define multi-valued map from list of edges\n",
    "    F = collections.defaultdict(list)\n",
    "    for v1, v2 in edges:\n",
    "        F[v1].append(v2)\n",
    "    # Create normalized domain (just used for plotting)\n",
    "    dim = len(grid_size)\n",
    "    lower_bounds = [0.0]*dim\n",
    "    upper_bounds = [1.0]*dim\n",
    "    # Define model and compute Conley Morse graph\n",
    "    model = CMGDB_utils.Model(lower_bounds, upper_bounds, grid_size, F, map_type='G')\n",
    "    morse_graph_data, cubical_complex = CMGDB_utils.ComputeConleyMorseGraph(model, acyclic_check=True)\n",
    "    return morse_graph_data, cubical_complex\n",
    "\n",
    "def get_attractor(morse_nodes, morse_sets, F):\n",
    "    \"\"\"Compute the attractor starting at the Morse nodes\"\"\"\n",
    "    \"\"\"This is a quick and dirty implementation. Needs to be optimized\"\"\"\n",
    "    # Initialize attractor set as union of Morse sets\n",
    "    attractor = set().union(*[morse_sets[n] for n in morse_nodes])\n",
    "    # Create queue of elements to be processed\n",
    "    process_queue = attractor.copy()\n",
    "    # Create set of elements already processed\n",
    "    processed = set()\n",
    "    # Process the queue\n",
    "    while process_queue:\n",
    "        # Get cell from queue\n",
    "        cell = process_queue.pop()\n",
    "        if cell in processed:\n",
    "            continue\n",
    "        # Get adjacencies of cell\n",
    "        adjacencies = F[cell]\n",
    "        # Add to the attractor set\n",
    "        attractor.update(adjacencies)\n",
    "        # Add to the queue to process\n",
    "        process_queue.update(adjacencies)\n",
    "        # Add cell to set of processed\n",
    "        processed.add(cell)\n",
    "    return attractor\n",
    "\n",
    "def directional_attractors_from_mvm(edges, grid_size, forward=True):\n",
    "    \"\"\"Compute list of directional attractors from list of edges (mvm).\n",
    "       If forward == True compute attractors. If False compute repellers.\"\"\"\n",
    "    mg_data, cubical_complex = morse_graph_from_edges(edges, grid_size)\n",
    "    # Get Morse graph data components\n",
    "    morse_graph, morse_decomp, vertex_mapping = mg_data\n",
    "    # Get Morse sets\n",
    "    morse_sets = {}\n",
    "    for n in range(len(morse_graph.vertices())):\n",
    "        # Get corresponding Morse node\n",
    "        node = vertex_mapping[n]\n",
    "        # Get cells in Morse decomposition node\n",
    "        morse_sets[node] = morse_decomp.morseset(n)\n",
    "    # Compute lattice of attractors or repellers\n",
    "    # Define multi-valued map from list of edges\n",
    "    F = collections.defaultdict(list)\n",
    "    if forward:\n",
    "        # Compute lattice of forward attractors (attractors)\n",
    "        latt_attractors = CMGDB_utils.lattice_attractors(morse_graph)\n",
    "        # Compute the multi-valued map F\n",
    "        for v1, v2 in edges:\n",
    "            F[v1].append(v2)\n",
    "    else:\n",
    "        # Compute lattice of backward attractors (repellers)\n",
    "        latt_attractors = CMGDB_utils.lattice_repellers(morse_graph)\n",
    "        # Compute the transpose of the multi-valued map F\n",
    "        for v1, v2 in edges:\n",
    "            F[v2].append(v1)\n",
    "    # Compute list of attractors\n",
    "    attractors = []\n",
    "    for v in latt_attractors.vertices():\n",
    "        # Lattice of attractors vertex label\n",
    "        label = latt_attractors.vertex_label(v)\n",
    "        # Check for empty attractor\n",
    "        if not label.strip('{} '):\n",
    "            # Add empty attractor\n",
    "            attractors.append([])\n",
    "            continue\n",
    "        # List of Morse nodes that belong to the attractor\n",
    "        morse_nodes = [int(s.strip()) for s in label.strip('{}').split(',')]\n",
    "        # Get the attractor and append to list\n",
    "        attractor = get_attractor(morse_nodes, morse_sets, F)\n",
    "        attractors.append(attractor)\n",
    "    return attractors\n",
    "\n",
    "def attractors_from_mvm(edges, grid_size):\n",
    "    \"\"\"Compute list of attractors from list of edges (mvm)\"\"\"\n",
    "    attractors = directional_attractors_from_mvm(edges, grid_size)\n",
    "    return attractors\n",
    "\n",
    "def repellers_from_mvm(edges, grid_size):\n",
    "    \"\"\"Compute list of repellers from list of edges (mvm)\"\"\"\n",
    "    repellers = directional_attractors_from_mvm(edges, grid_size, forward=False)\n",
    "    return repellers"
   ]
  },
  {
   "cell_type": "code",
   "execution_count": 31,
   "metadata": {},
   "outputs": [],
   "source": [
    "# Change the code on the file to return\n",
    "# morse_graph_data, cubical_complex\n",
    "# and then use\n",
    "# morse_graph = morse_graph_data[0]\n",
    "\n",
    "def morse_graph_from_edges(edges, grid_size):\n",
    "    \"\"\"Compute Morse graph from list of edges\"\"\"\n",
    "    # Define multi-valued map from list of edges\n",
    "    F = collections.defaultdict(list)\n",
    "    for v1, v2 in edges:\n",
    "        F[v1].append(v2)\n",
    "    # Create normalized domain (just used for plotting)\n",
    "    dim = len(grid_size)\n",
    "    lower_bounds = [0.0]*dim\n",
    "    upper_bounds = [1.0]*dim\n",
    "    # Define model and compute Conley Morse graph\n",
    "    model = CMGDB_utils.Model(lower_bounds, upper_bounds, grid_size, F, map_type='G')\n",
    "    morse_graph_data, cubical_complex = CMGDB_utils.ComputeConleyMorseGraph(model, acyclic_check=True)\n",
    "    return morse_graph_data, cubical_complex, F"
   ]
  },
  {
   "cell_type": "code",
   "execution_count": null,
   "metadata": {},
   "outputs": [],
   "source": [
    "from collections import deque\n",
    "q = deque()\n",
    "\n",
    "q.append('a')\n",
    "q.append('b')\n",
    "q.append('c')\n",
    "print(\"Initial queue:\", q)\n",
    "\n",
    "print(\"Elements dequeued from the queue:\")\n",
    "print(q.popleft())\n",
    "print(q.popleft())\n",
    "print(q.popleft())\n",
    "\n",
    "print(\"Queue after removing elements:\", q)\n",
    "\n",
    "list_of_lists = [[1, 2, 3], [3, 4, 5], [5, 6, 7]]\n",
    "\n",
    "# Create an empty set and then use union with the unpacked list of lists\n",
    "union_set = set().union(*list_of_lists)\n",
    "\n",
    "print(union_set)\n",
    "\n",
    "import itertools\n",
    "\n",
    "list_of_lists = [[1, 2, 3], [3, 4, 5], [5, 6, 7]]\n",
    "flattened_set = set(itertools.chain.from_iterable(list_of_lists))\n",
    "print(flattened_set)"
   ]
  },
  {
   "cell_type": "code",
   "execution_count": 64,
   "metadata": {},
   "outputs": [],
   "source": [
    "# import numpy as np\n",
    "# num_vertes = np.prod(grid_size)\n",
    "\n",
    "# [int(s.strip()) for s in att_labels[0].strip('{}').split(',')]\n",
    "\n",
    "def get_attractor(morse_nodes, morse_sets, F):\n",
    "    \"\"\"Compute the attractor starting at the Morse nodes\"\"\"\n",
    "    \"\"\"This is a quick and dirty implementation. Needs to be optimized\"\"\"\n",
    "    # Initialize attractor set as union of Morse sets\n",
    "    attractor = set().union(*[morse_sets[n] for n in morse_nodes])\n",
    "    # Create queue of elements to be processed\n",
    "    process_queue = attractor.copy()\n",
    "    # Create set of elements already processed\n",
    "    processed = set()\n",
    "    # Process the queue\n",
    "    while process_queue:\n",
    "        # Get cell from queue\n",
    "        cell = process_queue.pop()\n",
    "        if cell in processed:\n",
    "            continue\n",
    "        # Get adjacencies of cell\n",
    "        adjacencies = F[cell]\n",
    "        # Add to the attractor set\n",
    "        attractor.update(adjacencies)\n",
    "        # Add to the queue to process\n",
    "        process_queue.update(adjacencies)\n",
    "        # Add cell to set of processed\n",
    "        processed.add(cell)\n",
    "    return attractor\n",
    "\n",
    "def directional_attractors_from_mvm(edges, grid_size, forward=True):\n",
    "    \"\"\"Compute list of directional attractors from list of edges (mvm).\n",
    "       If forward == True compute attractors. If False compute repellers.\"\"\"\n",
    "    mg_data, cubical_complex, F = morse_graph_from_edges(edges, grid_size)\n",
    "    # Get Morse graph data components\n",
    "    morse_graph, morse_decomp, vertex_mapping = mg_data\n",
    "    # Get Morse sets\n",
    "    morse_sets = {}\n",
    "    for n in range(len(morse_graph.vertices())):\n",
    "        # Get corresponding Morse node\n",
    "        node = vertex_mapping[n]\n",
    "        # Get cells in Morse decomposition node\n",
    "        morse_sets[node] = morse_decomp.morseset(n)\n",
    "    # Compute lattice of attractors or repellers\n",
    "    if forward:\n",
    "        # Compute lattice of forward attractors (attractors)\n",
    "        latt_attractors = CMGDB_utils.lattice_attractors(morse_graph)\n",
    "    else:\n",
    "        # Compute lattice of backward attractors (repellers)\n",
    "        latt_attractors = CMGDB_utils.lattice_repellers(morse_graph)\n",
    "        # Compute the transpose of the multi-valued map F\n",
    "        F = F.transpose()\n",
    "    # Compute list of attractors\n",
    "    attractors = []\n",
    "    for v in latt_attractors.vertices():\n",
    "        # Lattice of attractors vertex label\n",
    "        label = latt_attractors.vertex_label(v)\n",
    "        # Check for empty attractor\n",
    "        if not label.strip('{} '):\n",
    "            # Add empty attractor\n",
    "            attractors.append([])\n",
    "            continue\n",
    "        # List of Morse nodes that belong to the attractor\n",
    "        morse_nodes = [int(s.strip()) for s in label.strip('{}').split(',')]\n",
    "        # Get the attractor and append to list\n",
    "        attractor = get_attractor(morse_nodes, morse_sets, F)\n",
    "        attractors.append(attractor)\n",
    "    return attractors\n",
    "\n",
    "def attractors_from_mvm_old(edges, grid_size):\n",
    "    \"\"\"Compute list of attractors from list of edges (mvm)\"\"\"\n",
    "    mg_data, cubical_complex, F = morse_graph_from_edges(edges, grid_size)\n",
    "    # Get Morse graph data components\n",
    "    morse_graph, morse_decomp, vertex_mapping = mg_data\n",
    "    # Get Morse sets\n",
    "    morse_sets = {}\n",
    "    for n in range(len(morse_graph.vertices())):\n",
    "        # Get corresponding Morse node\n",
    "        node = vertex_mapping[n]\n",
    "        # Get cells in Morse decomposition node\n",
    "        morse_sets[node] = morse_decomp.morseset(n)\n",
    "    # Compute lattice of attractors\n",
    "    latt_attractors = CMGDB_utils.lattice_attractors(morse_graph)\n",
    "    # Compute list of attractors\n",
    "    attractors = []\n",
    "    for v in latt_attractors.vertices():\n",
    "        # Lattice of attractors vertex label\n",
    "        label = latt_attractors.vertex_label(v)\n",
    "        # Check for empty attractor\n",
    "        if not label.strip('{} '):\n",
    "            # Add empty attractor\n",
    "            attractors.append([])\n",
    "            continue\n",
    "        # List of Morse nodes that belong to the attractor\n",
    "        morse_nodes = [int(s.strip()) for s in label.strip('{}').split(',')]\n",
    "        # Get the attractor and append to list\n",
    "        attractor = get_attractor(morse_nodes, morse_sets, F)\n",
    "        attractors.append(attractor)\n",
    "    return attractors\n",
    "\n",
    "def attractors_from_mvm(edges, grid_size):\n",
    "    \"\"\"Compute list of attractors from list of edges (mvm)\"\"\"\n",
    "    attractors = directional_attractors_from_mvm(edges, grid_size)\n",
    "    return attractors\n",
    "\n",
    "def repellers_from_mvm(edges, grid_size):\n",
    "    \"\"\"Compute list of repellers from list of edges (mvm)\"\"\"\n",
    "    repellers = directional_attractors_from_mvm(edges, grid_size, forward=False)\n",
    "    return repellers"
   ]
  },
  {
   "cell_type": "code",
   "execution_count": 68,
   "metadata": {},
   "outputs": [
    {
     "data": {
      "text/plain": [
       "[[],\n",
       " {0, 1},\n",
       " {14, 15, 16},\n",
       " {0, 1, 14, 15, 16},\n",
       " {0, 1, 2, 3, 4, 5, 6, 7, 8, 9, 10, 11, 12, 13, 14, 15, 16}]"
      ]
     },
     "execution_count": 68,
     "metadata": {},
     "output_type": "execute_result"
    }
   ],
   "source": [
    "attractors_from_mvm(edges, grid_size)"
   ]
  },
  {
   "cell_type": "code",
   "execution_count": 69,
   "metadata": {},
   "outputs": [
    {
     "data": {
      "text/plain": [
       "[{0, 1, 2, 3, 4, 5, 6, 7, 8, 9, 10, 11, 12, 13, 14, 15, 16, 17, 18, 19},\n",
       " {2, 3, 4, 5, 6, 7, 8, 9, 10, 11, 12, 13, 14, 15, 16, 17, 18, 19},\n",
       " {0, 1, 2, 3, 4, 5},\n",
       " {2, 3, 4, 5},\n",
       " []]"
      ]
     },
     "execution_count": 69,
     "metadata": {},
     "output_type": "execute_result"
    }
   ],
   "source": [
    "repellers_from_mvm(edges, grid_size)"
   ]
  },
  {
   "cell_type": "code",
   "execution_count": 61,
   "metadata": {},
   "outputs": [
    {
     "name": "stdout",
     "output_type": "stream",
     "text": [
      "no\n"
     ]
    }
   ],
   "source": [
    "label = '{  }'\n",
    "\n",
    "if label.strip('{} '):\n",
    "    print('yes')\n",
    "else:\n",
    "    print('no')"
   ]
  },
  {
   "cell_type": "code",
   "execution_count": 33,
   "metadata": {},
   "outputs": [
    {
     "data": {
      "text/plain": [
       "{0, 1, 2, 3, 4, 5, 14, 15, 16}"
      ]
     },
     "execution_count": 33,
     "metadata": {},
     "output_type": "execute_result"
    }
   ],
   "source": [
    "aa = {2, 3, 4, 5, 15, 16, 14, 0, 1}\n",
    "aa"
   ]
  },
  {
   "cell_type": "code",
   "execution_count": 34,
   "metadata": {},
   "outputs": [],
   "source": [
    "q = collections.deque(aa)"
   ]
  },
  {
   "cell_type": "code",
   "execution_count": 35,
   "metadata": {},
   "outputs": [
    {
     "data": {
      "text/plain": [
       "deque([0, 1, 2, 3, 4, 5, 14, 15, 16])"
      ]
     },
     "execution_count": 35,
     "metadata": {},
     "output_type": "execute_result"
    }
   ],
   "source": [
    "q"
   ]
  },
  {
   "cell_type": "code",
   "execution_count": null,
   "metadata": {},
   "outputs": [],
   "source": []
  },
  {
   "cell_type": "code",
   "execution_count": 38,
   "metadata": {},
   "outputs": [
    {
     "name": "stdout",
     "output_type": "stream",
     "text": [
      "16\n",
      "15\n",
      "14\n",
      "5\n",
      "4\n",
      "3\n",
      "2\n",
      "1\n",
      "0\n"
     ]
    }
   ],
   "source": [
    "while q:\n",
    "    item = q.pop()\n",
    "    print(item)"
   ]
  },
  {
   "cell_type": "code",
   "execution_count": null,
   "metadata": {},
   "outputs": [],
   "source": []
  },
  {
   "cell_type": "code",
   "execution_count": 1,
   "metadata": {},
   "outputs": [],
   "source": [
    "import CMGDB_utils\n",
    "\n",
    "import graphviz"
   ]
  },
  {
   "cell_type": "code",
   "execution_count": 40,
   "metadata": {},
   "outputs": [],
   "source": [
    "grid_size = [20]\n",
    "\n",
    "edges = [(0, 0), (0, 1), (1, 0), (1, 1), (2, 0), (2, 1), (2, 2), (2, 3), (3, 1), (3, 2), (3, 3), (3, 4), (4, 2),\n",
    "         (4, 3), (4, 4), (4, 5), (4, 6), (4, 7), (5, 4), (5, 5), (5, 6), (5, 7), (5, 8), (5, 9), (5, 10), (6, 7),\n",
    "         (6, 8), (6, 9), (6, 10), (7, 8), (7, 9), (7, 10), (7, 11), (7, 12), (8, 10), (8, 11), (8, 12), (8, 13),\n",
    "         (9, 11), (9, 12), (9, 13), (9, 14), (10, 12), (10, 13), (10, 14), (11, 13), (11, 14), (11, 15), (12, 14),\n",
    "         (12, 15), (13, 14), (13, 15), (14, 14), (14, 15), (14, 16), (15, 14), (15, 15), (15, 16), (16, 14), (16, 15),\n",
    "         (16, 16), (17, 14), (17, 15), (17, 16), (18, 14), (18, 15), (18, 16), (19, 13), (19, 14), (19, 15), (19, 16)]"
   ]
  },
  {
   "cell_type": "code",
   "execution_count": 43,
   "metadata": {},
   "outputs": [
    {
     "ename": "ValueError",
     "evalue": "invalid literal for int() with base 10: ''",
     "output_type": "error",
     "traceback": [
      "\u001b[0;31m---------------------------------------------------------------------------\u001b[0m",
      "\u001b[0;31mValueError\u001b[0m                                Traceback (most recent call last)",
      "Cell \u001b[0;32mIn[43], line 1\u001b[0m\n\u001b[0;32m----> 1\u001b[0m attractors_from_mvm(edges, grid_size)\n",
      "Cell \u001b[0;32mIn[39], line 51\u001b[0m, in \u001b[0;36mattractors_from_mvm\u001b[0;34m(edges, grid_size)\u001b[0m\n\u001b[1;32m     49\u001b[0m label \u001b[38;5;241m=\u001b[39m latt_attractors\u001b[38;5;241m.\u001b[39mvertex_label(v)\n\u001b[1;32m     50\u001b[0m \u001b[38;5;66;03m# List of Morse nodes that belong to the attractor\u001b[39;00m\n\u001b[0;32m---> 51\u001b[0m morse_nodes \u001b[38;5;241m=\u001b[39m [\u001b[38;5;28mint\u001b[39m(s\u001b[38;5;241m.\u001b[39mstrip()) \u001b[38;5;28;01mfor\u001b[39;00m s \u001b[38;5;129;01min\u001b[39;00m label\u001b[38;5;241m.\u001b[39mstrip(\u001b[38;5;124m'\u001b[39m\u001b[38;5;132;01m{}\u001b[39;00m\u001b[38;5;124m'\u001b[39m)\u001b[38;5;241m.\u001b[39msplit(\u001b[38;5;124m'\u001b[39m\u001b[38;5;124m,\u001b[39m\u001b[38;5;124m'\u001b[39m)]\n\u001b[1;32m     52\u001b[0m \u001b[38;5;66;03m# Get the attractor and append to list\u001b[39;00m\n\u001b[1;32m     53\u001b[0m attractor \u001b[38;5;241m=\u001b[39m get_attractor(morse_nodes, morse_sets, F)\n",
      "Cell \u001b[0;32mIn[39], line 51\u001b[0m, in \u001b[0;36m<listcomp>\u001b[0;34m(.0)\u001b[0m\n\u001b[1;32m     49\u001b[0m label \u001b[38;5;241m=\u001b[39m latt_attractors\u001b[38;5;241m.\u001b[39mvertex_label(v)\n\u001b[1;32m     50\u001b[0m \u001b[38;5;66;03m# List of Morse nodes that belong to the attractor\u001b[39;00m\n\u001b[0;32m---> 51\u001b[0m morse_nodes \u001b[38;5;241m=\u001b[39m [\u001b[38;5;28mint\u001b[39m(s\u001b[38;5;241m.\u001b[39mstrip()) \u001b[38;5;28;01mfor\u001b[39;00m s \u001b[38;5;129;01min\u001b[39;00m label\u001b[38;5;241m.\u001b[39mstrip(\u001b[38;5;124m'\u001b[39m\u001b[38;5;132;01m{}\u001b[39;00m\u001b[38;5;124m'\u001b[39m)\u001b[38;5;241m.\u001b[39msplit(\u001b[38;5;124m'\u001b[39m\u001b[38;5;124m,\u001b[39m\u001b[38;5;124m'\u001b[39m)]\n\u001b[1;32m     52\u001b[0m \u001b[38;5;66;03m# Get the attractor and append to list\u001b[39;00m\n\u001b[1;32m     53\u001b[0m attractor \u001b[38;5;241m=\u001b[39m get_attractor(morse_nodes, morse_sets, F)\n",
      "\u001b[0;31mValueError\u001b[0m: invalid literal for int() with base 10: ''"
     ]
    }
   ],
   "source": [
    "attractors_from_mvm(edges, grid_size)"
   ]
  },
  {
   "cell_type": "code",
   "execution_count": 41,
   "metadata": {},
   "outputs": [],
   "source": [
    "att_vertices, att_edges, att_labels, gv_str = CMGDB_utils.lattice_attractors_from_mvm(edges, grid_size)"
   ]
  },
  {
   "cell_type": "code",
   "execution_count": 42,
   "metadata": {},
   "outputs": [
    {
     "data": {
      "text/plain": [
       "['{ }', '{0}', '{1}', '{0, 1}', '{0, 1, 2}']"
      ]
     },
     "execution_count": 42,
     "metadata": {},
     "output_type": "execute_result"
    }
   ],
   "source": [
    "att_labels"
   ]
  },
  {
   "cell_type": "code",
   "execution_count": 5,
   "metadata": {},
   "outputs": [
    {
     "data": {
      "text/plain": [
       "'{0, 1, 2}'"
      ]
     },
     "execution_count": 5,
     "metadata": {},
     "output_type": "execute_result"
    }
   ],
   "source": [
    "att_labels[0]"
   ]
  },
  {
   "cell_type": "code",
   "execution_count": 10,
   "metadata": {},
   "outputs": [
    {
     "data": {
      "text/plain": [
       "[0, 1, 2]"
      ]
     },
     "execution_count": 10,
     "metadata": {},
     "output_type": "execute_result"
    }
   ],
   "source": [
    "[int(s.strip()) for s in att_labels[0].strip('{}').split(',')]"
   ]
  },
  {
   "cell_type": "code",
   "execution_count": 11,
   "metadata": {},
   "outputs": [
    {
     "data": {
      "text/plain": [
       "[0, 1, 2]"
      ]
     },
     "execution_count": 11,
     "metadata": {},
     "output_type": "execute_result"
    }
   ],
   "source": [
    "[int(s) for s in att_labels[0].strip('{}').split(',')]"
   ]
  },
  {
   "cell_type": "code",
   "execution_count": null,
   "metadata": {},
   "outputs": [],
   "source": []
  },
  {
   "cell_type": "code",
   "execution_count": 93,
   "metadata": {},
   "outputs": [],
   "source": [
    "mg_vertices, mg_edges, mg_labels, gv_str = lattice_repellers_from_mvm(edges, grid_size)\n",
    "# mg_vertices, mg_edges, mg_labels, gv_str = morse_graph_from_mvm(edges, grid_size)"
   ]
  },
  {
   "cell_type": "code",
   "execution_count": 20,
   "metadata": {},
   "outputs": [],
   "source": [
    "mg_vertices, mg_edges, mg_labels, gv_str = CMGDB_utils.morse_graph_from_mvm(edges, grid_size)"
   ]
  },
  {
   "cell_type": "code",
   "execution_count": 21,
   "metadata": {},
   "outputs": [
    {
     "data": {
      "text/plain": [
       "[0, 1, 2]"
      ]
     },
     "execution_count": 21,
     "metadata": {},
     "output_type": "execute_result"
    }
   ],
   "source": [
    "mg_vertices"
   ]
  },
  {
   "cell_type": "code",
   "execution_count": 22,
   "metadata": {},
   "outputs": [
    {
     "data": {
      "text/plain": [
       "[(2, 0), (2, 1)]"
      ]
     },
     "execution_count": 22,
     "metadata": {},
     "output_type": "execute_result"
    }
   ],
   "source": [
    "mg_edges"
   ]
  },
  {
   "cell_type": "code",
   "execution_count": 23,
   "metadata": {},
   "outputs": [
    {
     "data": {
      "text/plain": [
       "['(x-1, 0)', '(x-1, 0)', '(0, x-1)']"
      ]
     },
     "execution_count": 23,
     "metadata": {},
     "output_type": "execute_result"
    }
   ],
   "source": [
    "mg_labels"
   ]
  },
  {
   "cell_type": "code",
   "execution_count": 24,
   "metadata": {},
   "outputs": [
    {
     "name": "stdout",
     "output_type": "stream",
     "text": [
      "digraph {\n",
      "0 [label=\"0 : (x-1, 0)\", shape=ellipse, style=filled, fillcolor=\"#1f77b4ff\", margin=\"0.11, 0.055\"];\n",
      "1 [label=\"1 : (x-1, 0)\", shape=ellipse, style=filled, fillcolor=\"#8c564bff\", margin=\"0.11, 0.055\"];\n",
      "2 [label=\"2 : (0, x-1)\", shape=ellipse, style=filled, fillcolor=\"#9edae5ff\", margin=\"0.11, 0.055\"];\n",
      "{rank=same; 0 1 }; \n",
      "2 -> 0;\n",
      "2 -> 1;\n",
      "}\n",
      "\n"
     ]
    }
   ],
   "source": [
    "print(gv_str)"
   ]
  },
  {
   "cell_type": "code",
   "execution_count": 25,
   "metadata": {},
   "outputs": [
    {
     "data": {
      "image/svg+xml": [
       "<?xml version=\"1.0\" encoding=\"UTF-8\" standalone=\"no\"?>\n",
       "<!DOCTYPE svg PUBLIC \"-//W3C//DTD SVG 1.1//EN\"\n",
       " \"http://www.w3.org/Graphics/SVG/1.1/DTD/svg11.dtd\">\n",
       "<!-- Generated by graphviz version 2.50.0 (0)\n",
       " -->\n",
       "<!-- Pages: 1 -->\n",
       "<svg width=\"224pt\" height=\"116pt\"\n",
       " viewBox=\"0.00 0.00 223.79 116.00\" xmlns=\"http://www.w3.org/2000/svg\" xmlns:xlink=\"http://www.w3.org/1999/xlink\">\n",
       "<g id=\"graph0\" class=\"graph\" transform=\"scale(1 1) rotate(0) translate(4 112)\">\n",
       "<polygon fill=\"white\" stroke=\"transparent\" points=\"-4,4 -4,-112 219.79,-112 219.79,4 -4,4\"/>\n",
       "<!-- 0 -->\n",
       "<g id=\"node1\" class=\"node\">\n",
       "<title>0</title>\n",
       "<ellipse fill=\"#1f77b4\" stroke=\"black\" cx=\"49.4\" cy=\"-18\" rx=\"49.29\" ry=\"18\"/>\n",
       "<text text-anchor=\"middle\" x=\"49.4\" y=\"-14.3\" font-family=\"Times,serif\" font-size=\"14.00\">0 : (x&#45;1, 0)</text>\n",
       "</g>\n",
       "<!-- 1 -->\n",
       "<g id=\"node2\" class=\"node\">\n",
       "<title>1</title>\n",
       "<ellipse fill=\"#8c564b\" stroke=\"black\" cx=\"166.4\" cy=\"-18\" rx=\"49.29\" ry=\"18\"/>\n",
       "<text text-anchor=\"middle\" x=\"166.4\" y=\"-14.3\" font-family=\"Times,serif\" font-size=\"14.00\">1 : (x&#45;1, 0)</text>\n",
       "</g>\n",
       "<!-- 2 -->\n",
       "<g id=\"node3\" class=\"node\">\n",
       "<title>2</title>\n",
       "<ellipse fill=\"#9edae5\" stroke=\"black\" cx=\"107.4\" cy=\"-90\" rx=\"49.29\" ry=\"18\"/>\n",
       "<text text-anchor=\"middle\" x=\"107.4\" y=\"-86.3\" font-family=\"Times,serif\" font-size=\"14.00\">2 : (0, x&#45;1)</text>\n",
       "</g>\n",
       "<!-- 2&#45;&gt;0 -->\n",
       "<g id=\"edge1\" class=\"edge\">\n",
       "<title>2&#45;&gt;0</title>\n",
       "<path fill=\"none\" stroke=\"black\" d=\"M93.65,-72.41C86.43,-63.69 77.44,-52.85 69.45,-43.21\"/>\n",
       "<polygon fill=\"black\" stroke=\"black\" points=\"72.12,-40.94 63.04,-35.47 66.73,-45.4 72.12,-40.94\"/>\n",
       "</g>\n",
       "<!-- 2&#45;&gt;1 -->\n",
       "<g id=\"edge2\" class=\"edge\">\n",
       "<title>2&#45;&gt;1</title>\n",
       "<path fill=\"none\" stroke=\"black\" d=\"M121.38,-72.41C128.73,-63.69 137.87,-52.85 145.99,-43.21\"/>\n",
       "<polygon fill=\"black\" stroke=\"black\" points=\"148.75,-45.37 152.51,-35.47 143.39,-40.86 148.75,-45.37\"/>\n",
       "</g>\n",
       "</g>\n",
       "</svg>\n"
      ],
      "text/plain": [
       "<graphviz.sources.Source at 0x10c00c310>"
      ]
     },
     "execution_count": 25,
     "metadata": {},
     "output_type": "execute_result"
    }
   ],
   "source": [
    "graphviz.Source(gv_str)"
   ]
  },
  {
   "cell_type": "code",
   "execution_count": 26,
   "metadata": {},
   "outputs": [],
   "source": [
    "morse_graph_data, cubical_complex = morse_graph_from_edges(edges, grid_size)"
   ]
  },
  {
   "cell_type": "code",
   "execution_count": 27,
   "metadata": {},
   "outputs": [
    {
     "data": {
      "image/png": "[encoded data removed]",
      "text/plain": [
       "<Figure size 800x800 with 1 Axes>"
      ]
     },
     "metadata": {},
     "output_type": "display_data"
    }
   ],
   "source": [
    "CMGDB_utils.PlotMorseSets(morse_graph_data, cubical_complex)"
   ]
  },
  {
   "cell_type": "code",
   "execution_count": null,
   "metadata": {},
   "outputs": [],
   "source": []
  },
  {
   "cell_type": "code",
   "execution_count": 59,
   "metadata": {},
   "outputs": [],
   "source": [
    "att_vertices, att_edges, att_labels = compute_lattice_attractorst(edges, grid_size)"
   ]
  },
  {
   "cell_type": "code",
   "execution_count": 60,
   "metadata": {},
   "outputs": [
    {
     "data": {
      "text/plain": [
       "[0, 1, 2, 3, 4]"
      ]
     },
     "execution_count": 60,
     "metadata": {},
     "output_type": "execute_result"
    }
   ],
   "source": [
    "att_vertices"
   ]
  },
  {
   "cell_type": "code",
   "execution_count": 61,
   "metadata": {},
   "outputs": [
    {
     "data": {
      "text/plain": [
       "[(1, 0), (2, 0), (3, 1), (3, 2), (4, 3)]"
      ]
     },
     "execution_count": 61,
     "metadata": {},
     "output_type": "execute_result"
    }
   ],
   "source": [
    "att_edges"
   ]
  },
  {
   "cell_type": "code",
   "execution_count": 62,
   "metadata": {},
   "outputs": [
    {
     "data": {
      "text/plain": [
       "['{ }', '{0}', '{1}', '{0, 1}', '{0, 1, 2}']"
      ]
     },
     "execution_count": 62,
     "metadata": {},
     "output_type": "execute_result"
    }
   ],
   "source": [
    "att_labels"
   ]
  },
  {
   "cell_type": "code",
   "execution_count": null,
   "metadata": {},
   "outputs": [],
   "source": []
  },
  {
   "cell_type": "code",
   "execution_count": 7,
   "metadata": {},
   "outputs": [],
   "source": [
    "morse_graph, cubical_complex = compute_dynamics(edges, grid_size)"
   ]
  },
  {
   "cell_type": "code",
   "execution_count": 47,
   "metadata": {},
   "outputs": [],
   "source": [
    "graph = CMGDB_utils.PlotMorseGraph(morse_graph)"
   ]
  },
  {
   "cell_type": "code",
   "execution_count": 53,
   "metadata": {},
   "outputs": [],
   "source": [
    "aa = str(graph)"
   ]
  },
  {
   "cell_type": "code",
   "execution_count": 54,
   "metadata": {},
   "outputs": [],
   "source": [
    "bb = graph.source"
   ]
  },
  {
   "cell_type": "code",
   "execution_count": 56,
   "metadata": {},
   "outputs": [
    {
     "data": {
      "text/plain": [
       "True"
      ]
     },
     "execution_count": 56,
     "metadata": {},
     "output_type": "execute_result"
    }
   ],
   "source": [
    "aa == bb"
   ]
  },
  {
   "cell_type": "code",
   "execution_count": 13,
   "metadata": {},
   "outputs": [
    {
     "data": {
      "image/png": "[encoded data removed]",
      "text/plain": [
       "<Figure size 800x800 with 1 Axes>"
      ]
     },
     "metadata": {},
     "output_type": "display_data"
    }
   ],
   "source": [
    "CMGDB_utils.PlotMorseSets(morse_graph, cubical_complex, morse_nodes=[1, 2, 0])"
   ]
  },
  {
   "cell_type": "code",
   "execution_count": null,
   "metadata": {},
   "outputs": [],
   "source": []
  },
  {
   "cell_type": "code",
   "execution_count": null,
   "metadata": {},
   "outputs": [],
   "source": []
  },
  {
   "cell_type": "code",
   "execution_count": 63,
   "metadata": {},
   "outputs": [],
   "source": [
    "grid_size = [2, 2]\n",
    "\n",
    "edges = [(0, 0), (1, 0), (1, 1), (2, 0), (2, 2), (3, 0), (3, 1), (3, 2), (3, 3)]"
   ]
  },
  {
   "cell_type": "code",
   "execution_count": 64,
   "metadata": {},
   "outputs": [],
   "source": [
    "morse_graph, cubical_complex = compute_dynamics(edges, grid_size)"
   ]
  },
  {
   "cell_type": "code",
   "execution_count": 66,
   "metadata": {},
   "outputs": [],
   "source": [
    "gv_graph = CMGDB_utils.PlotMorseGraph(morse_graph)"
   ]
  },
  {
   "cell_type": "code",
   "execution_count": 67,
   "metadata": {},
   "outputs": [
    {
     "data": {
      "text/plain": [
       "'digraph {\\n0 [label=\"0 : (x-1, 0, 0)\", shape=ellipse, style=filled, fillcolor=\"#1f77b4ff\", margin=\"0.11, 0.055\"];\\n1 [label=\"1 : (0, 0, 0)\", shape=ellipse, style=filled, fillcolor=\"#d62728ff\", margin=\"0.11, 0.055\"];\\n2 [label=\"2 : (0, 0, 0)\", shape=ellipse, style=filled, fillcolor=\"#f7b6d2ff\", margin=\"0.11, 0.055\"];\\n3 [label=\"3 : (0, 0, 0)\", shape=ellipse, style=filled, fillcolor=\"#9edae5ff\", margin=\"0.11, 0.055\"];\\n{rank=same; 0 }; \\n1 -> 0;\\n2 -> 0;\\n3 -> 1;\\n3 -> 2;\\n}\\n'"
      ]
     },
     "execution_count": 67,
     "metadata": {},
     "output_type": "execute_result"
    }
   ],
   "source": [
    "str(gv_graph)"
   ]
  },
  {
   "cell_type": "code",
   "execution_count": 19,
   "metadata": {},
   "outputs": [
    {
     "data": {
      "image/png": "[encoded data removed]",
      "text/plain": [
       "<Figure size 800x800 with 1 Axes>"
      ]
     },
     "metadata": {},
     "output_type": "display_data"
    }
   ],
   "source": [
    "CMGDB_utils.PlotMorseSets(morse_graph, cubical_complex)"
   ]
  },
  {
   "cell_type": "code",
   "execution_count": null,
   "metadata": {},
   "outputs": [],
   "source": []
  },
  {
   "cell_type": "code",
   "execution_count": null,
   "metadata": {},
   "outputs": [],
   "source": []
  },
  {
   "cell_type": "code",
   "execution_count": null,
   "metadata": {},
   "outputs": [],
   "source": []
  },
  {
   "cell_type": "code",
   "execution_count": 3,
   "metadata": {},
   "outputs": [
    {
     "ename": "NameError",
     "evalue": "name 'map_graph' is not defined",
     "output_type": "error",
     "traceback": [
      "\u001b[0;31m---------------------------------------------------------------------------\u001b[0m",
      "\u001b[0;31mNameError\u001b[0m                                 Traceback (most recent call last)",
      "Cell \u001b[0;32mIn[3], line 5\u001b[0m\n\u001b[1;32m      3\u001b[0m edges \u001b[38;5;241m=\u001b[39m []\n\u001b[1;32m      4\u001b[0m \u001b[38;5;28;01mfor\u001b[39;00m v1 \u001b[38;5;129;01min\u001b[39;00m \u001b[38;5;28mrange\u001b[39m(\u001b[38;5;241m20\u001b[39m):\n\u001b[0;32m----> 5\u001b[0m     \u001b[38;5;28;01mfor\u001b[39;00m v2 \u001b[38;5;129;01min\u001b[39;00m map_graph\u001b[38;5;241m.\u001b[39madjacencies(v1):\n\u001b[1;32m      6\u001b[0m         edges\u001b[38;5;241m.\u001b[39mappend((v1, v2))\n\u001b[1;32m      8\u001b[0m \u001b[38;5;28mprint\u001b[39m(edges)\n",
      "\u001b[0;31mNameError\u001b[0m: name 'map_graph' is not defined"
     ]
    }
   ],
   "source": [
    "grid_size = [20]\n",
    "\n",
    "edges = []\n",
    "for v1 in range(20):\n",
    "    for v2 in map_graph.adjacencies(v1):\n",
    "        edges.append((v1, v2))\n",
    "\n",
    "print(edges)"
   ]
  },
  {
   "cell_type": "code",
   "execution_count": 169,
   "metadata": {},
   "outputs": [
    {
     "name": "stdout",
     "output_type": "stream",
     "text": [
      "defaultdict(<class 'list'>, {0: [0, 1], 1: [0, 1], 2: [0, 1, 2, 3], 3: [1, 2, 3, 4], 4: [2, 3, 4, 5, 6, 7], 5: [4, 5, 6, 7, 8, 9, 10], 6: [7, 8, 9, 10], 7: [8, 9, 10, 11, 12], 8: [10, 11, 12, 13], 9: [11, 12, 13, 14], 10: [12, 13, 14], 11: [13, 14, 15], 12: [14, 15], 13: [14, 15], 14: [14, 15, 16], 15: [14, 15, 16], 16: [14, 15, 16], 17: [14, 15, 16], 18: [14, 15, 16], 19: [13, 14, 15, 16]})\n"
     ]
    }
   ],
   "source": [
    "compute_stuff(edges, grid_size)"
   ]
  },
  {
   "cell_type": "code",
   "execution_count": null,
   "metadata": {},
   "outputs": [],
   "source": [
    "lower_bounds = [0.0, 0.0]\n",
    "upper_bounds = [90.0, 70.0]\n",
    "grid_size = [200, 200]\n",
    "\n",
    "model = CMGDB_utils.Model(lower_bounds, upper_bounds, grid_size, F, map_type='MultiBoxMap', padding=False)"
   ]
  },
  {
   "cell_type": "code",
   "execution_count": null,
   "metadata": {},
   "outputs": [],
   "source": [
    "Model:\n",
    "    def __init__(self, lower_bounds, upper_bounds, grid_size, F, periodic=None, map_type='BoxMap', padding=False):"
   ]
  },
  {
   "cell_type": "code",
   "execution_count": null,
   "metadata": {},
   "outputs": [],
   "source": [
    "ComputeConleyMorseGraph(model, acyclic_check=True)"
   ]
  },
  {
   "cell_type": "code",
   "execution_count": null,
   "metadata": {},
   "outputs": [],
   "source": []
  },
  {
   "cell_type": "code",
   "execution_count": 2,
   "metadata": {},
   "outputs": [],
   "source": [
    "import DSGRN\n",
    "import DSGRN_utils\n",
    "import CMGDB_utils\n",
    "import pychomp\n",
    "\n",
    "import random\n",
    "import time"
   ]
  },
  {
   "cell_type": "code",
   "execution_count": 3,
   "metadata": {},
   "outputs": [],
   "source": [
    "import CMGDB"
   ]
  },
  {
   "cell_type": "code",
   "execution_count": 157,
   "metadata": {},
   "outputs": [],
   "source": [
    "def f(x):\n",
    "    a = 1.0\n",
    "    b = 0.1\n",
    "    r = 2.1 # 1.9\n",
    "    return [x[0] * np.exp(r - x[0] - a / (x[0] + b))]\n",
    "\n",
    "def F(rect):\n",
    "    return CMGDB.BoxMap(f, rect, padding=True)\n",
    "\n",
    "lower_bounds = [0.0]\n",
    "upper_bounds = [2.0]\n",
    "\n",
    "subdiv_min = 4\n",
    "subdiv_max = 5\n",
    "subdiv_init = 4\n",
    "subdiv_limit = 10000\n",
    "\n",
    "model = CMGDB.Model(subdiv_min, subdiv_max, subdiv_init, subdiv_limit, lower_bounds, upper_bounds, F)"
   ]
  },
  {
   "cell_type": "code",
   "execution_count": null,
   "metadata": {},
   "outputs": [],
   "source": [
    "0: [1]\n",
    "1: [2]\n",
    "2: [4]\n",
    "3: [8]\n",
    "4: [16]\n",
    "5: [32]"
   ]
  },
  {
   "cell_type": "code",
   "execution_count": 158,
   "metadata": {},
   "outputs": [
    {
     "name": "stdout",
     "output_type": "stream",
     "text": [
      "CPU times: user 1.28 ms, sys: 91 μs, total: 1.37 ms\n",
      "Wall time: 1.37 ms\n"
     ]
    }
   ],
   "source": [
    "%%time\n",
    "morse_graph, map_graph = CMGDB.ComputeMorseGraph(model)"
   ]
  },
  {
   "cell_type": "code",
   "execution_count": 159,
   "metadata": {},
   "outputs": [
    {
     "data": {
      "image/svg+xml": [
       "<?xml version=\"1.0\" encoding=\"UTF-8\" standalone=\"no\"?>\n",
       "<!DOCTYPE svg PUBLIC \"-//W3C//DTD SVG 1.1//EN\"\n",
       " \"http://www.w3.org/Graphics/SVG/1.1/DTD/svg11.dtd\">\n",
       "<!-- Generated by graphviz version 2.50.0 (0)\n",
       " -->\n",
       "<!-- Pages: 1 -->\n",
       "<svg width=\"134pt\" height=\"116pt\"\n",
       " viewBox=\"0.00 0.00 134.00 116.00\" xmlns=\"http://www.w3.org/2000/svg\" xmlns:xlink=\"http://www.w3.org/1999/xlink\">\n",
       "<g id=\"graph0\" class=\"graph\" transform=\"scale(1 1) rotate(0) translate(4 112)\">\n",
       "<polygon fill=\"white\" stroke=\"transparent\" points=\"-4,4 -4,-112 130,-112 130,4 -4,4\"/>\n",
       "<!-- 0 -->\n",
       "<g id=\"node1\" class=\"node\">\n",
       "<title>0</title>\n",
       "<ellipse fill=\"#1f77b4\" stroke=\"black\" cx=\"27\" cy=\"-18\" rx=\"27\" ry=\"18\"/>\n",
       "<text text-anchor=\"middle\" x=\"27\" y=\"-14.3\" font-family=\"Times,serif\" font-size=\"14.00\">0</text>\n",
       "</g>\n",
       "<!-- 1 -->\n",
       "<g id=\"node2\" class=\"node\">\n",
       "<title>1</title>\n",
       "<ellipse fill=\"#8c564b\" stroke=\"black\" cx=\"99\" cy=\"-18\" rx=\"27\" ry=\"18\"/>\n",
       "<text text-anchor=\"middle\" x=\"99\" y=\"-14.3\" font-family=\"Times,serif\" font-size=\"14.00\">1</text>\n",
       "</g>\n",
       "<!-- 2 -->\n",
       "<g id=\"node3\" class=\"node\">\n",
       "<title>2</title>\n",
       "<ellipse fill=\"#9edae5\" stroke=\"black\" cx=\"63\" cy=\"-90\" rx=\"27\" ry=\"18\"/>\n",
       "<text text-anchor=\"middle\" x=\"63\" y=\"-86.3\" font-family=\"Times,serif\" font-size=\"14.00\">2</text>\n",
       "</g>\n",
       "<!-- 2&#45;&gt;0 -->\n",
       "<g id=\"edge2\" class=\"edge\">\n",
       "<title>2&#45;&gt;0</title>\n",
       "<path fill=\"none\" stroke=\"black\" d=\"M54.65,-72.76C50.29,-64.28 44.85,-53.71 39.96,-44.2\"/>\n",
       "<polygon fill=\"black\" stroke=\"black\" points=\"42.99,-42.44 35.3,-35.15 36.77,-45.64 42.99,-42.44\"/>\n",
       "</g>\n",
       "<!-- 2&#45;&gt;1 -->\n",
       "<g id=\"edge1\" class=\"edge\">\n",
       "<title>2&#45;&gt;1</title>\n",
       "<path fill=\"none\" stroke=\"black\" d=\"M71.35,-72.76C75.71,-64.28 81.15,-53.71 86.04,-44.2\"/>\n",
       "<polygon fill=\"black\" stroke=\"black\" points=\"89.23,-45.64 90.7,-35.15 83.01,-42.44 89.23,-45.64\"/>\n",
       "</g>\n",
       "</g>\n",
       "</svg>\n"
      ],
      "text/plain": [
       "<graphviz.sources.Source at 0x112461a90>"
      ]
     },
     "execution_count": 159,
     "metadata": {},
     "output_type": "execute_result"
    }
   ],
   "source": [
    "CMGDB.PlotMorseGraph(morse_graph)"
   ]
  },
  {
   "cell_type": "code",
   "execution_count": 160,
   "metadata": {},
   "outputs": [
    {
     "data": {
      "text/plain": [
       "20"
      ]
     },
     "execution_count": 160,
     "metadata": {},
     "output_type": "execute_result"
    }
   ],
   "source": [
    "map_graph.num_vertices()"
   ]
  },
  {
   "cell_type": "code",
   "execution_count": 161,
   "metadata": {},
   "outputs": [
    {
     "data": {
      "text/plain": [
       "[0, 1]"
      ]
     },
     "execution_count": 161,
     "metadata": {},
     "output_type": "execute_result"
    }
   ],
   "source": [
    "map_graph.adjacencies(0)"
   ]
  },
  {
   "cell_type": "code",
   "execution_count": 162,
   "metadata": {},
   "outputs": [
    {
     "name": "stdout",
     "output_type": "stream",
     "text": [
      "[(0, 0), (0, 1), (1, 0), (1, 1), (2, 0), (2, 1), (2, 2), (2, 3), (3, 1), (3, 2), (3, 3), (3, 4), (4, 2), (4, 3), (4, 4), (4, 5), (4, 6), (4, 7), (5, 4), (5, 5), (5, 6), (5, 7), (5, 8), (5, 9), (5, 10), (6, 7), (6, 8), (6, 9), (6, 10), (7, 8), (7, 9), (7, 10), (7, 11), (7, 12), (8, 10), (8, 11), (8, 12), (8, 13), (9, 11), (9, 12), (9, 13), (9, 14), (10, 12), (10, 13), (10, 14), (11, 13), (11, 14), (11, 15), (12, 14), (12, 15), (13, 14), (13, 15), (14, 14), (14, 15), (14, 16), (15, 14), (15, 15), (15, 16), (16, 14), (16, 15), (16, 16), (17, 14), (17, 15), (17, 16), (18, 14), (18, 15), (18, 16), (19, 13), (19, 14), (19, 15), (19, 16)]\n"
     ]
    }
   ],
   "source": [
    "grid_size = [20]\n",
    "\n",
    "edges = []\n",
    "for v1 in range(20):\n",
    "    for v2 in map_graph.adjacencies(v1):\n",
    "        edges.append((v1, v2))\n",
    "\n",
    "print(edges)"
   ]
  },
  {
   "cell_type": "code",
   "execution_count": null,
   "metadata": {},
   "outputs": [],
   "source": []
  },
  {
   "cell_type": "code",
   "execution_count": null,
   "metadata": {},
   "outputs": [],
   "source": []
  },
  {
   "cell_type": "code",
   "execution_count": 4,
   "metadata": {},
   "outputs": [],
   "source": [
    "def f(x):\n",
    "    return [x[0] / (2.0 - x[0]), x[1] / (2.0 - x[1])]\n",
    "\n",
    "def F(rect):\n",
    "    return CMGDB.BoxMap(f, rect, padding=False)\n",
    "\n",
    "subdiv_min = 2\n",
    "subdiv_max = 3\n",
    "subdiv_init = 2\n",
    "subdiv_limit = 10000\n",
    "lower_bounds = [0.0, 0.0]\n",
    "upper_bounds = [1.0, 1.0]\n",
    "\n",
    "model = CMGDB.Model(subdiv_min, subdiv_max, subdiv_init, subdiv_limit, lower_bounds, upper_bounds, F)"
   ]
  },
  {
   "cell_type": "code",
   "execution_count": 5,
   "metadata": {},
   "outputs": [
    {
     "name": "stdout",
     "output_type": "stream",
     "text": [
      "CPU times: user 614 μs, sys: 79 μs, total: 693 μs\n",
      "Wall time: 702 μs\n"
     ]
    }
   ],
   "source": [
    "%%time\n",
    "morse_graph, map_graph = CMGDB.ComputeMorseGraph(model)"
   ]
  },
  {
   "cell_type": "code",
   "execution_count": 6,
   "metadata": {},
   "outputs": [
    {
     "data": {
      "image/svg+xml": [
       "<?xml version=\"1.0\" encoding=\"UTF-8\" standalone=\"no\"?>\n",
       "<!DOCTYPE svg PUBLIC \"-//W3C//DTD SVG 1.1//EN\"\n",
       " \"http://www.w3.org/Graphics/SVG/1.1/DTD/svg11.dtd\">\n",
       "<!-- Generated by graphviz version 2.50.0 (0)\n",
       " -->\n",
       "<!-- Pages: 1 -->\n",
       "<svg width=\"134pt\" height=\"188pt\"\n",
       " viewBox=\"0.00 0.00 134.00 188.00\" xmlns=\"http://www.w3.org/2000/svg\" xmlns:xlink=\"http://www.w3.org/1999/xlink\">\n",
       "<g id=\"graph0\" class=\"graph\" transform=\"scale(1 1) rotate(0) translate(4 184)\">\n",
       "<polygon fill=\"white\" stroke=\"transparent\" points=\"-4,4 -4,-184 130,-184 130,4 -4,4\"/>\n",
       "<!-- 0 -->\n",
       "<g id=\"node1\" class=\"node\">\n",
       "<title>0</title>\n",
       "<ellipse fill=\"#1f77b4\" stroke=\"black\" cx=\"63\" cy=\"-18\" rx=\"27\" ry=\"18\"/>\n",
       "<text text-anchor=\"middle\" x=\"63\" y=\"-14.3\" font-family=\"Times,serif\" font-size=\"14.00\">0</text>\n",
       "</g>\n",
       "<!-- 1 -->\n",
       "<g id=\"node2\" class=\"node\">\n",
       "<title>1</title>\n",
       "<ellipse fill=\"#d62728\" stroke=\"black\" cx=\"27\" cy=\"-90\" rx=\"27\" ry=\"18\"/>\n",
       "<text text-anchor=\"middle\" x=\"27\" y=\"-86.3\" font-family=\"Times,serif\" font-size=\"14.00\">1</text>\n",
       "</g>\n",
       "<!-- 1&#45;&gt;0 -->\n",
       "<g id=\"edge1\" class=\"edge\">\n",
       "<title>1&#45;&gt;0</title>\n",
       "<path fill=\"none\" stroke=\"black\" d=\"M35.35,-72.76C39.71,-64.28 45.15,-53.71 50.04,-44.2\"/>\n",
       "<polygon fill=\"black\" stroke=\"black\" points=\"53.23,-45.64 54.7,-35.15 47.01,-42.44 53.23,-45.64\"/>\n",
       "</g>\n",
       "<!-- 2 -->\n",
       "<g id=\"node3\" class=\"node\">\n",
       "<title>2</title>\n",
       "<ellipse fill=\"#f7b6d2\" stroke=\"black\" cx=\"99\" cy=\"-90\" rx=\"27\" ry=\"18\"/>\n",
       "<text text-anchor=\"middle\" x=\"99\" y=\"-86.3\" font-family=\"Times,serif\" font-size=\"14.00\">2</text>\n",
       "</g>\n",
       "<!-- 2&#45;&gt;0 -->\n",
       "<g id=\"edge2\" class=\"edge\">\n",
       "<title>2&#45;&gt;0</title>\n",
       "<path fill=\"none\" stroke=\"black\" d=\"M90.65,-72.76C86.29,-64.28 80.85,-53.71 75.96,-44.2\"/>\n",
       "<polygon fill=\"black\" stroke=\"black\" points=\"78.99,-42.44 71.3,-35.15 72.77,-45.64 78.99,-42.44\"/>\n",
       "</g>\n",
       "<!-- 3 -->\n",
       "<g id=\"node4\" class=\"node\">\n",
       "<title>3</title>\n",
       "<ellipse fill=\"#9edae5\" stroke=\"black\" cx=\"63\" cy=\"-162\" rx=\"27\" ry=\"18\"/>\n",
       "<text text-anchor=\"middle\" x=\"63\" y=\"-158.3\" font-family=\"Times,serif\" font-size=\"14.00\">3</text>\n",
       "</g>\n",
       "<!-- 3&#45;&gt;1 -->\n",
       "<g id=\"edge4\" class=\"edge\">\n",
       "<title>3&#45;&gt;1</title>\n",
       "<path fill=\"none\" stroke=\"black\" d=\"M54.65,-144.76C50.29,-136.28 44.85,-125.71 39.96,-116.2\"/>\n",
       "<polygon fill=\"black\" stroke=\"black\" points=\"42.99,-114.44 35.3,-107.15 36.77,-117.64 42.99,-114.44\"/>\n",
       "</g>\n",
       "<!-- 3&#45;&gt;2 -->\n",
       "<g id=\"edge3\" class=\"edge\">\n",
       "<title>3&#45;&gt;2</title>\n",
       "<path fill=\"none\" stroke=\"black\" d=\"M71.35,-144.76C75.71,-136.28 81.15,-125.71 86.04,-116.2\"/>\n",
       "<polygon fill=\"black\" stroke=\"black\" points=\"89.23,-117.64 90.7,-107.15 83.01,-114.44 89.23,-117.64\"/>\n",
       "</g>\n",
       "</g>\n",
       "</svg>\n"
      ],
      "text/plain": [
       "<graphviz.sources.Source at 0x113386b90>"
      ]
     },
     "execution_count": 6,
     "metadata": {},
     "output_type": "execute_result"
    }
   ],
   "source": [
    "CMGDB.PlotMorseGraph(morse_graph)"
   ]
  },
  {
   "cell_type": "code",
   "execution_count": 7,
   "metadata": {},
   "outputs": [
    {
     "data": {
      "text/plain": [
       "[0.0, 0.0, 0.5, 0.5]"
      ]
     },
     "execution_count": 7,
     "metadata": {},
     "output_type": "execute_result"
    }
   ],
   "source": [
    "morse_graph.phase_space_box(0)"
   ]
  },
  {
   "cell_type": "code",
   "execution_count": 8,
   "metadata": {},
   "outputs": [
    {
     "data": {
      "text/plain": [
       "[0.0, 0.5, 0.5, 1.0]"
      ]
     },
     "execution_count": 8,
     "metadata": {},
     "output_type": "execute_result"
    }
   ],
   "source": [
    "morse_graph.phase_space_box(1)"
   ]
  },
  {
   "cell_type": "code",
   "execution_count": 9,
   "metadata": {},
   "outputs": [
    {
     "data": {
      "text/plain": [
       "4"
      ]
     },
     "execution_count": 9,
     "metadata": {},
     "output_type": "execute_result"
    }
   ],
   "source": [
    "map_graph.num_vertices()"
   ]
  },
  {
   "cell_type": "code",
   "execution_count": null,
   "metadata": {},
   "outputs": [],
   "source": [
    "0: [1, 1]\n",
    "1: [2, 1]\n",
    "2: [2, 2]\n",
    "3: [4, 2]\n",
    "4: [4, 4]\n",
    "5: [8, 4]"
   ]
  },
  {
   "cell_type": "code",
   "execution_count": 10,
   "metadata": {},
   "outputs": [
    {
     "name": "stdout",
     "output_type": "stream",
     "text": [
      "[(0, 0), (1, 0), (1, 1), (2, 0), (2, 2), (3, 0), (3, 1), (3, 2), (3, 3)]\n"
     ]
    }
   ],
   "source": [
    "grid_size = [2, 2]\n",
    "\n",
    "edges = []\n",
    "for v1 in range(4):\n",
    "    for v2 in map_graph.adjacencies(v1):\n",
    "        edges.append((v1, v2))\n",
    "\n",
    "print(edges)"
   ]
  },
  {
   "cell_type": "code",
   "execution_count": null,
   "metadata": {},
   "outputs": [],
   "source": []
  },
  {
   "cell_type": "code",
   "execution_count": 61,
   "metadata": {},
   "outputs": [],
   "source": [
    "import numpy as np"
   ]
  },
  {
   "cell_type": "code",
   "execution_count": 62,
   "metadata": {},
   "outputs": [],
   "source": [
    "grid_size = (3, 4)"
   ]
  },
  {
   "cell_type": "code",
   "execution_count": 70,
   "metadata": {},
   "outputs": [
    {
     "data": {
      "text/plain": [
       "(1, 0)"
      ]
     },
     "execution_count": 70,
     "metadata": {},
     "output_type": "execute_result"
    }
   ],
   "source": [
    "index = 1\n",
    "np.unravel_index(index, grid_size, order='F')"
   ]
  },
  {
   "cell_type": "code",
   "execution_count": null,
   "metadata": {},
   "outputs": [],
   "source": [
    "np.ravel_multi_index(coords, self.grid_size, order='F')"
   ]
  },
  {
   "cell_type": "code",
   "execution_count": null,
   "metadata": {},
   "outputs": [],
   "source": []
  },
  {
   "cell_type": "code",
   "execution_count": 2,
   "metadata": {},
   "outputs": [
    {
     "data": {
      "image/svg+xml": [
       "<?xml version=\"1.0\" encoding=\"UTF-8\" standalone=\"no\"?>\n",
       "<!DOCTYPE svg PUBLIC \"-//W3C//DTD SVG 1.1//EN\"\n",
       " \"http://www.w3.org/Graphics/SVG/1.1/DTD/svg11.dtd\">\n",
       "<!-- Generated by graphviz version 2.50.0 (0)\n",
       " -->\n",
       "<!-- Pages: 1 -->\n",
       "<svg width=\"80pt\" height=\"116pt\"\n",
       " viewBox=\"0.00 0.00 80.00 116.00\" xmlns=\"http://www.w3.org/2000/svg\" xmlns:xlink=\"http://www.w3.org/1999/xlink\">\n",
       "<g id=\"graph0\" class=\"graph\" transform=\"scale(1 1) rotate(0) translate(4 112)\">\n",
       "<polygon fill=\"aliceblue\" stroke=\"transparent\" points=\"-4,4 -4,-112 76,-112 76,4 -4,4\"/>\n",
       "<!-- x -->\n",
       "<g id=\"node1\" class=\"node\">\n",
       "<title>x</title>\n",
       "<ellipse fill=\"beige\" stroke=\"black\" cx=\"27\" cy=\"-90\" rx=\"27\" ry=\"18\"/>\n",
       "<text text-anchor=\"middle\" x=\"27\" y=\"-86.3\" font-family=\"Times,serif\" font-size=\"14.00\">x</text>\n",
       "</g>\n",
       "<!-- x&#45;&gt;x -->\n",
       "<g id=\"edge1\" class=\"edge\">\n",
       "<title>x&#45;&gt;x</title>\n",
       "<path fill=\"none\" stroke=\"black\" d=\"M46.9,-102.43C59.69,-105.68 72,-101.53 72,-90 72,-81.62 65.5,-77.14 57.04,-76.56\"/>\n",
       "<polygon fill=\"black\" stroke=\"black\" points=\"56.5,-73.1 46.9,-77.57 57.19,-80.07 56.5,-73.1\"/>\n",
       "</g>\n",
       "<!-- y -->\n",
       "<g id=\"node2\" class=\"node\">\n",
       "<title>y</title>\n",
       "<ellipse fill=\"beige\" stroke=\"black\" cx=\"27\" cy=\"-18\" rx=\"27\" ry=\"18\"/>\n",
       "<text text-anchor=\"middle\" x=\"27\" y=\"-14.3\" font-family=\"Times,serif\" font-size=\"14.00\">y</text>\n",
       "</g>\n",
       "<!-- x&#45;&gt;y -->\n",
       "<g id=\"edge4\" class=\"edge\">\n",
       "<title>x&#45;&gt;y</title>\n",
       "<path fill=\"none\" stroke=\"darkgoldenrod\" d=\"M21.16,-72.41C20.14,-63.05 19.98,-51.22 20.68,-41.08\"/>\n",
       "<polygon fill=\"darkgoldenrod\" stroke=\"darkgoldenrod\" points=\"16.05,-36.52 26.02,-37.38 25.84,-39.38 15.88,-38.51 16.05,-36.52\"/>\n",
       "<polyline fill=\"none\" stroke=\"darkgoldenrod\" points=\"21.12,-35.96 20.69,-40.94 \"/>\n",
       "</g>\n",
       "<!-- y&#45;&gt;x -->\n",
       "<g id=\"edge2\" class=\"edge\">\n",
       "<title>y&#45;&gt;x</title>\n",
       "<path fill=\"none\" stroke=\"black\" d=\"M32.88,-35.96C33.71,-43.83 33.95,-53.37 33.58,-62.19\"/>\n",
       "<polygon fill=\"black\" stroke=\"black\" points=\"30.07,-62.18 32.84,-72.41 37.06,-62.69 30.07,-62.18\"/>\n",
       "</g>\n",
       "<!-- y&#45;&gt;y -->\n",
       "<g id=\"edge3\" class=\"edge\">\n",
       "<title>y&#45;&gt;y</title>\n",
       "<path fill=\"none\" stroke=\"black\" d=\"M46.9,-30.43C59.69,-33.68 72,-29.53 72,-18 72,-9.62 65.5,-5.14 57.04,-4.56\"/>\n",
       "<polygon fill=\"black\" stroke=\"black\" points=\"56.5,-1.1 46.9,-5.57 57.19,-8.07 56.5,-1.1\"/>\n",
       "</g>\n",
       "</g>\n",
       "</svg>\n"
      ],
      "text/plain": [
       "<graphviz.sources.Source at 0x110806290>"
      ]
     },
     "execution_count": 2,
     "metadata": {},
     "output_type": "execute_result"
    }
   ],
   "source": [
    "net_spec = \"\"\"x : x + y\n",
    "              y : (~x) y\"\"\"\n",
    "\n",
    "network = DSGRN.Network(net_spec)\n",
    "\n",
    "DSGRN.DrawGraph(network)"
   ]
  },
  {
   "cell_type": "code",
   "execution_count": 3,
   "metadata": {},
   "outputs": [
    {
     "name": "stdout",
     "output_type": "stream",
     "text": [
      "Parameter graph size: 1600\n"
     ]
    }
   ],
   "source": [
    "parameter_graph = DSGRN.ParameterGraph(network)\n",
    "\n",
    "print('Parameter graph size:', parameter_graph.size())"
   ]
  },
  {
   "cell_type": "code",
   "execution_count": 4,
   "metadata": {},
   "outputs": [],
   "source": [
    "# par_index = 752\n",
    "par_index = 987\n",
    "\n",
    "parameter = parameter_graph.parameter(par_index)\n",
    "\n",
    "morse_graph, stg, graded_complex = DSGRN_utils.ConleyMorseGraph(parameter)"
   ]
  },
  {
   "cell_type": "code",
   "execution_count": 5,
   "metadata": {},
   "outputs": [
    {
     "data": {
      "image/svg+xml": [
       "<?xml version=\"1.0\" encoding=\"UTF-8\" standalone=\"no\"?>\n",
       "<!DOCTYPE svg PUBLIC \"-//W3C//DTD SVG 1.1//EN\"\n",
       " \"http://www.w3.org/Graphics/SVG/1.1/DTD/svg11.dtd\">\n",
       "<!-- Generated by graphviz version 2.50.0 (0)\n",
       " -->\n",
       "<!-- Pages: 1 -->\n",
       "<svg width=\"383pt\" height=\"260pt\"\n",
       " viewBox=\"0.00 0.00 382.56 260.00\" xmlns=\"http://www.w3.org/2000/svg\" xmlns:xlink=\"http://www.w3.org/1999/xlink\">\n",
       "<g id=\"graph0\" class=\"graph\" transform=\"scale(1 1) rotate(0) translate(4 256)\">\n",
       "<polygon fill=\"white\" stroke=\"transparent\" points=\"-4,4 -4,-256 378.56,-256 378.56,4 -4,4\"/>\n",
       "<!-- 0 -->\n",
       "<g id=\"node1\" class=\"node\">\n",
       "<title>0</title>\n",
       "<ellipse fill=\"#1f77b4\" fill-opacity=\"0.698039\" stroke=\"black\" cx=\"41.78\" cy=\"-18\" rx=\"38.57\" ry=\"18\"/>\n",
       "<text text-anchor=\"middle\" x=\"41.78\" y=\"-14.3\" font-family=\"Times,serif\" font-size=\"14.00\">0 : (1, 0, 0)</text>\n",
       "</g>\n",
       "<!-- 33 -->\n",
       "<g id=\"node2\" class=\"node\">\n",
       "<title>33</title>\n",
       "<ellipse fill=\"#e377c2\" fill-opacity=\"0.698039\" stroke=\"black\" cx=\"38.78\" cy=\"-90\" rx=\"38.57\" ry=\"18\"/>\n",
       "<text text-anchor=\"middle\" x=\"38.78\" y=\"-86.3\" font-family=\"Times,serif\" font-size=\"14.00\">6 : (0, 1, 0)</text>\n",
       "</g>\n",
       "<!-- 33&#45;&gt;0 -->\n",
       "<g id=\"edge1\" class=\"edge\">\n",
       "<title>33&#45;&gt;0</title>\n",
       "<path fill=\"none\" stroke=\"black\" d=\"M39.52,-71.7C39.85,-63.98 40.25,-54.71 40.62,-46.11\"/>\n",
       "<polygon fill=\"black\" stroke=\"black\" points=\"44.12,-46.25 41.05,-36.1 37.12,-45.95 44.12,-46.25\"/>\n",
       "</g>\n",
       "<!-- 8 -->\n",
       "<g id=\"node4\" class=\"node\">\n",
       "<title>8</title>\n",
       "<ellipse fill=\"#e6550d\" fill-opacity=\"0.698039\" stroke=\"black\" cx=\"141.78\" cy=\"-18\" rx=\"38.57\" ry=\"18\"/>\n",
       "<text text-anchor=\"middle\" x=\"141.78\" y=\"-14.3\" font-family=\"Times,serif\" font-size=\"14.00\">1 : (1, 0, 0)</text>\n",
       "</g>\n",
       "<!-- 33&#45;&gt;8 -->\n",
       "<g id=\"edge2\" class=\"edge\">\n",
       "<title>33&#45;&gt;8</title>\n",
       "<path fill=\"none\" stroke=\"black\" d=\"M60.12,-74.5C75.28,-64.2 95.81,-50.24 112.49,-38.9\"/>\n",
       "<polygon fill=\"black\" stroke=\"black\" points=\"114.52,-41.76 120.82,-33.25 110.58,-35.97 114.52,-41.76\"/>\n",
       "</g>\n",
       "<!-- 37 -->\n",
       "<g id=\"node3\" class=\"node\">\n",
       "<title>37</title>\n",
       "<ellipse fill=\"#bcbd22\" fill-opacity=\"0.698039\" stroke=\"black\" cx=\"268.78\" cy=\"-162\" rx=\"38.57\" ry=\"18\"/>\n",
       "<text text-anchor=\"middle\" x=\"268.78\" y=\"-158.3\" font-family=\"Times,serif\" font-size=\"14.00\">8 : (0, 1, 0)</text>\n",
       "</g>\n",
       "<!-- 10 -->\n",
       "<g id=\"node5\" class=\"node\">\n",
       "<title>10</title>\n",
       "<ellipse fill=\"#31a354\" fill-opacity=\"0.698039\" stroke=\"black\" cx=\"335.78\" cy=\"-18\" rx=\"38.57\" ry=\"18\"/>\n",
       "<text text-anchor=\"middle\" x=\"335.78\" y=\"-14.3\" font-family=\"Times,serif\" font-size=\"14.00\">2 : (1, 0, 0)</text>\n",
       "</g>\n",
       "<!-- 37&#45;&gt;10 -->\n",
       "<g id=\"edge3\" class=\"edge\">\n",
       "<title>37&#45;&gt;10</title>\n",
       "<path fill=\"none\" stroke=\"black\" d=\"M286.88,-145.56C297.17,-135.81 309.43,-122.37 316.78,-108 326.65,-88.72 331.4,-64.57 333.68,-46.29\"/>\n",
       "<polygon fill=\"black\" stroke=\"black\" points=\"337.17,-46.6 334.76,-36.29 330.21,-45.85 337.17,-46.6\"/>\n",
       "</g>\n",
       "<!-- 19 -->\n",
       "<g id=\"node9\" class=\"node\">\n",
       "<title>19</title>\n",
       "<ellipse fill=\"#8c564b\" fill-opacity=\"0.698039\" stroke=\"black\" cx=\"268.78\" cy=\"-90\" rx=\"38.57\" ry=\"18\"/>\n",
       "<text text-anchor=\"middle\" x=\"268.78\" y=\"-86.3\" font-family=\"Times,serif\" font-size=\"14.00\">5 : (0, 0, 0)</text>\n",
       "</g>\n",
       "<!-- 37&#45;&gt;19 -->\n",
       "<g id=\"edge4\" class=\"edge\">\n",
       "<title>37&#45;&gt;19</title>\n",
       "<path fill=\"none\" stroke=\"black\" d=\"M268.78,-143.7C268.78,-135.98 268.78,-126.71 268.78,-118.11\"/>\n",
       "<polygon fill=\"black\" stroke=\"black\" points=\"272.28,-118.1 268.78,-108.1 265.28,-118.1 272.28,-118.1\"/>\n",
       "</g>\n",
       "<!-- 42 -->\n",
       "<g id=\"node6\" class=\"node\">\n",
       "<title>42</title>\n",
       "<ellipse fill=\"#80b1d3\" fill-opacity=\"0.698039\" stroke=\"black\" cx=\"138.78\" cy=\"-234\" rx=\"38.57\" ry=\"18\"/>\n",
       "<text text-anchor=\"middle\" x=\"138.78\" y=\"-230.3\" font-family=\"Times,serif\" font-size=\"14.00\">9 : (0, 0, 1)</text>\n",
       "</g>\n",
       "<!-- 42&#45;&gt;33 -->\n",
       "<g id=\"edge6\" class=\"edge\">\n",
       "<title>42&#45;&gt;33</title>\n",
       "<path fill=\"none\" stroke=\"black\" d=\"M110.59,-221.41C92.76,-212.63 70.7,-198.85 57.78,-180 45.33,-161.83 40.8,-137.06 39.27,-118.26\"/>\n",
       "<polygon fill=\"black\" stroke=\"black\" points=\"42.76,-118.02 38.68,-108.24 35.77,-118.43 42.76,-118.02\"/>\n",
       "</g>\n",
       "<!-- 42&#45;&gt;37 -->\n",
       "<g id=\"edge8\" class=\"edge\">\n",
       "<title>42&#45;&gt;37</title>\n",
       "<path fill=\"none\" stroke=\"black\" d=\"M163.23,-219.83C183.66,-208.83 212.98,-193.04 235.54,-180.9\"/>\n",
       "<polygon fill=\"black\" stroke=\"black\" points=\"237.29,-183.93 244.44,-176.11 233.98,-177.77 237.29,-183.93\"/>\n",
       "</g>\n",
       "<!-- 16 -->\n",
       "<g id=\"node7\" class=\"node\">\n",
       "<title>16</title>\n",
       "<ellipse fill=\"#9467bd\" fill-opacity=\"0.698039\" stroke=\"black\" cx=\"172.78\" cy=\"-90\" rx=\"38.57\" ry=\"18\"/>\n",
       "<text text-anchor=\"middle\" x=\"172.78\" y=\"-86.3\" font-family=\"Times,serif\" font-size=\"14.00\">4 : (0, 1, 0)</text>\n",
       "</g>\n",
       "<!-- 42&#45;&gt;16 -->\n",
       "<g id=\"edge5\" class=\"edge\">\n",
       "<title>42&#45;&gt;16</title>\n",
       "<path fill=\"none\" stroke=\"black\" d=\"M143.93,-215.89C146.97,-205.54 150.79,-192.07 153.78,-180 158.88,-159.43 163.86,-135.97 167.43,-118.31\"/>\n",
       "<polygon fill=\"black\" stroke=\"black\" points=\"170.94,-118.63 169.47,-108.14 164.08,-117.26 170.94,-118.63\"/>\n",
       "</g>\n",
       "<!-- 20 -->\n",
       "<g id=\"node10\" class=\"node\">\n",
       "<title>20</title>\n",
       "<ellipse fill=\"#7f7f7f\" fill-opacity=\"0.698039\" stroke=\"black\" cx=\"105.78\" cy=\"-162\" rx=\"38.57\" ry=\"18\"/>\n",
       "<text text-anchor=\"middle\" x=\"105.78\" y=\"-158.3\" font-family=\"Times,serif\" font-size=\"14.00\">7 : (0, 1, 0)</text>\n",
       "</g>\n",
       "<!-- 42&#45;&gt;20 -->\n",
       "<g id=\"edge7\" class=\"edge\">\n",
       "<title>42&#45;&gt;20</title>\n",
       "<path fill=\"none\" stroke=\"black\" d=\"M130.79,-216.05C126.98,-207.97 122.34,-198.12 118.09,-189.11\"/>\n",
       "<polygon fill=\"black\" stroke=\"black\" points=\"121.13,-187.34 113.7,-179.79 114.8,-190.33 121.13,-187.34\"/>\n",
       "</g>\n",
       "<!-- 16&#45;&gt;8 -->\n",
       "<g id=\"edge9\" class=\"edge\">\n",
       "<title>16&#45;&gt;8</title>\n",
       "<path fill=\"none\" stroke=\"black\" d=\"M165.28,-72.05C161.7,-63.97 157.34,-54.12 153.35,-45.11\"/>\n",
       "<polygon fill=\"black\" stroke=\"black\" points=\"156.47,-43.52 149.22,-35.79 150.07,-46.35 156.47,-43.52\"/>\n",
       "</g>\n",
       "<!-- 16&#45;&gt;10 -->\n",
       "<g id=\"edge10\" class=\"edge\">\n",
       "<title>16&#45;&gt;10</title>\n",
       "<path fill=\"none\" stroke=\"black\" d=\"M200.43,-77.13C227.56,-65.48 269.1,-47.64 299,-34.8\"/>\n",
       "<polygon fill=\"black\" stroke=\"black\" points=\"300.46,-37.98 308.27,-30.82 297.7,-31.55 300.46,-37.98\"/>\n",
       "</g>\n",
       "<!-- 18 -->\n",
       "<g id=\"node8\" class=\"node\">\n",
       "<title>18</title>\n",
       "<ellipse fill=\"#d62728\" fill-opacity=\"0.698039\" stroke=\"black\" cx=\"239.78\" cy=\"-18\" rx=\"38.57\" ry=\"18\"/>\n",
       "<text text-anchor=\"middle\" x=\"239.78\" y=\"-14.3\" font-family=\"Times,serif\" font-size=\"14.00\">3 : (1, 0, 0)</text>\n",
       "</g>\n",
       "<!-- 19&#45;&gt;18 -->\n",
       "<g id=\"edge11\" class=\"edge\">\n",
       "<title>19&#45;&gt;18</title>\n",
       "<path fill=\"none\" stroke=\"black\" d=\"M261.76,-72.05C258.41,-63.97 254.33,-54.12 250.6,-45.11\"/>\n",
       "<polygon fill=\"black\" stroke=\"black\" points=\"253.8,-43.69 246.74,-35.79 247.33,-46.37 253.8,-43.69\"/>\n",
       "</g>\n",
       "<!-- 20&#45;&gt;0 -->\n",
       "<g id=\"edge12\" class=\"edge\">\n",
       "<title>20&#45;&gt;0</title>\n",
       "<path fill=\"none\" stroke=\"black\" d=\"M104.62,-143.79C102.8,-125.24 98.22,-95.25 86.78,-72 81.48,-61.22 73.5,-50.81 65.72,-42.11\"/>\n",
       "<polygon fill=\"black\" stroke=\"black\" points=\"68.11,-39.55 58.72,-34.65 63.01,-44.34 68.11,-39.55\"/>\n",
       "</g>\n",
       "<!-- 20&#45;&gt;19 -->\n",
       "<g id=\"edge13\" class=\"edge\">\n",
       "<title>20&#45;&gt;19</title>\n",
       "<path fill=\"none\" stroke=\"black\" d=\"M133.43,-149.13C160.56,-137.48 202.1,-119.64 232,-106.8\"/>\n",
       "<polygon fill=\"black\" stroke=\"black\" points=\"233.46,-109.98 241.27,-102.82 230.7,-103.55 233.46,-109.98\"/>\n",
       "</g>\n",
       "</g>\n",
       "</svg>\n"
      ],
      "text/plain": [
       "<graphviz.sources.Source at 0x110bc4550>"
      ]
     },
     "execution_count": 5,
     "metadata": {},
     "output_type": "execute_result"
    }
   ],
   "source": [
    "DSGRN_utils.PlotMorseGraph(morse_graph)"
   ]
  },
  {
   "cell_type": "code",
   "execution_count": 6,
   "metadata": {},
   "outputs": [
    {
     "name": "stdout",
     "output_type": "stream",
     "text": [
      "CPU times: user 4.46 ms, sys: 566 μs, total: 5.03 ms\n",
      "Wall time: 4.71 ms\n"
     ]
    }
   ],
   "source": [
    "%%time\n",
    "latt_attractors = CMGDB_utils.lattice_attractors(morse_graph)"
   ]
  },
  {
   "cell_type": "code",
   "execution_count": 7,
   "metadata": {},
   "outputs": [
    {
     "name": "stdout",
     "output_type": "stream",
     "text": [
      "CPU times: user 4.25 ms, sys: 153 μs, total: 4.4 ms\n",
      "Wall time: 4.39 ms\n"
     ]
    }
   ],
   "source": [
    "%%time\n",
    "latt_repellers = CMGDB_utils.lattice_repellers(morse_graph)"
   ]
  },
  {
   "cell_type": "code",
   "execution_count": 8,
   "metadata": {},
   "outputs": [
    {
     "data": {
      "image/svg+xml": [
       "<?xml version=\"1.0\" encoding=\"UTF-8\" standalone=\"no\"?>\n",
       "<!DOCTYPE svg PUBLIC \"-//W3C//DTD SVG 1.1//EN\"\n",
       " \"http://www.w3.org/Graphics/SVG/1.1/DTD/svg11.dtd\">\n",
       "<!-- Generated by graphviz version 2.50.0 (0)\n",
       " -->\n",
       "<!-- Pages: 1 -->\n",
       "<svg width=\"2507pt\" height=\"764pt\"\n",
       " viewBox=\"0.00 0.00 2506.73 764.00\" xmlns=\"http://www.w3.org/2000/svg\" xmlns:xlink=\"http://www.w3.org/1999/xlink\">\n",
       "<g id=\"graph0\" class=\"graph\" transform=\"scale(1 1) rotate(0) translate(4 760)\">\n",
       "<polygon fill=\"white\" stroke=\"transparent\" points=\"-4,4 -4,-760 2502.73,-760 2502.73,4 -4,4\"/>\n",
       "<!-- 0 -->\n",
       "<g id=\"node1\" class=\"node\">\n",
       "<title>0</title>\n",
       "<ellipse fill=\"#1f77b4\" stroke=\"black\" cx=\"1052.19\" cy=\"-18\" rx=\"154.07\" ry=\"18\"/>\n",
       "<text text-anchor=\"middle\" x=\"1052.19\" y=\"-14.3\" font-family=\"Times,serif\" font-size=\"14.00\">0 : {0, 8, 10, 16, 18, 19, 20, 33, 37, 42}</text>\n",
       "</g>\n",
       "<!-- 1 -->\n",
       "<g id=\"node2\" class=\"node\">\n",
       "<title>1</title>\n",
       "<ellipse fill=\"#1f77b4\" stroke=\"black\" cx=\"1204.19\" cy=\"-90\" rx=\"144.87\" ry=\"18\"/>\n",
       "<text text-anchor=\"middle\" x=\"1204.19\" y=\"-86.3\" font-family=\"Times,serif\" font-size=\"14.00\">1 : {8, 10, 16, 18, 19, 20, 33, 37, 42}</text>\n",
       "</g>\n",
       "<!-- 1&#45;&gt;0 -->\n",
       "<g id=\"edge1\" class=\"edge\">\n",
       "<title>1&#45;&gt;0</title>\n",
       "<path fill=\"none\" stroke=\"black\" d=\"M1168.17,-72.41C1147.04,-62.68 1120.16,-50.3 1097.59,-39.91\"/>\n",
       "<polygon fill=\"black\" stroke=\"black\" points=\"1098.76,-36.6 1088.22,-35.59 1095.83,-42.95 1098.76,-36.6\"/>\n",
       "</g>\n",
       "<!-- 2 -->\n",
       "<g id=\"node3\" class=\"node\">\n",
       "<title>2</title>\n",
       "<ellipse fill=\"#1f77b4\" stroke=\"black\" cx=\"598.19\" cy=\"-90\" rx=\"144.87\" ry=\"18\"/>\n",
       "<text text-anchor=\"middle\" x=\"598.19\" y=\"-86.3\" font-family=\"Times,serif\" font-size=\"14.00\">2 : {0, 10, 16, 18, 19, 20, 33, 37, 42}</text>\n",
       "</g>\n",
       "<!-- 2&#45;&gt;0 -->\n",
       "<g id=\"edge2\" class=\"edge\">\n",
       "<title>2&#45;&gt;0</title>\n",
       "<path fill=\"none\" stroke=\"black\" d=\"M685.19,-75.59C761.73,-63.78 873.12,-46.61 953.08,-34.28\"/>\n",
       "<polygon fill=\"black\" stroke=\"black\" points=\"953.81,-37.71 963.16,-32.73 952.74,-30.79 953.81,-37.71\"/>\n",
       "</g>\n",
       "<!-- 3 -->\n",
       "<g id=\"node4\" class=\"node\">\n",
       "<title>3</title>\n",
       "<ellipse fill=\"#aec7e8\" stroke=\"black\" cx=\"901.19\" cy=\"-90\" rx=\"140.28\" ry=\"18\"/>\n",
       "<text text-anchor=\"middle\" x=\"901.19\" y=\"-86.3\" font-family=\"Times,serif\" font-size=\"14.00\">3 : {0, 8, 16, 18, 19, 20, 33, 37, 42}</text>\n",
       "</g>\n",
       "<!-- 3&#45;&gt;0 -->\n",
       "<g id=\"edge3\" class=\"edge\">\n",
       "<title>3&#45;&gt;0</title>\n",
       "<path fill=\"none\" stroke=\"black\" d=\"M936.97,-72.41C957.96,-62.68 984.67,-50.3 1007.08,-39.91\"/>\n",
       "<polygon fill=\"black\" stroke=\"black\" points=\"1008.8,-42.97 1016.4,-35.59 1005.86,-36.62 1008.8,-42.97\"/>\n",
       "</g>\n",
       "<!-- 4 -->\n",
       "<g id=\"node5\" class=\"node\">\n",
       "<title>4</title>\n",
       "<ellipse fill=\"#aec7e8\" stroke=\"black\" cx=\"1507.19\" cy=\"-90\" rx=\"140.28\" ry=\"18\"/>\n",
       "<text text-anchor=\"middle\" x=\"1507.19\" y=\"-86.3\" font-family=\"Times,serif\" font-size=\"14.00\">4 : {0, 8, 10, 16, 19, 20, 33, 37, 42}</text>\n",
       "</g>\n",
       "<!-- 4&#45;&gt;0 -->\n",
       "<g id=\"edge4\" class=\"edge\">\n",
       "<title>4&#45;&gt;0</title>\n",
       "<path fill=\"none\" stroke=\"black\" d=\"M1421.07,-75.75C1344.36,-63.95 1232.11,-46.68 1151.6,-34.29\"/>\n",
       "<polygon fill=\"black\" stroke=\"black\" points=\"1151.87,-30.79 1141.45,-32.73 1150.8,-37.71 1151.87,-30.79\"/>\n",
       "</g>\n",
       "<!-- 5 -->\n",
       "<g id=\"node6\" class=\"node\">\n",
       "<title>5</title>\n",
       "<ellipse fill=\"#aec7e8\" stroke=\"black\" cx=\"616.19\" cy=\"-162\" rx=\"135.68\" ry=\"18\"/>\n",
       "<text text-anchor=\"middle\" x=\"616.19\" y=\"-158.3\" font-family=\"Times,serif\" font-size=\"14.00\">5 : {10, 16, 18, 19, 20, 33, 37, 42}</text>\n",
       "</g>\n",
       "<!-- 5&#45;&gt;1 -->\n",
       "<g id=\"edge5\" class=\"edge\">\n",
       "<title>5&#45;&gt;1</title>\n",
       "<path fill=\"none\" stroke=\"black\" d=\"M713.62,-149.4C818.22,-136.95 984.09,-117.2 1093.54,-104.17\"/>\n",
       "<polygon fill=\"black\" stroke=\"black\" points=\"1094.1,-107.63 1103.62,-102.97 1093.27,-100.68 1094.1,-107.63\"/>\n",
       "</g>\n",
       "<!-- 5&#45;&gt;2 -->\n",
       "<g id=\"edge6\" class=\"edge\">\n",
       "<title>5&#45;&gt;2</title>\n",
       "<path fill=\"none\" stroke=\"black\" d=\"M611.74,-143.7C609.73,-135.9 607.32,-126.51 605.09,-117.83\"/>\n",
       "<polygon fill=\"black\" stroke=\"black\" points=\"608.47,-116.92 602.59,-108.1 601.69,-118.66 608.47,-116.92\"/>\n",
       "</g>\n",
       "<!-- 6 -->\n",
       "<g id=\"node7\" class=\"node\">\n",
       "<title>6</title>\n",
       "<ellipse fill=\"#ff7f0e\" stroke=\"black\" cx=\"901.19\" cy=\"-162\" rx=\"131.08\" ry=\"18\"/>\n",
       "<text text-anchor=\"middle\" x=\"901.19\" y=\"-158.3\" font-family=\"Times,serif\" font-size=\"14.00\">6 : {8, 16, 18, 19, 20, 33, 37, 42}</text>\n",
       "</g>\n",
       "<!-- 6&#45;&gt;1 -->\n",
       "<g id=\"edge7\" class=\"edge\">\n",
       "<title>6&#45;&gt;1</title>\n",
       "<path fill=\"none\" stroke=\"black\" d=\"M965.08,-146.24C1012.93,-135.18 1078.56,-120.02 1128.95,-108.38\"/>\n",
       "<polygon fill=\"black\" stroke=\"black\" points=\"1129.86,-111.76 1138.82,-106.1 1128.29,-104.94 1129.86,-111.76\"/>\n",
       "</g>\n",
       "<!-- 6&#45;&gt;3 -->\n",
       "<g id=\"edge8\" class=\"edge\">\n",
       "<title>6&#45;&gt;3</title>\n",
       "<path fill=\"none\" stroke=\"black\" d=\"M901.19,-143.7C901.19,-135.98 901.19,-126.71 901.19,-118.11\"/>\n",
       "<polygon fill=\"black\" stroke=\"black\" points=\"904.69,-118.1 901.19,-108.1 897.69,-118.1 904.69,-118.1\"/>\n",
       "</g>\n",
       "<!-- 7 -->\n",
       "<g id=\"node8\" class=\"node\">\n",
       "<title>7</title>\n",
       "<ellipse fill=\"#ff7f0e\" stroke=\"black\" cx=\"1744.19\" cy=\"-162\" rx=\"131.08\" ry=\"18\"/>\n",
       "<text text-anchor=\"middle\" x=\"1744.19\" y=\"-158.3\" font-family=\"Times,serif\" font-size=\"14.00\">7 : {8, 10, 16, 19, 20, 33, 37, 42}</text>\n",
       "</g>\n",
       "<!-- 7&#45;&gt;1 -->\n",
       "<g id=\"edge9\" class=\"edge\">\n",
       "<title>7&#45;&gt;1</title>\n",
       "<path fill=\"none\" stroke=\"black\" d=\"M1652.28,-149.09C1557.68,-136.82 1410.43,-117.74 1310.78,-104.82\"/>\n",
       "<polygon fill=\"black\" stroke=\"black\" points=\"1311.06,-101.32 1300.69,-103.51 1310.16,-108.27 1311.06,-101.32\"/>\n",
       "</g>\n",
       "<!-- 7&#45;&gt;4 -->\n",
       "<g id=\"edge10\" class=\"edge\">\n",
       "<title>7&#45;&gt;4</title>\n",
       "<path fill=\"none\" stroke=\"black\" d=\"M1691.59,-145.46C1655.79,-134.89 1608.22,-120.84 1570.36,-109.66\"/>\n",
       "<polygon fill=\"black\" stroke=\"black\" points=\"1571.04,-106.21 1560.46,-106.73 1569.06,-112.92 1571.04,-106.21\"/>\n",
       "</g>\n",
       "<!-- 8 -->\n",
       "<g id=\"node9\" class=\"node\">\n",
       "<title>8</title>\n",
       "<ellipse fill=\"#ff7f0e\" stroke=\"black\" cx=\"331.19\" cy=\"-162\" rx=\"131.08\" ry=\"18\"/>\n",
       "<text text-anchor=\"middle\" x=\"331.19\" y=\"-158.3\" font-family=\"Times,serif\" font-size=\"14.00\">8 : {0, 16, 18, 19, 20, 33, 37, 42}</text>\n",
       "</g>\n",
       "<!-- 8&#45;&gt;2 -->\n",
       "<g id=\"edge11\" class=\"edge\">\n",
       "<title>8&#45;&gt;2</title>\n",
       "<path fill=\"none\" stroke=\"black\" d=\"M389.12,-145.81C430.25,-135.03 485.63,-120.51 529.06,-109.12\"/>\n",
       "<polygon fill=\"black\" stroke=\"black\" points=\"530.2,-112.44 538.98,-106.52 528.42,-105.67 530.2,-112.44\"/>\n",
       "</g>\n",
       "<!-- 8&#45;&gt;3 -->\n",
       "<g id=\"edge12\" class=\"edge\">\n",
       "<title>8&#45;&gt;3</title>\n",
       "<path fill=\"none\" stroke=\"black\" d=\"M425.31,-149.44C526.55,-137.01 687.26,-117.27 793.48,-104.23\"/>\n",
       "<polygon fill=\"black\" stroke=\"black\" points=\"794.08,-107.68 803.58,-102.99 793.23,-100.73 794.08,-107.68\"/>\n",
       "</g>\n",
       "<!-- 9 -->\n",
       "<g id=\"node10\" class=\"node\">\n",
       "<title>9</title>\n",
       "<ellipse fill=\"#ffbb78\" stroke=\"black\" cx=\"1182.19\" cy=\"-162\" rx=\"131.08\" ry=\"18\"/>\n",
       "<text text-anchor=\"middle\" x=\"1182.19\" y=\"-158.3\" font-family=\"Times,serif\" font-size=\"14.00\">9 : {0, 10, 16, 19, 20, 33, 37, 42}</text>\n",
       "</g>\n",
       "<!-- 9&#45;&gt;2 -->\n",
       "<g id=\"edge13\" class=\"edge\">\n",
       "<title>9&#45;&gt;2</title>\n",
       "<path fill=\"none\" stroke=\"black\" d=\"M1087,-149.51C1071.69,-147.67 1056,-145.78 1041.19,-144 928.08,-130.41 798.71,-114.94 709.1,-104.24\"/>\n",
       "<polygon fill=\"black\" stroke=\"black\" points=\"709.26,-100.74 698.92,-103.02 708.43,-107.69 709.26,-100.74\"/>\n",
       "</g>\n",
       "<!-- 9&#45;&gt;4 -->\n",
       "<g id=\"edge14\" class=\"edge\">\n",
       "<title>9&#45;&gt;4</title>\n",
       "<path fill=\"none\" stroke=\"black\" d=\"M1249.53,-146.5C1301.69,-135.26 1374.05,-119.68 1428.81,-107.88\"/>\n",
       "<polygon fill=\"black\" stroke=\"black\" points=\"1429.78,-111.25 1438.82,-105.73 1428.3,-104.41 1429.78,-111.25\"/>\n",
       "</g>\n",
       "<!-- 10 -->\n",
       "<g id=\"node11\" class=\"node\">\n",
       "<title>10</title>\n",
       "<ellipse fill=\"#ffbb78\" stroke=\"black\" cx=\"1463.19\" cy=\"-162\" rx=\"131.08\" ry=\"18\"/>\n",
       "<text text-anchor=\"middle\" x=\"1463.19\" y=\"-158.3\" font-family=\"Times,serif\" font-size=\"14.00\">10 : {0, 8, 16, 19, 20, 33, 37, 42}</text>\n",
       "</g>\n",
       "<!-- 10&#45;&gt;3 -->\n",
       "<g id=\"edge15\" class=\"edge\">\n",
       "<title>10&#45;&gt;3</title>\n",
       "<path fill=\"none\" stroke=\"black\" d=\"M1369.44,-149.32C1269.75,-136.91 1112.36,-117.3 1007.97,-104.3\"/>\n",
       "<polygon fill=\"black\" stroke=\"black\" points=\"1008.39,-100.83 998.03,-103.06 1007.52,-107.77 1008.39,-100.83\"/>\n",
       "</g>\n",
       "<!-- 10&#45;&gt;4 -->\n",
       "<g id=\"edge16\" class=\"edge\">\n",
       "<title>10&#45;&gt;4</title>\n",
       "<path fill=\"none\" stroke=\"black\" d=\"M1473.84,-144.05C1478.95,-135.92 1485.19,-126 1490.88,-116.94\"/>\n",
       "<polygon fill=\"black\" stroke=\"black\" points=\"1493.97,-118.6 1496.33,-108.28 1488.05,-114.88 1493.97,-118.6\"/>\n",
       "</g>\n",
       "<!-- 11 -->\n",
       "<g id=\"node12\" class=\"node\">\n",
       "<title>11</title>\n",
       "<ellipse fill=\"#ffbb78\" stroke=\"black\" cx=\"2025.19\" cy=\"-162\" rx=\"131.08\" ry=\"18\"/>\n",
       "<text text-anchor=\"middle\" x=\"2025.19\" y=\"-158.3\" font-family=\"Times,serif\" font-size=\"14.00\">11 : {0, 8, 10, 16, 20, 33, 37, 42}</text>\n",
       "</g>\n",
       "<!-- 11&#45;&gt;4 -->\n",
       "<g id=\"edge17\" class=\"edge\">\n",
       "<title>11&#45;&gt;4</title>\n",
       "<path fill=\"none\" stroke=\"black\" d=\"M1935.26,-148.85C1844.69,-136.61 1705.14,-117.75 1610.18,-104.92\"/>\n",
       "<polygon fill=\"black\" stroke=\"black\" points=\"1610.36,-101.41 1599.98,-103.54 1609.42,-108.35 1610.36,-101.41\"/>\n",
       "</g>\n",
       "<!-- 12 -->\n",
       "<g id=\"node13\" class=\"node\">\n",
       "<title>12</title>\n",
       "<ellipse fill=\"#2ca02c\" stroke=\"black\" cx=\"388.19\" cy=\"-234\" rx=\"126.18\" ry=\"18\"/>\n",
       "<text text-anchor=\"middle\" x=\"388.19\" y=\"-230.3\" font-family=\"Times,serif\" font-size=\"14.00\">12 : {16, 18, 19, 20, 33, 37, 42}</text>\n",
       "</g>\n",
       "<!-- 12&#45;&gt;5 -->\n",
       "<g id=\"edge19\" class=\"edge\">\n",
       "<title>12&#45;&gt;5</title>\n",
       "<path fill=\"none\" stroke=\"black\" d=\"M438.79,-217.46C473.09,-206.94 518.61,-192.96 554.95,-181.8\"/>\n",
       "<polygon fill=\"black\" stroke=\"black\" points=\"556.41,-185.01 564.94,-178.73 554.35,-178.32 556.41,-185.01\"/>\n",
       "</g>\n",
       "<!-- 12&#45;&gt;6 -->\n",
       "<g id=\"edge20\" class=\"edge\">\n",
       "<title>12&#45;&gt;6</title>\n",
       "<path fill=\"none\" stroke=\"black\" d=\"M475.79,-221.05C566.22,-208.71 707.06,-189.49 801.64,-176.58\"/>\n",
       "<polygon fill=\"black\" stroke=\"black\" points=\"802.36,-180.02 811.79,-175.2 801.41,-173.08 802.36,-180.02\"/>\n",
       "</g>\n",
       "<!-- 12&#45;&gt;8 -->\n",
       "<g id=\"edge18\" class=\"edge\">\n",
       "<title>12&#45;&gt;8</title>\n",
       "<path fill=\"none\" stroke=\"black\" d=\"M374.39,-216.05C367.56,-207.67 359.18,-197.38 351.62,-188.1\"/>\n",
       "<polygon fill=\"black\" stroke=\"black\" points=\"354.28,-185.82 345.26,-180.28 348.86,-190.24 354.28,-185.82\"/>\n",
       "</g>\n",
       "<!-- 13 -->\n",
       "<g id=\"node14\" class=\"node\">\n",
       "<title>13</title>\n",
       "<ellipse fill=\"#2ca02c\" stroke=\"black\" cx=\"1190.19\" cy=\"-234\" rx=\"126.18\" ry=\"18\"/>\n",
       "<text text-anchor=\"middle\" x=\"1190.19\" y=\"-230.3\" font-family=\"Times,serif\" font-size=\"14.00\">13 : {10, 16, 19, 20, 33, 37, 42}</text>\n",
       "</g>\n",
       "<!-- 13&#45;&gt;5 -->\n",
       "<g id=\"edge22\" class=\"edge\">\n",
       "<title>13&#45;&gt;5</title>\n",
       "<path fill=\"none\" stroke=\"black\" d=\"M1099.06,-221.46C1084.39,-219.62 1069.37,-217.75 1055.19,-216 942.03,-202.04 812.4,-186.44 723.51,-175.8\"/>\n",
       "<polygon fill=\"black\" stroke=\"black\" points=\"723.76,-172.31 713.42,-174.59 722.93,-179.26 723.76,-172.31\"/>\n",
       "</g>\n",
       "<!-- 13&#45;&gt;7 -->\n",
       "<g id=\"edge23\" class=\"edge\">\n",
       "<title>13&#45;&gt;7</title>\n",
       "<path fill=\"none\" stroke=\"black\" d=\"M1281.05,-221.52C1379.83,-209.04 1537.38,-189.13 1640.82,-176.06\"/>\n",
       "<polygon fill=\"black\" stroke=\"black\" points=\"1641.48,-179.51 1650.96,-174.78 1640.6,-172.56 1641.48,-179.51\"/>\n",
       "</g>\n",
       "<!-- 13&#45;&gt;9 -->\n",
       "<g id=\"edge21\" class=\"edge\">\n",
       "<title>13&#45;&gt;9</title>\n",
       "<path fill=\"none\" stroke=\"black\" d=\"M1188.21,-215.7C1187.33,-207.98 1186.27,-198.71 1185.29,-190.11\"/>\n",
       "<polygon fill=\"black\" stroke=\"black\" points=\"1188.76,-189.64 1184.14,-180.1 1181.8,-190.44 1188.76,-189.64\"/>\n",
       "</g>\n",
       "<!-- 14 -->\n",
       "<g id=\"node15\" class=\"node\">\n",
       "<title>14</title>\n",
       "<ellipse fill=\"#2ca02c\" stroke=\"black\" cx=\"658.19\" cy=\"-234\" rx=\"126.18\" ry=\"18\"/>\n",
       "<text text-anchor=\"middle\" x=\"658.19\" y=\"-230.3\" font-family=\"Times,serif\" font-size=\"14.00\">14 : {10, 16, 18, 19, 20, 37, 42}</text>\n",
       "</g>\n",
       "<!-- 14&#45;&gt;5 -->\n",
       "<g id=\"edge24\" class=\"edge\">\n",
       "<title>14&#45;&gt;5</title>\n",
       "<path fill=\"none\" stroke=\"black\" d=\"M648.02,-216.05C643.14,-207.92 637.19,-198 631.75,-188.94\"/>\n",
       "<polygon fill=\"black\" stroke=\"black\" points=\"634.7,-187.05 626.55,-180.28 628.7,-190.65 634.7,-187.05\"/>\n",
       "</g>\n",
       "<!-- 15 -->\n",
       "<g id=\"node16\" class=\"node\">\n",
       "<title>15</title>\n",
       "<ellipse fill=\"#98df8a\" stroke=\"black\" cx=\"1456.19\" cy=\"-234\" rx=\"122.38\" ry=\"18\"/>\n",
       "<text text-anchor=\"middle\" x=\"1456.19\" y=\"-230.3\" font-family=\"Times,serif\" font-size=\"14.00\">15 : {8, 16, 19, 20, 33, 37, 42}</text>\n",
       "</g>\n",
       "<!-- 15&#45;&gt;6 -->\n",
       "<g id=\"edge26\" class=\"edge\">\n",
       "<title>15&#45;&gt;6</title>\n",
       "<path fill=\"none\" stroke=\"black\" d=\"M1368.11,-221.51C1353.77,-219.66 1339.07,-217.77 1325.19,-216 1216,-202.09 1090.95,-186.5 1005.1,-175.85\"/>\n",
       "<polygon fill=\"black\" stroke=\"black\" points=\"1005.45,-172.37 995.09,-174.61 1004.59,-179.31 1005.45,-172.37\"/>\n",
       "</g>\n",
       "<!-- 15&#45;&gt;7 -->\n",
       "<g id=\"edge27\" class=\"edge\">\n",
       "<title>15&#45;&gt;7</title>\n",
       "<path fill=\"none\" stroke=\"black\" d=\"M1516.56,-218.33C1561.99,-207.28 1624.41,-192.11 1672.4,-180.45\"/>\n",
       "<polygon fill=\"black\" stroke=\"black\" points=\"1673.51,-183.78 1682.4,-178.02 1671.86,-176.98 1673.51,-183.78\"/>\n",
       "</g>\n",
       "<!-- 15&#45;&gt;10 -->\n",
       "<g id=\"edge25\" class=\"edge\">\n",
       "<title>15&#45;&gt;10</title>\n",
       "<path fill=\"none\" stroke=\"black\" d=\"M1457.92,-215.7C1458.69,-207.98 1459.62,-198.71 1460.48,-190.11\"/>\n",
       "<polygon fill=\"black\" stroke=\"black\" points=\"1463.97,-190.4 1461.48,-180.1 1457,-189.71 1463.97,-190.4\"/>\n",
       "</g>\n",
       "<!-- 16 -->\n",
       "<g id=\"node17\" class=\"node\">\n",
       "<title>16</title>\n",
       "<ellipse fill=\"#98df8a\" stroke=\"black\" cx=\"2234.19\" cy=\"-234\" rx=\"122.38\" ry=\"18\"/>\n",
       "<text text-anchor=\"middle\" x=\"2234.19\" y=\"-230.3\" font-family=\"Times,serif\" font-size=\"14.00\">16 : {8, 10, 16, 20, 33, 37, 42}</text>\n",
       "</g>\n",
       "<!-- 16&#45;&gt;7 -->\n",
       "<g id=\"edge29\" class=\"edge\">\n",
       "<title>16&#45;&gt;7</title>\n",
       "<path fill=\"none\" stroke=\"black\" d=\"M2149.68,-220.93C2064.05,-208.69 1931.72,-189.79 1841.7,-176.93\"/>\n",
       "<polygon fill=\"black\" stroke=\"black\" points=\"1842.15,-173.46 1831.76,-175.51 1841.16,-180.39 1842.15,-173.46\"/>\n",
       "</g>\n",
       "<!-- 16&#45;&gt;11 -->\n",
       "<g id=\"edge28\" class=\"edge\">\n",
       "<title>16&#45;&gt;11</title>\n",
       "<path fill=\"none\" stroke=\"black\" d=\"M2187.29,-217.29C2156.18,-206.87 2115.16,-193.14 2082.18,-182.09\"/>\n",
       "<polygon fill=\"black\" stroke=\"black\" points=\"2083.25,-178.76 2072.66,-178.9 2081.03,-185.39 2083.25,-178.76\"/>\n",
       "</g>\n",
       "<!-- 17 -->\n",
       "<g id=\"node18\" class=\"node\">\n",
       "<title>17</title>\n",
       "<ellipse fill=\"#98df8a\" stroke=\"black\" cx=\"122.19\" cy=\"-234\" rx=\"122.38\" ry=\"18\"/>\n",
       "<text text-anchor=\"middle\" x=\"122.19\" y=\"-230.3\" font-family=\"Times,serif\" font-size=\"14.00\">17 : {0, 18, 19, 20, 33, 37, 42}</text>\n",
       "</g>\n",
       "<!-- 17&#45;&gt;8 -->\n",
       "<g id=\"edge30\" class=\"edge\">\n",
       "<title>17&#45;&gt;8</title>\n",
       "<path fill=\"none\" stroke=\"black\" d=\"M169.09,-217.29C200.2,-206.87 241.21,-193.14 274.2,-182.09\"/>\n",
       "<polygon fill=\"black\" stroke=\"black\" points=\"275.35,-185.39 283.72,-178.9 273.13,-178.76 275.35,-185.39\"/>\n",
       "</g>\n",
       "<!-- 18 -->\n",
       "<g id=\"node19\" class=\"node\">\n",
       "<title>18</title>\n",
       "<ellipse fill=\"#d62728\" stroke=\"black\" cx=\"924.19\" cy=\"-234\" rx=\"122.38\" ry=\"18\"/>\n",
       "<text text-anchor=\"middle\" x=\"924.19\" y=\"-230.3\" font-family=\"Times,serif\" font-size=\"14.00\">18 : {0, 16, 19, 20, 33, 37, 42}</text>\n",
       "</g>\n",
       "<!-- 18&#45;&gt;8 -->\n",
       "<g id=\"edge31\" class=\"edge\">\n",
       "<title>18&#45;&gt;8</title>\n",
       "<path fill=\"none\" stroke=\"black\" d=\"M836.49,-221.4C822.03,-219.55 807.19,-217.69 793.19,-216 650.23,-198.73 614.22,-196.68 471.19,-180 459.6,-178.65 447.47,-177.21 435.41,-175.77\"/>\n",
       "<polygon fill=\"black\" stroke=\"black\" points=\"435.65,-172.27 425.31,-174.55 434.82,-179.22 435.65,-172.27\"/>\n",
       "</g>\n",
       "<!-- 18&#45;&gt;9 -->\n",
       "<g id=\"edge32\" class=\"edge\">\n",
       "<title>18&#45;&gt;9</title>\n",
       "<path fill=\"none\" stroke=\"black\" d=\"M979.85,-217.9C1019.76,-207.07 1073.69,-192.44 1115.84,-181\"/>\n",
       "<polygon fill=\"black\" stroke=\"black\" points=\"1117,-184.31 1125.73,-178.32 1115.17,-177.56 1117,-184.31\"/>\n",
       "</g>\n",
       "<!-- 18&#45;&gt;10 -->\n",
       "<g id=\"edge33\" class=\"edge\">\n",
       "<title>18&#45;&gt;10</title>\n",
       "<path fill=\"none\" stroke=\"black\" d=\"M1012.59,-221.52C1108.31,-209.09 1260.75,-189.29 1361.4,-176.22\"/>\n",
       "<polygon fill=\"black\" stroke=\"black\" points=\"1362.12,-179.66 1371.58,-174.9 1361.22,-172.71 1362.12,-179.66\"/>\n",
       "</g>\n",
       "<!-- 19 -->\n",
       "<g id=\"node20\" class=\"node\">\n",
       "<title>19</title>\n",
       "<ellipse fill=\"#d62728\" stroke=\"black\" cx=\"1718.19\" cy=\"-234\" rx=\"122.38\" ry=\"18\"/>\n",
       "<text text-anchor=\"middle\" x=\"1718.19\" y=\"-230.3\" font-family=\"Times,serif\" font-size=\"14.00\">19 : {0, 10, 16, 20, 33, 37, 42}</text>\n",
       "</g>\n",
       "<!-- 19&#45;&gt;9 -->\n",
       "<g id=\"edge34\" class=\"edge\">\n",
       "<title>19&#45;&gt;9</title>\n",
       "<path fill=\"none\" stroke=\"black\" d=\"M1629.98,-221.48C1534.88,-209.06 1383.73,-189.32 1283.75,-176.26\"/>\n",
       "<polygon fill=\"black\" stroke=\"black\" points=\"1284,-172.77 1273.63,-174.94 1283.09,-179.71 1284,-172.77\"/>\n",
       "</g>\n",
       "<!-- 19&#45;&gt;11 -->\n",
       "<g id=\"edge35\" class=\"edge\">\n",
       "<title>19&#45;&gt;11</title>\n",
       "<path fill=\"none\" stroke=\"black\" d=\"M1781.43,-218.58C1830.65,-207.36 1899.08,-191.75 1950.91,-179.94\"/>\n",
       "<polygon fill=\"black\" stroke=\"black\" points=\"1951.74,-183.34 1960.71,-177.7 1950.18,-176.51 1951.74,-183.34\"/>\n",
       "</g>\n",
       "<!-- 20 -->\n",
       "<g id=\"node21\" class=\"node\">\n",
       "<title>20</title>\n",
       "<ellipse fill=\"#d62728\" stroke=\"black\" cx=\"1976.19\" cy=\"-234\" rx=\"117.78\" ry=\"18\"/>\n",
       "<text text-anchor=\"middle\" x=\"1976.19\" y=\"-230.3\" font-family=\"Times,serif\" font-size=\"14.00\">20 : {0, 8, 16, 20, 33, 37, 42}</text>\n",
       "</g>\n",
       "<!-- 20&#45;&gt;10 -->\n",
       "<g id=\"edge36\" class=\"edge\">\n",
       "<title>20&#45;&gt;10</title>\n",
       "<path fill=\"none\" stroke=\"black\" d=\"M1891.48,-221.44C1801.19,-209.12 1658.34,-189.63 1562.74,-176.58\"/>\n",
       "<polygon fill=\"black\" stroke=\"black\" points=\"1563.15,-173.11 1552.77,-175.22 1562.21,-180.04 1563.15,-173.11\"/>\n",
       "</g>\n",
       "<!-- 20&#45;&gt;11 -->\n",
       "<g id=\"edge37\" class=\"edge\">\n",
       "<title>20&#45;&gt;11</title>\n",
       "<path fill=\"none\" stroke=\"black\" d=\"M1988.05,-216.05C1993.8,-207.84 2000.84,-197.79 2007.23,-188.66\"/>\n",
       "<polygon fill=\"black\" stroke=\"black\" points=\"2010.23,-190.47 2013.1,-180.28 2004.49,-186.46 2010.23,-190.47\"/>\n",
       "</g>\n",
       "<!-- 21 -->\n",
       "<g id=\"node22\" class=\"node\">\n",
       "<title>21</title>\n",
       "<ellipse fill=\"#ff9896\" stroke=\"black\" cx=\"226.19\" cy=\"-306\" rx=\"112.38\" ry=\"18\"/>\n",
       "<text text-anchor=\"middle\" x=\"226.19\" y=\"-302.3\" font-family=\"Times,serif\" font-size=\"14.00\">21 : {18, 19, 20, 33, 37, 42}</text>\n",
       "</g>\n",
       "<!-- 21&#45;&gt;12 -->\n",
       "<g id=\"edge39\" class=\"edge\">\n",
       "<title>21&#45;&gt;12</title>\n",
       "<path fill=\"none\" stroke=\"black\" d=\"M263.36,-288.94C286.55,-278.92 316.6,-265.93 341.41,-255.21\"/>\n",
       "<polygon fill=\"black\" stroke=\"black\" points=\"342.84,-258.41 350.64,-251.23 340.07,-251.98 342.84,-258.41\"/>\n",
       "</g>\n",
       "<!-- 21&#45;&gt;17 -->\n",
       "<g id=\"edge38\" class=\"edge\">\n",
       "<title>21&#45;&gt;17</title>\n",
       "<path fill=\"none\" stroke=\"black\" d=\"M201.54,-288.41C187.78,-279.15 170.46,-267.49 155.5,-257.42\"/>\n",
       "<polygon fill=\"black\" stroke=\"black\" points=\"157.27,-254.39 147.02,-251.71 153.36,-260.2 157.27,-254.39\"/>\n",
       "</g>\n",
       "<!-- 22 -->\n",
       "<g id=\"node23\" class=\"node\">\n",
       "<title>22</title>\n",
       "<ellipse fill=\"#ff9896\" stroke=\"black\" cx=\"947.19\" cy=\"-306\" rx=\"112.38\" ry=\"18\"/>\n",
       "<text text-anchor=\"middle\" x=\"947.19\" y=\"-302.3\" font-family=\"Times,serif\" font-size=\"14.00\">22 : {16, 19, 20, 33, 37, 42}</text>\n",
       "</g>\n",
       "<!-- 22&#45;&gt;12 -->\n",
       "<g id=\"edge41\" class=\"edge\">\n",
       "<title>22&#45;&gt;12</title>\n",
       "<path fill=\"none\" stroke=\"black\" d=\"M866.51,-293.42C853.05,-291.56 839.23,-289.69 826.19,-288 691.7,-270.57 657.8,-268.47 523.19,-252 512.13,-250.65 500.56,-249.21 489.04,-247.78\"/>\n",
       "<polygon fill=\"black\" stroke=\"black\" points=\"489.31,-244.28 478.95,-246.52 488.44,-251.23 489.31,-244.28\"/>\n",
       "</g>\n",
       "<!-- 22&#45;&gt;13 -->\n",
       "<g id=\"edge42\" class=\"edge\">\n",
       "<title>22&#45;&gt;13</title>\n",
       "<path fill=\"none\" stroke=\"black\" d=\"M999.32,-289.98C1036.73,-279.21 1087.34,-264.63 1127.04,-253.19\"/>\n",
       "<polygon fill=\"black\" stroke=\"black\" points=\"1128.25,-256.49 1136.89,-250.35 1126.31,-249.76 1128.25,-256.49\"/>\n",
       "</g>\n",
       "<!-- 22&#45;&gt;15 -->\n",
       "<g id=\"edge43\" class=\"edge\">\n",
       "<title>22&#45;&gt;15</title>\n",
       "<path fill=\"none\" stroke=\"black\" d=\"M1028.89,-293.59C1042.35,-291.72 1056.16,-289.8 1069.19,-288 1168.04,-274.34 1281.11,-258.88 1359.39,-248.19\"/>\n",
       "<polygon fill=\"black\" stroke=\"black\" points=\"1360.29,-251.6 1369.72,-246.78 1359.34,-244.67 1360.29,-251.6\"/>\n",
       "</g>\n",
       "<!-- 22&#45;&gt;18 -->\n",
       "<g id=\"edge40\" class=\"edge\">\n",
       "<title>22&#45;&gt;18</title>\n",
       "<path fill=\"none\" stroke=\"black\" d=\"M941.5,-287.7C938.94,-279.9 935.86,-270.51 933,-261.83\"/>\n",
       "<polygon fill=\"black\" stroke=\"black\" points=\"936.26,-260.51 929.81,-252.1 929.61,-262.7 936.26,-260.51\"/>\n",
       "</g>\n",
       "<!-- 23 -->\n",
       "<g id=\"node24\" class=\"node\">\n",
       "<title>23</title>\n",
       "<ellipse fill=\"#ff9896\" stroke=\"black\" cx=\"469.19\" cy=\"-306\" rx=\"112.38\" ry=\"18\"/>\n",
       "<text text-anchor=\"middle\" x=\"469.19\" y=\"-302.3\" font-family=\"Times,serif\" font-size=\"14.00\">23 : {16, 18, 19, 20, 37, 42}</text>\n",
       "</g>\n",
       "<!-- 23&#45;&gt;12 -->\n",
       "<g id=\"edge44\" class=\"edge\">\n",
       "<title>23&#45;&gt;12</title>\n",
       "<path fill=\"none\" stroke=\"black\" d=\"M449.58,-288.05C439.33,-279.2 426.63,-268.22 415.44,-258.55\"/>\n",
       "<polygon fill=\"black\" stroke=\"black\" points=\"417.47,-255.68 407.62,-251.79 412.89,-260.98 417.47,-255.68\"/>\n",
       "</g>\n",
       "<!-- 23&#45;&gt;14 -->\n",
       "<g id=\"edge45\" class=\"edge\">\n",
       "<title>23&#45;&gt;14</title>\n",
       "<path fill=\"none\" stroke=\"black\" d=\"M511.6,-289.29C539.28,-279.04 575.61,-265.58 605.19,-254.63\"/>\n",
       "<polygon fill=\"black\" stroke=\"black\" points=\"606.77,-257.78 614.93,-251.02 604.34,-251.21 606.77,-257.78\"/>\n",
       "</g>\n",
       "<!-- 24 -->\n",
       "<g id=\"node25\" class=\"node\">\n",
       "<title>24</title>\n",
       "<ellipse fill=\"#9467bd\" stroke=\"black\" cx=\"1690.19\" cy=\"-306\" rx=\"112.38\" ry=\"18\"/>\n",
       "<text text-anchor=\"middle\" x=\"1690.19\" y=\"-302.3\" font-family=\"Times,serif\" font-size=\"14.00\">24 : {10, 16, 20, 33, 37, 42}</text>\n",
       "</g>\n",
       "<!-- 24&#45;&gt;13 -->\n",
       "<g id=\"edge48\" class=\"edge\">\n",
       "<title>24&#45;&gt;13</title>\n",
       "<path fill=\"none\" stroke=\"black\" d=\"M1608.83,-293.56C1595.58,-291.7 1582,-289.8 1569.19,-288 1473.32,-274.56 1363.8,-259.25 1287.23,-248.55\"/>\n",
       "<polygon fill=\"black\" stroke=\"black\" points=\"1287.51,-245.06 1277.12,-247.14 1286.54,-251.99 1287.51,-245.06\"/>\n",
       "</g>\n",
       "<!-- 24&#45;&gt;16 -->\n",
       "<g id=\"edge46\" class=\"edge\">\n",
       "<title>24&#45;&gt;16</title>\n",
       "<path fill=\"none\" stroke=\"black\" d=\"M1771.2,-293.43C1784.55,-291.57 1798.25,-289.71 1811.19,-288 1940.83,-270.9 1973.46,-268.41 2103.19,-252 2113.82,-250.66 2124.92,-249.24 2135.99,-247.81\"/>\n",
       "<polygon fill=\"black\" stroke=\"black\" points=\"2136.65,-251.26 2146.12,-246.51 2135.75,-244.31 2136.65,-251.26\"/>\n",
       "</g>\n",
       "<!-- 24&#45;&gt;19 -->\n",
       "<g id=\"edge47\" class=\"edge\">\n",
       "<title>24&#45;&gt;19</title>\n",
       "<path fill=\"none\" stroke=\"black\" d=\"M1697.11,-287.7C1700.26,-279.81 1704.07,-270.3 1707.57,-261.55\"/>\n",
       "<polygon fill=\"black\" stroke=\"black\" points=\"1710.88,-262.69 1711.35,-252.1 1704.38,-260.09 1710.88,-262.69\"/>\n",
       "</g>\n",
       "<!-- 25 -->\n",
       "<g id=\"node26\" class=\"node\">\n",
       "<title>25</title>\n",
       "<ellipse fill=\"#9467bd\" stroke=\"black\" cx=\"1190.19\" cy=\"-306\" rx=\"112.38\" ry=\"18\"/>\n",
       "<text text-anchor=\"middle\" x=\"1190.19\" y=\"-302.3\" font-family=\"Times,serif\" font-size=\"14.00\">25 : {10, 16, 19, 20, 37, 42}</text>\n",
       "</g>\n",
       "<!-- 25&#45;&gt;13 -->\n",
       "<g id=\"edge49\" class=\"edge\">\n",
       "<title>25&#45;&gt;13</title>\n",
       "<path fill=\"none\" stroke=\"black\" d=\"M1190.19,-287.7C1190.19,-279.98 1190.19,-270.71 1190.19,-262.11\"/>\n",
       "<polygon fill=\"black\" stroke=\"black\" points=\"1193.69,-262.1 1190.19,-252.1 1186.69,-262.1 1193.69,-262.1\"/>\n",
       "</g>\n",
       "<!-- 25&#45;&gt;14 -->\n",
       "<g id=\"edge50\" class=\"edge\">\n",
       "<title>25&#45;&gt;14</title>\n",
       "<path fill=\"none\" stroke=\"black\" d=\"M1108.83,-293.55C1095.26,-291.67 1081.33,-289.76 1068.19,-288 962.92,-273.86 842.35,-258.36 759.35,-247.79\"/>\n",
       "<polygon fill=\"black\" stroke=\"black\" points=\"759.78,-244.32 749.41,-246.53 758.89,-251.26 759.78,-244.32\"/>\n",
       "</g>\n",
       "<!-- 26 -->\n",
       "<g id=\"node27\" class=\"node\">\n",
       "<title>26</title>\n",
       "<ellipse fill=\"#9467bd\" stroke=\"black\" cx=\"2155.19\" cy=\"-306\" rx=\"108.58\" ry=\"18\"/>\n",
       "<text text-anchor=\"middle\" x=\"2155.19\" y=\"-302.3\" font-family=\"Times,serif\" font-size=\"14.00\">26 : {8, 16, 20, 33, 37, 42}</text>\n",
       "</g>\n",
       "<!-- 26&#45;&gt;15 -->\n",
       "<g id=\"edge53\" class=\"edge\">\n",
       "<title>26&#45;&gt;15</title>\n",
       "<path fill=\"none\" stroke=\"black\" d=\"M2078.48,-293.23C2064.75,-291.33 2050.56,-289.5 2037.19,-288 1837.8,-265.68 1786.73,-272.92 1587.19,-252 1575.99,-250.83 1564.26,-249.48 1552.63,-248.06\"/>\n",
       "<polygon fill=\"black\" stroke=\"black\" points=\"1552.79,-244.56 1542.44,-246.81 1551.94,-251.5 1552.79,-244.56\"/>\n",
       "</g>\n",
       "<!-- 26&#45;&gt;16 -->\n",
       "<g id=\"edge51\" class=\"edge\">\n",
       "<title>26&#45;&gt;16</title>\n",
       "<path fill=\"none\" stroke=\"black\" d=\"M2174.31,-288.05C2184.31,-279.2 2196.7,-268.22 2207.61,-258.55\"/>\n",
       "<polygon fill=\"black\" stroke=\"black\" points=\"2210.08,-261.04 2215.24,-251.79 2205.44,-255.8 2210.08,-261.04\"/>\n",
       "</g>\n",
       "<!-- 26&#45;&gt;20 -->\n",
       "<g id=\"edge52\" class=\"edge\">\n",
       "<title>26&#45;&gt;20</title>\n",
       "<path fill=\"none\" stroke=\"black\" d=\"M2114.57,-289.12C2088.46,-278.9 2054.34,-265.56 2026.51,-254.68\"/>\n",
       "<polygon fill=\"black\" stroke=\"black\" points=\"2027.54,-251.32 2016.96,-250.94 2024.99,-257.84 2027.54,-251.32\"/>\n",
       "</g>\n",
       "<!-- 27 -->\n",
       "<g id=\"node28\" class=\"node\">\n",
       "<title>27</title>\n",
       "<ellipse fill=\"#c5b0d5\" stroke=\"black\" cx=\"2390.19\" cy=\"-306\" rx=\"108.58\" ry=\"18\"/>\n",
       "<text text-anchor=\"middle\" x=\"2390.19\" y=\"-302.3\" font-family=\"Times,serif\" font-size=\"14.00\">27 : {8, 10, 16, 33, 37, 42}</text>\n",
       "</g>\n",
       "<!-- 27&#45;&gt;16 -->\n",
       "<g id=\"edge54\" class=\"edge\">\n",
       "<title>27&#45;&gt;16</title>\n",
       "<path fill=\"none\" stroke=\"black\" d=\"M2354.4,-288.94C2332.16,-278.96 2303.38,-266.05 2279.55,-255.36\"/>\n",
       "<polygon fill=\"black\" stroke=\"black\" points=\"2280.91,-252.13 2270.35,-251.23 2278.04,-258.51 2280.91,-252.13\"/>\n",
       "</g>\n",
       "<!-- 28 -->\n",
       "<g id=\"node29\" class=\"node\">\n",
       "<title>28</title>\n",
       "<ellipse fill=\"#c5b0d5\" stroke=\"black\" cx=\"708.19\" cy=\"-306\" rx=\"108.58\" ry=\"18\"/>\n",
       "<text text-anchor=\"middle\" x=\"708.19\" y=\"-302.3\" font-family=\"Times,serif\" font-size=\"14.00\">28 : {0, 19, 20, 33, 37, 42}</text>\n",
       "</g>\n",
       "<!-- 28&#45;&gt;17 -->\n",
       "<g id=\"edge55\" class=\"edge\">\n",
       "<title>28&#45;&gt;17</title>\n",
       "<path fill=\"none\" stroke=\"black\" d=\"M630.49,-293.39C617.06,-291.51 603.23,-289.64 590.19,-288 440.73,-269.26 402.78,-269.69 253.19,-252 242.27,-250.71 230.84,-249.3 219.48,-247.87\"/>\n",
       "<polygon fill=\"black\" stroke=\"black\" points=\"219.89,-244.4 209.53,-246.61 219.01,-251.34 219.89,-244.4\"/>\n",
       "</g>\n",
       "<!-- 28&#45;&gt;18 -->\n",
       "<g id=\"edge56\" class=\"edge\">\n",
       "<title>28&#45;&gt;18</title>\n",
       "<path fill=\"none\" stroke=\"black\" d=\"M755.32,-289.72C788,-279.13 831.72,-264.97 866.48,-253.7\"/>\n",
       "<polygon fill=\"black\" stroke=\"black\" points=\"867.6,-257.02 876.03,-250.61 865.44,-250.36 867.6,-257.02\"/>\n",
       "</g>\n",
       "<!-- 29 -->\n",
       "<g id=\"node30\" class=\"node\">\n",
       "<title>29</title>\n",
       "<ellipse fill=\"#c5b0d5\" stroke=\"black\" cx=\"1451.19\" cy=\"-306\" rx=\"108.58\" ry=\"18\"/>\n",
       "<text text-anchor=\"middle\" x=\"1451.19\" y=\"-302.3\" font-family=\"Times,serif\" font-size=\"14.00\">29 : {0, 16, 20, 33, 37, 42}</text>\n",
       "</g>\n",
       "<!-- 29&#45;&gt;18 -->\n",
       "<g id=\"edge57\" class=\"edge\">\n",
       "<title>29&#45;&gt;18</title>\n",
       "<path fill=\"none\" stroke=\"black\" d=\"M1369.42,-294.14C1275.65,-281.68 1122,-261.27 1021.97,-247.99\"/>\n",
       "<polygon fill=\"black\" stroke=\"black\" points=\"1022.23,-244.49 1011.86,-246.65 1021.31,-251.43 1022.23,-244.49\"/>\n",
       "</g>\n",
       "<!-- 29&#45;&gt;19 -->\n",
       "<g id=\"edge58\" class=\"edge\">\n",
       "<title>29&#45;&gt;19</title>\n",
       "<path fill=\"none\" stroke=\"black\" d=\"M1506.51,-290.5C1548.55,-279.48 1606.54,-264.27 1651.2,-252.56\"/>\n",
       "<polygon fill=\"black\" stroke=\"black\" points=\"1652.31,-255.89 1661.1,-249.97 1650.53,-249.12 1652.31,-255.89\"/>\n",
       "</g>\n",
       "<!-- 29&#45;&gt;20 -->\n",
       "<g id=\"edge59\" class=\"edge\">\n",
       "<title>29&#45;&gt;20</title>\n",
       "<path fill=\"none\" stroke=\"black\" d=\"M1529.55,-293.54C1542.78,-291.65 1556.37,-289.75 1569.19,-288 1693.51,-271.05 1724.79,-268.32 1849.19,-252 1859.47,-250.65 1870.21,-249.23 1880.92,-247.81\"/>\n",
       "<polygon fill=\"black\" stroke=\"black\" points=\"1881.7,-251.23 1891.15,-246.45 1880.77,-244.3 1881.7,-251.23\"/>\n",
       "</g>\n",
       "<!-- 30 -->\n",
       "<g id=\"node31\" class=\"node\">\n",
       "<title>30</title>\n",
       "<ellipse fill=\"#8c564b\" stroke=\"black\" cx=\"1924.19\" cy=\"-306\" rx=\"103.98\" ry=\"18\"/>\n",
       "<text text-anchor=\"middle\" x=\"1924.19\" y=\"-302.3\" font-family=\"Times,serif\" font-size=\"14.00\">30 : {0, 8, 16, 20, 33, 42}</text>\n",
       "</g>\n",
       "<!-- 30&#45;&gt;20 -->\n",
       "<g id=\"edge60\" class=\"edge\">\n",
       "<title>30&#45;&gt;20</title>\n",
       "<path fill=\"none\" stroke=\"black\" d=\"M1936.78,-288.05C1942.94,-279.75 1950.5,-269.58 1957.34,-260.38\"/>\n",
       "<polygon fill=\"black\" stroke=\"black\" points=\"1960.2,-262.39 1963.36,-252.28 1954.58,-258.22 1960.2,-262.39\"/>\n",
       "</g>\n",
       "<!-- 31 -->\n",
       "<g id=\"node32\" class=\"node\">\n",
       "<title>31</title>\n",
       "<ellipse fill=\"#8c564b\" stroke=\"black\" cx=\"674.19\" cy=\"-378\" rx=\"98.58\" ry=\"18\"/>\n",
       "<text text-anchor=\"middle\" x=\"674.19\" y=\"-374.3\" font-family=\"Times,serif\" font-size=\"14.00\">31 : {19, 20, 33, 37, 42}</text>\n",
       "</g>\n",
       "<!-- 31&#45;&gt;21 -->\n",
       "<g id=\"edge62\" class=\"edge\">\n",
       "<title>31&#45;&gt;21</title>\n",
       "<path fill=\"none\" stroke=\"black\" d=\"M602.16,-365.65C590.15,-363.76 577.82,-361.82 566.19,-360 480.4,-346.56 382.42,-331.3 313.75,-320.61\"/>\n",
       "<polygon fill=\"black\" stroke=\"black\" points=\"314.26,-317.15 303.84,-319.07 313.18,-324.07 314.26,-317.15\"/>\n",
       "</g>\n",
       "<!-- 31&#45;&gt;22 -->\n",
       "<g id=\"edge63\" class=\"edge\">\n",
       "<title>31&#45;&gt;22</title>\n",
       "<path fill=\"none\" stroke=\"black\" d=\"M729.11,-362.92C772.62,-351.76 833.62,-336.12 880.04,-324.22\"/>\n",
       "<polygon fill=\"black\" stroke=\"black\" points=\"881.19,-327.54 890.01,-321.66 879.45,-320.76 881.19,-327.54\"/>\n",
       "</g>\n",
       "<!-- 31&#45;&gt;28 -->\n",
       "<g id=\"edge61\" class=\"edge\">\n",
       "<title>31&#45;&gt;28</title>\n",
       "<path fill=\"none\" stroke=\"black\" d=\"M682.42,-360.05C686.29,-352.09 690.99,-342.41 695.31,-333.51\"/>\n",
       "<polygon fill=\"black\" stroke=\"black\" points=\"698.58,-334.8 699.8,-324.28 692.28,-331.74 698.58,-334.8\"/>\n",
       "</g>\n",
       "<!-- 32 -->\n",
       "<g id=\"node33\" class=\"node\">\n",
       "<title>32</title>\n",
       "<ellipse fill=\"#8c564b\" stroke=\"black\" cx=\"458.19\" cy=\"-378\" rx=\"98.58\" ry=\"18\"/>\n",
       "<text text-anchor=\"middle\" x=\"458.19\" y=\"-374.3\" font-family=\"Times,serif\" font-size=\"14.00\">32 : {18, 19, 20, 37, 42}</text>\n",
       "</g>\n",
       "<!-- 32&#45;&gt;21 -->\n",
       "<g id=\"edge64\" class=\"edge\">\n",
       "<title>32&#45;&gt;21</title>\n",
       "<path fill=\"none\" stroke=\"black\" d=\"M409.55,-362.33C373.69,-351.51 324.69,-336.72 286.36,-325.16\"/>\n",
       "<polygon fill=\"black\" stroke=\"black\" points=\"286.95,-321.68 276.36,-322.14 284.92,-328.38 286.95,-321.68\"/>\n",
       "</g>\n",
       "<!-- 32&#45;&gt;23 -->\n",
       "<g id=\"edge65\" class=\"edge\">\n",
       "<title>32&#45;&gt;23</title>\n",
       "<path fill=\"none\" stroke=\"black\" d=\"M460.91,-359.7C462.12,-351.98 463.58,-342.71 464.93,-334.11\"/>\n",
       "<polygon fill=\"black\" stroke=\"black\" points=\"468.41,-334.53 466.5,-324.1 461.49,-333.44 468.41,-334.53\"/>\n",
       "</g>\n",
       "<!-- 33 -->\n",
       "<g id=\"node34\" class=\"node\">\n",
       "<title>33</title>\n",
       "<ellipse fill=\"#c49c94\" stroke=\"black\" cx=\"1530.19\" cy=\"-378\" rx=\"98.58\" ry=\"18\"/>\n",
       "<text text-anchor=\"middle\" x=\"1530.19\" y=\"-374.3\" font-family=\"Times,serif\" font-size=\"14.00\">33 : {16, 20, 33, 37, 42}</text>\n",
       "</g>\n",
       "<!-- 33&#45;&gt;22 -->\n",
       "<g id=\"edge69\" class=\"edge\">\n",
       "<title>33&#45;&gt;22</title>\n",
       "<path fill=\"none\" stroke=\"black\" d=\"M1459.68,-365.34C1447.21,-363.43 1434.33,-361.57 1422.19,-360 1265.79,-339.73 1225.76,-342.89 1069.19,-324 1058.97,-322.77 1048.29,-321.4 1037.67,-319.99\"/>\n",
       "<polygon fill=\"black\" stroke=\"black\" points=\"1037.9,-316.49 1027.52,-318.62 1036.97,-323.42 1037.9,-316.49\"/>\n",
       "</g>\n",
       "<!-- 33&#45;&gt;24 -->\n",
       "<g id=\"edge66\" class=\"edge\">\n",
       "<title>33&#45;&gt;24</title>\n",
       "<path fill=\"none\" stroke=\"black\" d=\"M1566.5,-361.12C1589.55,-351.03 1619.59,-337.89 1644.29,-327.08\"/>\n",
       "<polygon fill=\"black\" stroke=\"black\" points=\"1645.71,-330.28 1653.47,-323.06 1642.91,-323.87 1645.71,-330.28\"/>\n",
       "</g>\n",
       "<!-- 33&#45;&gt;26 -->\n",
       "<g id=\"edge67\" class=\"edge\">\n",
       "<title>33&#45;&gt;26</title>\n",
       "<path fill=\"none\" stroke=\"black\" d=\"M1600.39,-365.26C1612.96,-363.36 1625.94,-361.51 1638.19,-360 1814.9,-338.15 1860.34,-344.7 2037.19,-324 2047.24,-322.82 2057.75,-321.48 2068.18,-320.07\"/>\n",
       "<polygon fill=\"black\" stroke=\"black\" points=\"2068.71,-323.53 2078.15,-318.7 2067.76,-316.59 2068.71,-323.53\"/>\n",
       "</g>\n",
       "<!-- 33&#45;&gt;29 -->\n",
       "<g id=\"edge68\" class=\"edge\">\n",
       "<title>33&#45;&gt;29</title>\n",
       "<path fill=\"none\" stroke=\"black\" d=\"M1511.07,-360.05C1501.07,-351.2 1488.68,-340.22 1477.77,-330.55\"/>\n",
       "<polygon fill=\"black\" stroke=\"black\" points=\"1479.94,-327.8 1470.14,-323.79 1475.3,-333.04 1479.94,-327.8\"/>\n",
       "</g>\n",
       "<!-- 34 -->\n",
       "<g id=\"node35\" class=\"node\">\n",
       "<title>34</title>\n",
       "<ellipse fill=\"#c49c94\" stroke=\"black\" cx=\"890.19\" cy=\"-378\" rx=\"98.58\" ry=\"18\"/>\n",
       "<text text-anchor=\"middle\" x=\"890.19\" y=\"-374.3\" font-family=\"Times,serif\" font-size=\"14.00\">34 : {16, 19, 20, 37, 42}</text>\n",
       "</g>\n",
       "<!-- 34&#45;&gt;22 -->\n",
       "<g id=\"edge71\" class=\"edge\">\n",
       "<title>34&#45;&gt;22</title>\n",
       "<path fill=\"none\" stroke=\"black\" d=\"M903.99,-360.05C910.82,-351.67 919.2,-341.38 926.75,-332.1\"/>\n",
       "<polygon fill=\"black\" stroke=\"black\" points=\"929.52,-334.24 933.12,-324.28 924.09,-329.82 929.52,-334.24\"/>\n",
       "</g>\n",
       "<!-- 34&#45;&gt;23 -->\n",
       "<g id=\"edge72\" class=\"edge\">\n",
       "<title>34&#45;&gt;23</title>\n",
       "<path fill=\"none\" stroke=\"black\" d=\"M819.72,-365.28C746.69,-353.14 632.51,-334.15 554.44,-321.17\"/>\n",
       "<polygon fill=\"black\" stroke=\"black\" points=\"554.59,-317.65 544.15,-319.46 553.44,-324.56 554.59,-317.65\"/>\n",
       "</g>\n",
       "<!-- 34&#45;&gt;25 -->\n",
       "<g id=\"edge70\" class=\"edge\">\n",
       "<title>34&#45;&gt;25</title>\n",
       "<path fill=\"none\" stroke=\"black\" d=\"M948.39,-363.42C997.29,-352.01 1067.35,-335.66 1119.48,-323.5\"/>\n",
       "<polygon fill=\"black\" stroke=\"black\" points=\"1120.38,-326.88 1129.32,-321.2 1118.79,-320.07 1120.38,-326.88\"/>\n",
       "</g>\n",
       "<!-- 35 -->\n",
       "<g id=\"node36\" class=\"node\">\n",
       "<title>35</title>\n",
       "<ellipse fill=\"#c49c94\" stroke=\"black\" cx=\"1954.19\" cy=\"-378\" rx=\"98.58\" ry=\"18\"/>\n",
       "<text text-anchor=\"middle\" x=\"1954.19\" y=\"-374.3\" font-family=\"Times,serif\" font-size=\"14.00\">35 : {10, 16, 33, 37, 42}</text>\n",
       "</g>\n",
       "<!-- 35&#45;&gt;24 -->\n",
       "<g id=\"edge73\" class=\"edge\">\n",
       "<title>35&#45;&gt;24</title>\n",
       "<path fill=\"none\" stroke=\"black\" d=\"M1900.76,-362.83C1858.88,-351.73 1800.41,-336.22 1755.7,-324.37\"/>\n",
       "<polygon fill=\"black\" stroke=\"black\" points=\"1756.37,-320.93 1745.81,-321.75 1754.58,-327.69 1756.37,-320.93\"/>\n",
       "</g>\n",
       "<!-- 35&#45;&gt;27 -->\n",
       "<g id=\"edge74\" class=\"edge\">\n",
       "<title>35&#45;&gt;27</title>\n",
       "<path fill=\"none\" stroke=\"black\" d=\"M2025.7,-365.52C2102.15,-353.24 2223.34,-333.79 2304.76,-320.72\"/>\n",
       "<polygon fill=\"black\" stroke=\"black\" points=\"2305.67,-324.12 2314.98,-319.07 2304.56,-317.2 2305.67,-324.12\"/>\n",
       "</g>\n",
       "<!-- 36 -->\n",
       "<g id=\"node37\" class=\"node\">\n",
       "<title>36</title>\n",
       "<ellipse fill=\"#e377c2\" stroke=\"black\" cx=\"1314.19\" cy=\"-378\" rx=\"98.58\" ry=\"18\"/>\n",
       "<text text-anchor=\"middle\" x=\"1314.19\" y=\"-374.3\" font-family=\"Times,serif\" font-size=\"14.00\">36 : {10, 16, 20, 37, 42}</text>\n",
       "</g>\n",
       "<!-- 36&#45;&gt;24 -->\n",
       "<g id=\"edge75\" class=\"edge\">\n",
       "<title>36&#45;&gt;24</title>\n",
       "<path fill=\"none\" stroke=\"black\" d=\"M1380.54,-364.65C1444.54,-352.73 1541.51,-334.68 1609.84,-321.96\"/>\n",
       "<polygon fill=\"black\" stroke=\"black\" points=\"1610.52,-325.39 1619.71,-320.12 1609.24,-318.51 1610.52,-325.39\"/>\n",
       "</g>\n",
       "<!-- 36&#45;&gt;25 -->\n",
       "<g id=\"edge76\" class=\"edge\">\n",
       "<title>36&#45;&gt;25</title>\n",
       "<path fill=\"none\" stroke=\"black\" d=\"M1285.43,-360.76C1268.34,-351.12 1246.46,-338.77 1227.98,-328.34\"/>\n",
       "<polygon fill=\"black\" stroke=\"black\" points=\"1229.65,-325.26 1219.22,-323.39 1226.21,-331.35 1229.65,-325.26\"/>\n",
       "</g>\n",
       "<!-- 37 -->\n",
       "<g id=\"node38\" class=\"node\">\n",
       "<title>37</title>\n",
       "<ellipse fill=\"#e377c2\" stroke=\"black\" cx=\"2374.19\" cy=\"-378\" rx=\"94.78\" ry=\"18\"/>\n",
       "<text text-anchor=\"middle\" x=\"2374.19\" y=\"-374.3\" font-family=\"Times,serif\" font-size=\"14.00\">37 : {8, 16, 33, 37, 42}</text>\n",
       "</g>\n",
       "<!-- 37&#45;&gt;26 -->\n",
       "<g id=\"edge77\" class=\"edge\">\n",
       "<title>37&#45;&gt;26</title>\n",
       "<path fill=\"none\" stroke=\"black\" d=\"M2328.01,-362.24C2294.4,-351.5 2248.67,-336.88 2212.69,-325.38\"/>\n",
       "<polygon fill=\"black\" stroke=\"black\" points=\"2213.41,-321.93 2202.82,-322.22 2211.28,-328.6 2213.41,-321.93\"/>\n",
       "</g>\n",
       "<!-- 37&#45;&gt;27 -->\n",
       "<g id=\"edge78\" class=\"edge\">\n",
       "<title>37&#45;&gt;27</title>\n",
       "<path fill=\"none\" stroke=\"black\" d=\"M2378.14,-359.7C2379.91,-351.98 2382.03,-342.71 2383.99,-334.11\"/>\n",
       "<polygon fill=\"black\" stroke=\"black\" points=\"2387.46,-334.63 2386.28,-324.1 2380.64,-333.07 2387.46,-334.63\"/>\n",
       "</g>\n",
       "<!-- 38 -->\n",
       "<g id=\"node39\" class=\"node\">\n",
       "<title>38</title>\n",
       "<ellipse fill=\"#e377c2\" stroke=\"black\" cx=\"2166.19\" cy=\"-378\" rx=\"94.78\" ry=\"18\"/>\n",
       "<text text-anchor=\"middle\" x=\"2166.19\" y=\"-374.3\" font-family=\"Times,serif\" font-size=\"14.00\">38 : {8, 16, 20, 33, 42}</text>\n",
       "</g>\n",
       "<!-- 38&#45;&gt;26 -->\n",
       "<g id=\"edge79\" class=\"edge\">\n",
       "<title>38&#45;&gt;26</title>\n",
       "<path fill=\"none\" stroke=\"black\" d=\"M2163.47,-359.7C2162.26,-351.98 2160.8,-342.71 2159.45,-334.11\"/>\n",
       "<polygon fill=\"black\" stroke=\"black\" points=\"2162.89,-333.44 2157.88,-324.1 2155.97,-334.53 2162.89,-333.44\"/>\n",
       "</g>\n",
       "<!-- 38&#45;&gt;30 -->\n",
       "<g id=\"edge80\" class=\"edge\">\n",
       "<title>38&#45;&gt;30</title>\n",
       "<path fill=\"none\" stroke=\"black\" d=\"M2116.34,-362.58C2078.25,-351.56 2025.57,-336.32 1985,-324.59\"/>\n",
       "<polygon fill=\"black\" stroke=\"black\" points=\"1985.8,-321.18 1975.22,-321.76 1983.86,-327.9 1985.8,-321.18\"/>\n",
       "</g>\n",
       "<!-- 39 -->\n",
       "<g id=\"node40\" class=\"node\">\n",
       "<title>39</title>\n",
       "<ellipse fill=\"#f7b6d2\" stroke=\"black\" cx=\"1102.19\" cy=\"-378\" rx=\"94.78\" ry=\"18\"/>\n",
       "<text text-anchor=\"middle\" x=\"1102.19\" y=\"-374.3\" font-family=\"Times,serif\" font-size=\"14.00\">39 : {0, 20, 33, 37, 42}</text>\n",
       "</g>\n",
       "<!-- 39&#45;&gt;28 -->\n",
       "<g id=\"edge81\" class=\"edge\">\n",
       "<title>39&#45;&gt;28</title>\n",
       "<path fill=\"none\" stroke=\"black\" d=\"M1035.35,-365.13C967.41,-353.06 862.09,-334.34 789.39,-321.43\"/>\n",
       "<polygon fill=\"black\" stroke=\"black\" points=\"789.81,-317.95 779.35,-319.64 788.59,-324.84 789.81,-317.95\"/>\n",
       "</g>\n",
       "<!-- 39&#45;&gt;29 -->\n",
       "<g id=\"edge82\" class=\"edge\">\n",
       "<title>39&#45;&gt;29</title>\n",
       "<path fill=\"none\" stroke=\"black\" d=\"M1164.99,-364.4C1223.85,-352.6 1311.97,-334.92 1374.87,-322.31\"/>\n",
       "<polygon fill=\"black\" stroke=\"black\" points=\"1375.62,-325.73 1384.74,-320.33 1374.25,-318.86 1375.62,-325.73\"/>\n",
       "</g>\n",
       "<!-- 40 -->\n",
       "<g id=\"node41\" class=\"node\">\n",
       "<title>40</title>\n",
       "<ellipse fill=\"#f7b6d2\" stroke=\"black\" cx=\"1742.19\" cy=\"-378\" rx=\"94.78\" ry=\"18\"/>\n",
       "<text text-anchor=\"middle\" x=\"1742.19\" y=\"-374.3\" font-family=\"Times,serif\" font-size=\"14.00\">40 : {0, 16, 20, 33, 42}</text>\n",
       "</g>\n",
       "<!-- 40&#45;&gt;29 -->\n",
       "<g id=\"edge83\" class=\"edge\">\n",
       "<title>40&#45;&gt;29</title>\n",
       "<path fill=\"none\" stroke=\"black\" d=\"M1685.74,-363.42C1638.32,-352.01 1570.41,-335.68 1519.85,-323.52\"/>\n",
       "<polygon fill=\"black\" stroke=\"black\" points=\"1520.52,-320.08 1509.98,-321.14 1518.88,-326.88 1520.52,-320.08\"/>\n",
       "</g>\n",
       "<!-- 40&#45;&gt;30 -->\n",
       "<g id=\"edge84\" class=\"edge\">\n",
       "<title>40&#45;&gt;30</title>\n",
       "<path fill=\"none\" stroke=\"black\" d=\"M1782.13,-361.64C1809.11,-351.26 1844.95,-337.48 1873.87,-326.35\"/>\n",
       "<polygon fill=\"black\" stroke=\"black\" points=\"1875.32,-329.55 1883.4,-322.69 1872.81,-323.01 1875.32,-329.55\"/>\n",
       "</g>\n",
       "<!-- 41 -->\n",
       "<g id=\"node42\" class=\"node\">\n",
       "<title>41</title>\n",
       "<ellipse fill=\"#f7b6d2\" stroke=\"black\" cx=\"1036.19\" cy=\"-450\" rx=\"85.29\" ry=\"18\"/>\n",
       "<text text-anchor=\"middle\" x=\"1036.19\" y=\"-446.3\" font-family=\"Times,serif\" font-size=\"14.00\">41 : {20, 33, 37, 42}</text>\n",
       "</g>\n",
       "<!-- 41&#45;&gt;31 -->\n",
       "<g id=\"edge87\" class=\"edge\">\n",
       "<title>41&#45;&gt;31</title>\n",
       "<path fill=\"none\" stroke=\"black\" d=\"M975.6,-437.28C913.38,-425.25 816.42,-406.5 749.35,-393.53\"/>\n",
       "<polygon fill=\"black\" stroke=\"black\" points=\"749.74,-390.05 739.26,-391.58 748.42,-396.92 749.74,-390.05\"/>\n",
       "</g>\n",
       "<!-- 41&#45;&gt;33 -->\n",
       "<g id=\"edge85\" class=\"edge\">\n",
       "<title>41&#45;&gt;33</title>\n",
       "<path fill=\"none\" stroke=\"black\" d=\"M1097.29,-437.44C1108.23,-435.51 1119.53,-433.62 1130.19,-432 1259.47,-412.36 1292.7,-414.17 1422.19,-396 1430.86,-394.78 1439.92,-393.45 1448.93,-392.09\"/>\n",
       "<polygon fill=\"black\" stroke=\"black\" points=\"1449.72,-395.51 1459.07,-390.54 1448.66,-388.59 1449.72,-395.51\"/>\n",
       "</g>\n",
       "<!-- 41&#45;&gt;39 -->\n",
       "<g id=\"edge86\" class=\"edge\">\n",
       "<title>41&#45;&gt;39</title>\n",
       "<path fill=\"none\" stroke=\"black\" d=\"M1052.17,-432.05C1060.35,-423.37 1070.47,-412.64 1079.45,-403.11\"/>\n",
       "<polygon fill=\"black\" stroke=\"black\" points=\"1082.05,-405.47 1086.36,-395.79 1076.95,-400.66 1082.05,-405.47\"/>\n",
       "</g>\n",
       "<!-- 42 -->\n",
       "<g id=\"node43\" class=\"node\">\n",
       "<title>42</title>\n",
       "<ellipse fill=\"#7f7f7f\" stroke=\"black\" cx=\"768.19\" cy=\"-450\" rx=\"85.29\" ry=\"18\"/>\n",
       "<text text-anchor=\"middle\" x=\"768.19\" y=\"-446.3\" font-family=\"Times,serif\" font-size=\"14.00\">42 : {19, 20, 37, 42}</text>\n",
       "</g>\n",
       "<!-- 42&#45;&gt;31 -->\n",
       "<g id=\"edge90\" class=\"edge\">\n",
       "<title>42&#45;&gt;31</title>\n",
       "<path fill=\"none\" stroke=\"black\" d=\"M745.91,-432.41C733.59,-423.24 718.11,-411.7 704.68,-401.71\"/>\n",
       "<polygon fill=\"black\" stroke=\"black\" points=\"706.74,-398.88 696.63,-395.71 702.56,-404.49 706.74,-398.88\"/>\n",
       "</g>\n",
       "<!-- 42&#45;&gt;32 -->\n",
       "<g id=\"edge88\" class=\"edge\">\n",
       "<title>42&#45;&gt;32</title>\n",
       "<path fill=\"none\" stroke=\"black\" d=\"M712.05,-436.32C660.2,-424.62 583.03,-407.19 527.39,-394.62\"/>\n",
       "<polygon fill=\"black\" stroke=\"black\" points=\"528.13,-391.21 517.61,-392.42 526.59,-398.03 528.13,-391.21\"/>\n",
       "</g>\n",
       "<!-- 42&#45;&gt;34 -->\n",
       "<g id=\"edge89\" class=\"edge\">\n",
       "<title>42&#45;&gt;34</title>\n",
       "<path fill=\"none\" stroke=\"black\" d=\"M796.18,-432.94C812.83,-423.39 834.18,-411.13 852.33,-400.72\"/>\n",
       "<polygon fill=\"black\" stroke=\"black\" points=\"854.55,-403.48 861.48,-395.47 851.07,-397.41 854.55,-403.48\"/>\n",
       "</g>\n",
       "<!-- 43 -->\n",
       "<g id=\"node44\" class=\"node\">\n",
       "<title>43</title>\n",
       "<ellipse fill=\"#7f7f7f\" stroke=\"black\" cx=\"1968.19\" cy=\"-450\" rx=\"85.29\" ry=\"18\"/>\n",
       "<text text-anchor=\"middle\" x=\"1968.19\" y=\"-446.3\" font-family=\"Times,serif\" font-size=\"14.00\">43 : {16, 33, 37, 42}</text>\n",
       "</g>\n",
       "<!-- 43&#45;&gt;33 -->\n",
       "<g id=\"edge91\" class=\"edge\">\n",
       "<title>43&#45;&gt;33</title>\n",
       "<path fill=\"none\" stroke=\"black\" d=\"M1906.29,-437.56C1895.59,-435.65 1884.58,-433.73 1874.19,-432 1769.53,-414.56 1743.04,-412.25 1638.19,-396 1629.74,-394.69 1620.92,-393.32 1612.12,-391.94\"/>\n",
       "<polygon fill=\"black\" stroke=\"black\" points=\"1612.64,-388.48 1602.22,-390.39 1611.56,-395.39 1612.64,-388.48\"/>\n",
       "</g>\n",
       "<!-- 43&#45;&gt;35 -->\n",
       "<g id=\"edge92\" class=\"edge\">\n",
       "<title>43&#45;&gt;35</title>\n",
       "<path fill=\"none\" stroke=\"black\" d=\"M1964.73,-431.7C1963.19,-423.98 1961.33,-414.71 1959.61,-406.11\"/>\n",
       "<polygon fill=\"black\" stroke=\"black\" points=\"1963,-405.22 1957.61,-396.1 1956.14,-406.6 1963,-405.22\"/>\n",
       "</g>\n",
       "<!-- 43&#45;&gt;37 -->\n",
       "<g id=\"edge93\" class=\"edge\">\n",
       "<title>43&#45;&gt;37</title>\n",
       "<path fill=\"none\" stroke=\"black\" d=\"M2032.07,-437.99C2103.67,-425.64 2219.75,-405.63 2296.52,-392.39\"/>\n",
       "<polygon fill=\"black\" stroke=\"black\" points=\"2297.36,-395.8 2306.62,-390.65 2296.17,-388.9 2297.36,-395.8\"/>\n",
       "</g>\n",
       "<!-- 44 -->\n",
       "<g id=\"node45\" class=\"node\">\n",
       "<title>44</title>\n",
       "<ellipse fill=\"#7f7f7f\" stroke=\"black\" cx=\"1224.19\" cy=\"-450\" rx=\"85.29\" ry=\"18\"/>\n",
       "<text text-anchor=\"middle\" x=\"1224.19\" y=\"-446.3\" font-family=\"Times,serif\" font-size=\"14.00\">44 : {16, 20, 37, 42}</text>\n",
       "</g>\n",
       "<!-- 44&#45;&gt;33 -->\n",
       "<g id=\"edge94\" class=\"edge\">\n",
       "<title>44&#45;&gt;33</title>\n",
       "<path fill=\"none\" stroke=\"black\" d=\"M1279.6,-436.32C1330.6,-424.66 1406.41,-407.32 1461.28,-394.76\"/>\n",
       "<polygon fill=\"black\" stroke=\"black\" points=\"1462.31,-398.12 1471.27,-392.48 1460.75,-391.3 1462.31,-398.12\"/>\n",
       "</g>\n",
       "<!-- 44&#45;&gt;34 -->\n",
       "<g id=\"edge95\" class=\"edge\">\n",
       "<title>44&#45;&gt;34</title>\n",
       "<path fill=\"none\" stroke=\"black\" d=\"M1166.01,-436.81C1109.45,-424.95 1023.38,-406.91 962.45,-394.14\"/>\n",
       "<polygon fill=\"black\" stroke=\"black\" points=\"963.02,-390.69 952.52,-392.06 961.59,-397.54 963.02,-390.69\"/>\n",
       "</g>\n",
       "<!-- 44&#45;&gt;36 -->\n",
       "<g id=\"edge96\" class=\"edge\">\n",
       "<title>44&#45;&gt;36</title>\n",
       "<path fill=\"none\" stroke=\"black\" d=\"M1245.52,-432.41C1257.2,-423.32 1271.86,-411.92 1284.63,-401.99\"/>\n",
       "<polygon fill=\"black\" stroke=\"black\" points=\"1286.96,-404.61 1292.7,-395.71 1282.66,-399.09 1286.96,-404.61\"/>\n",
       "</g>\n",
       "<!-- 45 -->\n",
       "<g id=\"node46\" class=\"node\">\n",
       "<title>45</title>\n",
       "<ellipse fill=\"#c7c7c7\" stroke=\"black\" cx=\"1780.19\" cy=\"-450\" rx=\"85.29\" ry=\"18\"/>\n",
       "<text text-anchor=\"middle\" x=\"1780.19\" y=\"-446.3\" font-family=\"Times,serif\" font-size=\"14.00\">45 : {16, 20, 33, 42}</text>\n",
       "</g>\n",
       "<!-- 45&#45;&gt;33 -->\n",
       "<g id=\"edge98\" class=\"edge\">\n",
       "<title>45&#45;&gt;33</title>\n",
       "<path fill=\"none\" stroke=\"black\" d=\"M1731.1,-435.25C1691.12,-424.06 1634.48,-408.2 1591.53,-396.17\"/>\n",
       "<polygon fill=\"black\" stroke=\"black\" points=\"1592.32,-392.76 1581.75,-393.44 1590.44,-399.5 1592.32,-392.76\"/>\n",
       "</g>\n",
       "<!-- 45&#45;&gt;38 -->\n",
       "<g id=\"edge99\" class=\"edge\">\n",
       "<title>45&#45;&gt;38</title>\n",
       "<path fill=\"none\" stroke=\"black\" d=\"M1842.64,-437.68C1910.19,-425.42 2017.92,-405.89 2090.31,-392.76\"/>\n",
       "<polygon fill=\"black\" stroke=\"black\" points=\"2091.06,-396.18 2100.28,-390.95 2089.81,-389.29 2091.06,-396.18\"/>\n",
       "</g>\n",
       "<!-- 45&#45;&gt;40 -->\n",
       "<g id=\"edge97\" class=\"edge\">\n",
       "<title>45&#45;&gt;40</title>\n",
       "<path fill=\"none\" stroke=\"black\" d=\"M1770.99,-432.05C1766.62,-424.01 1761.3,-414.2 1756.43,-405.23\"/>\n",
       "<polygon fill=\"black\" stroke=\"black\" points=\"1759.41,-403.39 1751.57,-396.28 1753.26,-406.73 1759.41,-403.39\"/>\n",
       "</g>\n",
       "<!-- 46 -->\n",
       "<g id=\"node47\" class=\"node\">\n",
       "<title>46</title>\n",
       "<ellipse fill=\"#c7c7c7\" stroke=\"black\" cx=\"1592.19\" cy=\"-450\" rx=\"85.29\" ry=\"18\"/>\n",
       "<text text-anchor=\"middle\" x=\"1592.19\" y=\"-446.3\" font-family=\"Times,serif\" font-size=\"14.00\">46 : {10, 16, 37, 42}</text>\n",
       "</g>\n",
       "<!-- 46&#45;&gt;35 -->\n",
       "<g id=\"edge100\" class=\"edge\">\n",
       "<title>46&#45;&gt;35</title>\n",
       "<path fill=\"none\" stroke=\"black\" d=\"M1652.78,-437.28C1715,-425.25 1811.96,-406.5 1879.03,-393.53\"/>\n",
       "<polygon fill=\"black\" stroke=\"black\" points=\"1879.96,-396.92 1889.12,-391.58 1878.63,-390.05 1879.96,-396.92\"/>\n",
       "</g>\n",
       "<!-- 46&#45;&gt;36 -->\n",
       "<g id=\"edge101\" class=\"edge\">\n",
       "<title>46&#45;&gt;36</title>\n",
       "<path fill=\"none\" stroke=\"black\" d=\"M1539.57,-435.75C1494.21,-424.33 1428.52,-407.79 1379.75,-395.51\"/>\n",
       "<polygon fill=\"black\" stroke=\"black\" points=\"1380.48,-392.08 1369.93,-393.03 1378.77,-398.87 1380.48,-392.08\"/>\n",
       "</g>\n",
       "<!-- 47 -->\n",
       "<g id=\"node48\" class=\"node\">\n",
       "<title>47</title>\n",
       "<ellipse fill=\"#c7c7c7\" stroke=\"black\" cx=\"2166.19\" cy=\"-450\" rx=\"81.49\" ry=\"18\"/>\n",
       "<text text-anchor=\"middle\" x=\"2166.19\" y=\"-446.3\" font-family=\"Times,serif\" font-size=\"14.00\">47 : {8, 16, 33, 42}</text>\n",
       "</g>\n",
       "<!-- 47&#45;&gt;37 -->\n",
       "<g id=\"edge102\" class=\"edge\">\n",
       "<title>47&#45;&gt;37</title>\n",
       "<path fill=\"none\" stroke=\"black\" d=\"M2208.78,-434.67C2241.05,-423.81 2285.6,-408.81 2320.34,-397.12\"/>\n",
       "<polygon fill=\"black\" stroke=\"black\" points=\"2321.5,-400.43 2329.86,-393.92 2319.26,-393.79 2321.5,-400.43\"/>\n",
       "</g>\n",
       "<!-- 47&#45;&gt;38 -->\n",
       "<g id=\"edge103\" class=\"edge\">\n",
       "<title>47&#45;&gt;38</title>\n",
       "<path fill=\"none\" stroke=\"black\" d=\"M2166.19,-431.7C2166.19,-423.98 2166.19,-414.71 2166.19,-406.11\"/>\n",
       "<polygon fill=\"black\" stroke=\"black\" points=\"2169.69,-406.1 2166.19,-396.1 2162.69,-406.1 2169.69,-406.1\"/>\n",
       "</g>\n",
       "<!-- 48 -->\n",
       "<g id=\"node49\" class=\"node\">\n",
       "<title>48</title>\n",
       "<ellipse fill=\"#bcbd22\" stroke=\"black\" cx=\"1408.19\" cy=\"-450\" rx=\"81.49\" ry=\"18\"/>\n",
       "<text text-anchor=\"middle\" x=\"1408.19\" y=\"-446.3\" font-family=\"Times,serif\" font-size=\"14.00\">48 : {0, 20, 33, 42}</text>\n",
       "</g>\n",
       "<!-- 48&#45;&gt;39 -->\n",
       "<g id=\"edge105\" class=\"edge\">\n",
       "<title>48&#45;&gt;39</title>\n",
       "<path fill=\"none\" stroke=\"black\" d=\"M1353.84,-436.57C1302.58,-424.84 1225.59,-407.23 1170.27,-394.57\"/>\n",
       "<polygon fill=\"black\" stroke=\"black\" points=\"1170.73,-391.09 1160.2,-392.27 1169.17,-397.91 1170.73,-391.09\"/>\n",
       "</g>\n",
       "<!-- 48&#45;&gt;40 -->\n",
       "<g id=\"edge104\" class=\"edge\">\n",
       "<title>48&#45;&gt;40</title>\n",
       "<path fill=\"none\" stroke=\"black\" d=\"M1465.23,-437.05C1522.14,-425.12 1609.74,-406.76 1671.15,-393.89\"/>\n",
       "<polygon fill=\"black\" stroke=\"black\" points=\"1672.08,-397.27 1681.15,-391.79 1670.64,-390.42 1672.08,-397.27\"/>\n",
       "</g>\n",
       "<!-- 49 -->\n",
       "<g id=\"node50\" class=\"node\">\n",
       "<title>49</title>\n",
       "<ellipse fill=\"#bcbd22\" stroke=\"black\" cx=\"1582.19\" cy=\"-522\" rx=\"71.49\" ry=\"18\"/>\n",
       "<text text-anchor=\"middle\" x=\"1582.19\" y=\"-518.3\" font-family=\"Times,serif\" font-size=\"14.00\">49 : {33, 37, 42}</text>\n",
       "</g>\n",
       "<!-- 49&#45;&gt;41 -->\n",
       "<g id=\"edge106\" class=\"edge\">\n",
       "<title>49&#45;&gt;41</title>\n",
       "<path fill=\"none\" stroke=\"black\" d=\"M1530.92,-509.35C1521.09,-507.37 1510.85,-505.48 1501.19,-504 1337.43,-478.95 1294.28,-490.76 1130.19,-468 1122.57,-466.94 1114.62,-465.71 1106.71,-464.4\"/>\n",
       "<polygon fill=\"black\" stroke=\"black\" points=\"1107.2,-460.93 1096.75,-462.71 1106.02,-467.83 1107.2,-460.93\"/>\n",
       "</g>\n",
       "<!-- 49&#45;&gt;43 -->\n",
       "<g id=\"edge107\" class=\"edge\">\n",
       "<title>49&#45;&gt;43</title>\n",
       "<path fill=\"none\" stroke=\"black\" d=\"M1634.85,-509.65C1644.28,-507.7 1654.01,-505.74 1663.19,-504 1756.65,-486.23 1780.49,-484.47 1874.19,-468 1881.26,-466.76 1888.64,-465.45 1896,-464.13\"/>\n",
       "<polygon fill=\"black\" stroke=\"black\" points=\"1896.79,-467.55 1906.01,-462.33 1895.55,-460.66 1896.79,-467.55\"/>\n",
       "</g>\n",
       "<!-- 50 -->\n",
       "<g id=\"node51\" class=\"node\">\n",
       "<title>50</title>\n",
       "<ellipse fill=\"#bcbd22\" stroke=\"black\" cx=\"1099.19\" cy=\"-522\" rx=\"71.49\" ry=\"18\"/>\n",
       "<text text-anchor=\"middle\" x=\"1099.19\" y=\"-518.3\" font-family=\"Times,serif\" font-size=\"14.00\">50 : {20, 37, 42}</text>\n",
       "</g>\n",
       "<!-- 50&#45;&gt;41 -->\n",
       "<g id=\"edge108\" class=\"edge\">\n",
       "<title>50&#45;&gt;41</title>\n",
       "<path fill=\"none\" stroke=\"black\" d=\"M1083.94,-504.05C1076.2,-495.46 1066.66,-484.86 1058.15,-475.4\"/>\n",
       "<polygon fill=\"black\" stroke=\"black\" points=\"1060.59,-472.88 1051.3,-467.79 1055.39,-477.56 1060.59,-472.88\"/>\n",
       "</g>\n",
       "<!-- 50&#45;&gt;42 -->\n",
       "<g id=\"edge109\" class=\"edge\">\n",
       "<title>50&#45;&gt;42</title>\n",
       "<path fill=\"none\" stroke=\"black\" d=\"M1046.38,-509.83C989.41,-497.78 898.51,-478.56 836.23,-465.39\"/>\n",
       "<polygon fill=\"black\" stroke=\"black\" points=\"836.61,-461.89 826.1,-463.25 835.16,-468.74 836.61,-461.89\"/>\n",
       "</g>\n",
       "<!-- 50&#45;&gt;44 -->\n",
       "<g id=\"edge110\" class=\"edge\">\n",
       "<title>50&#45;&gt;44</title>\n",
       "<path fill=\"none\" stroke=\"black\" d=\"M1127.24,-505.29C1144.76,-495.48 1167.54,-482.72 1186.62,-472.04\"/>\n",
       "<polygon fill=\"black\" stroke=\"black\" points=\"1188.35,-475.08 1195.36,-467.14 1184.93,-468.97 1188.35,-475.08\"/>\n",
       "</g>\n",
       "<!-- 51 -->\n",
       "<g id=\"node52\" class=\"node\">\n",
       "<title>51</title>\n",
       "<ellipse fill=\"#dbdb8d\" stroke=\"black\" cx=\"1260.19\" cy=\"-522\" rx=\"71.49\" ry=\"18\"/>\n",
       "<text text-anchor=\"middle\" x=\"1260.19\" y=\"-518.3\" font-family=\"Times,serif\" font-size=\"14.00\">51 : {20, 33, 42}</text>\n",
       "</g>\n",
       "<!-- 51&#45;&gt;41 -->\n",
       "<g id=\"edge112\" class=\"edge\">\n",
       "<title>51&#45;&gt;41</title>\n",
       "<path fill=\"none\" stroke=\"black\" d=\"M1217.26,-507.59C1181.55,-496.42 1130.45,-480.46 1091.64,-468.33\"/>\n",
       "<polygon fill=\"black\" stroke=\"black\" points=\"1092.64,-464.97 1082.05,-465.33 1090.55,-471.66 1092.64,-464.97\"/>\n",
       "</g>\n",
       "<!-- 51&#45;&gt;45 -->\n",
       "<g id=\"edge113\" class=\"edge\">\n",
       "<title>51&#45;&gt;45</title>\n",
       "<path fill=\"none\" stroke=\"black\" d=\"M1311.46,-509.41C1321.3,-507.42 1331.54,-505.51 1341.19,-504 1493.5,-480.14 1533.56,-489.73 1686.19,-468 1693.75,-466.92 1701.63,-465.68 1709.48,-464.37\"/>\n",
       "<polygon fill=\"black\" stroke=\"black\" points=\"1710.1,-467.82 1719.37,-462.69 1708.92,-460.92 1710.1,-467.82\"/>\n",
       "</g>\n",
       "<!-- 51&#45;&gt;48 -->\n",
       "<g id=\"edge111\" class=\"edge\">\n",
       "<title>51&#45;&gt;48</title>\n",
       "<path fill=\"none\" stroke=\"black\" d=\"M1292.3,-505.81C1313.99,-495.55 1342.84,-481.91 1366.33,-470.8\"/>\n",
       "<polygon fill=\"black\" stroke=\"black\" points=\"1367.83,-473.96 1375.37,-466.52 1364.83,-467.63 1367.83,-473.96\"/>\n",
       "</g>\n",
       "<!-- 52 -->\n",
       "<g id=\"node53\" class=\"node\">\n",
       "<title>52</title>\n",
       "<ellipse fill=\"#dbdb8d\" stroke=\"black\" cx=\"1743.19\" cy=\"-522\" rx=\"71.49\" ry=\"18\"/>\n",
       "<text text-anchor=\"middle\" x=\"1743.19\" y=\"-518.3\" font-family=\"Times,serif\" font-size=\"14.00\">52 : {16, 37, 42}</text>\n",
       "</g>\n",
       "<!-- 52&#45;&gt;43 -->\n",
       "<g id=\"edge114\" class=\"edge\">\n",
       "<title>52&#45;&gt;43</title>\n",
       "<path fill=\"none\" stroke=\"black\" d=\"M1786.31,-507.59C1822.3,-496.39 1873.85,-480.35 1912.88,-468.21\"/>\n",
       "<polygon fill=\"black\" stroke=\"black\" points=\"1914.01,-471.52 1922.51,-465.21 1911.93,-464.84 1914.01,-471.52\"/>\n",
       "</g>\n",
       "<!-- 52&#45;&gt;44 -->\n",
       "<g id=\"edge115\" class=\"edge\">\n",
       "<title>52&#45;&gt;44</title>\n",
       "<path fill=\"none\" stroke=\"black\" d=\"M1691.92,-509.41C1682.08,-507.42 1671.84,-505.51 1662.19,-504 1510.32,-480.18 1470.37,-489.69 1318.19,-468 1310.63,-466.92 1302.74,-465.68 1294.9,-464.37\"/>\n",
       "<polygon fill=\"black\" stroke=\"black\" points=\"1295.46,-460.92 1285.01,-462.68 1294.28,-467.82 1295.46,-460.92\"/>\n",
       "</g>\n",
       "<!-- 52&#45;&gt;46 -->\n",
       "<g id=\"edge116\" class=\"edge\">\n",
       "<title>52&#45;&gt;46</title>\n",
       "<path fill=\"none\" stroke=\"black\" d=\"M1710.42,-505.81C1688.37,-495.59 1659.06,-482 1635.15,-470.91\"/>\n",
       "<polygon fill=\"black\" stroke=\"black\" points=\"1636.48,-467.67 1625.94,-466.64 1633.54,-474.03 1636.48,-467.67\"/>\n",
       "</g>\n",
       "<!-- 53 -->\n",
       "<g id=\"node54\" class=\"node\">\n",
       "<title>53</title>\n",
       "<ellipse fill=\"#dbdb8d\" stroke=\"black\" cx=\"1904.19\" cy=\"-522\" rx=\"71.49\" ry=\"18\"/>\n",
       "<text text-anchor=\"middle\" x=\"1904.19\" y=\"-518.3\" font-family=\"Times,serif\" font-size=\"14.00\">53 : {16, 33, 42}</text>\n",
       "</g>\n",
       "<!-- 53&#45;&gt;43 -->\n",
       "<g id=\"edge117\" class=\"edge\">\n",
       "<title>53&#45;&gt;43</title>\n",
       "<path fill=\"none\" stroke=\"black\" d=\"M1919.68,-504.05C1927.54,-495.46 1937.23,-484.86 1945.88,-475.4\"/>\n",
       "<polygon fill=\"black\" stroke=\"black\" points=\"1948.67,-477.53 1952.84,-467.79 1943.51,-472.81 1948.67,-477.53\"/>\n",
       "</g>\n",
       "<!-- 53&#45;&gt;45 -->\n",
       "<g id=\"edge118\" class=\"edge\">\n",
       "<title>53&#45;&gt;45</title>\n",
       "<path fill=\"none\" stroke=\"black\" d=\"M1876.36,-505.29C1859.06,-495.52 1836.59,-482.84 1817.72,-472.19\"/>\n",
       "<polygon fill=\"black\" stroke=\"black\" points=\"1819.21,-469.01 1808.78,-467.14 1815.77,-475.11 1819.21,-469.01\"/>\n",
       "</g>\n",
       "<!-- 53&#45;&gt;47 -->\n",
       "<g id=\"edge119\" class=\"edge\">\n",
       "<title>53&#45;&gt;47</title>\n",
       "<path fill=\"none\" stroke=\"black\" d=\"M1951.33,-508.4C1994.8,-496.79 2059.51,-479.5 2106.55,-466.93\"/>\n",
       "<polygon fill=\"black\" stroke=\"black\" points=\"2107.55,-470.29 2116.3,-464.33 2105.74,-463.53 2107.55,-470.29\"/>\n",
       "</g>\n",
       "<!-- 54 -->\n",
       "<g id=\"node55\" class=\"node\">\n",
       "<title>54</title>\n",
       "<ellipse fill=\"#17becf\" stroke=\"black\" cx=\"1421.19\" cy=\"-522\" rx=\"71.49\" ry=\"18\"/>\n",
       "<text text-anchor=\"middle\" x=\"1421.19\" y=\"-518.3\" font-family=\"Times,serif\" font-size=\"14.00\">54 : {16, 20, 42}</text>\n",
       "</g>\n",
       "<!-- 54&#45;&gt;44 -->\n",
       "<g id=\"edge120\" class=\"edge\">\n",
       "<title>54&#45;&gt;44</title>\n",
       "<path fill=\"none\" stroke=\"black\" d=\"M1381.32,-506.83C1350.73,-495.96 1308.26,-480.87 1275.19,-469.12\"/>\n",
       "<polygon fill=\"black\" stroke=\"black\" points=\"1276.29,-465.8 1265.69,-465.75 1273.94,-472.39 1276.29,-465.8\"/>\n",
       "</g>\n",
       "<!-- 54&#45;&gt;45 -->\n",
       "<g id=\"edge121\" class=\"edge\">\n",
       "<title>54&#45;&gt;45</title>\n",
       "<path fill=\"none\" stroke=\"black\" d=\"M1473.88,-509.79C1483.3,-507.83 1493.03,-505.83 1502.19,-504 1572.18,-489.98 1652.26,-474.81 1708.44,-464.3\"/>\n",
       "<polygon fill=\"black\" stroke=\"black\" points=\"1709.11,-467.74 1718.29,-462.46 1707.82,-460.86 1709.11,-467.74\"/>\n",
       "</g>\n",
       "<!-- 55 -->\n",
       "<g id=\"node56\" class=\"node\">\n",
       "<title>55</title>\n",
       "<ellipse fill=\"#17becf\" stroke=\"black\" cx=\"1455.19\" cy=\"-594\" rx=\"57.69\" ry=\"18\"/>\n",
       "<text text-anchor=\"middle\" x=\"1455.19\" y=\"-590.3\" font-family=\"Times,serif\" font-size=\"14.00\">55 : {37, 42}</text>\n",
       "</g>\n",
       "<!-- 55&#45;&gt;49 -->\n",
       "<g id=\"edge122\" class=\"edge\">\n",
       "<title>55&#45;&gt;49</title>\n",
       "<path fill=\"none\" stroke=\"black\" d=\"M1482.43,-577.98C1500.64,-567.95 1524.82,-554.62 1544.81,-543.6\"/>\n",
       "<polygon fill=\"black\" stroke=\"black\" points=\"1546.6,-546.61 1553.67,-538.72 1543.22,-540.48 1546.6,-546.61\"/>\n",
       "</g>\n",
       "<!-- 55&#45;&gt;50 -->\n",
       "<g id=\"edge123\" class=\"edge\">\n",
       "<title>55&#45;&gt;50</title>\n",
       "<path fill=\"none\" stroke=\"black\" d=\"M1406.96,-583.95C1352.01,-573.59 1259.55,-555.97 1180.19,-540 1174.32,-538.82 1168.22,-537.57 1162.12,-536.31\"/>\n",
       "<polygon fill=\"black\" stroke=\"black\" points=\"1162.39,-532.79 1151.88,-534.19 1160.97,-539.65 1162.39,-532.79\"/>\n",
       "</g>\n",
       "<!-- 55&#45;&gt;52 -->\n",
       "<g id=\"edge124\" class=\"edge\">\n",
       "<title>55&#45;&gt;52</title>\n",
       "<path fill=\"none\" stroke=\"black\" d=\"M1498.42,-581.94C1506.32,-579.95 1514.5,-577.9 1522.19,-576 1576.5,-562.6 1638.44,-547.78 1682.9,-537.23\"/>\n",
       "<polygon fill=\"black\" stroke=\"black\" points=\"1683.75,-540.63 1692.67,-534.92 1682.14,-533.82 1683.75,-540.63\"/>\n",
       "</g>\n",
       "<!-- 56 -->\n",
       "<g id=\"node57\" class=\"node\">\n",
       "<title>56</title>\n",
       "<ellipse fill=\"#17becf\" stroke=\"black\" cx=\"1589.19\" cy=\"-594\" rx=\"57.69\" ry=\"18\"/>\n",
       "<text text-anchor=\"middle\" x=\"1589.19\" y=\"-590.3\" font-family=\"Times,serif\" font-size=\"14.00\">56 : {33, 42}</text>\n",
       "</g>\n",
       "<!-- 56&#45;&gt;49 -->\n",
       "<g id=\"edge125\" class=\"edge\">\n",
       "<title>56&#45;&gt;49</title>\n",
       "<path fill=\"none\" stroke=\"black\" d=\"M1587.46,-575.7C1586.69,-567.98 1585.76,-558.71 1584.9,-550.11\"/>\n",
       "<polygon fill=\"black\" stroke=\"black\" points=\"1588.38,-549.71 1583.9,-540.1 1581.41,-550.4 1588.38,-549.71\"/>\n",
       "</g>\n",
       "<!-- 56&#45;&gt;51 -->\n",
       "<g id=\"edge126\" class=\"edge\">\n",
       "<title>56&#45;&gt;51</title>\n",
       "<path fill=\"none\" stroke=\"black\" d=\"M1546.38,-581.78C1538.36,-579.78 1530.03,-577.77 1522.19,-576 1442.19,-557.91 1421.55,-556.42 1341.19,-540 1335.42,-538.82 1329.42,-537.58 1323.41,-536.34\"/>\n",
       "<polygon fill=\"black\" stroke=\"black\" points=\"1323.83,-532.85 1313.33,-534.24 1322.41,-539.7 1323.83,-532.85\"/>\n",
       "</g>\n",
       "<!-- 56&#45;&gt;53 -->\n",
       "<g id=\"edge127\" class=\"edge\">\n",
       "<title>56&#45;&gt;53</title>\n",
       "<path fill=\"none\" stroke=\"black\" d=\"M1634.99,-582.82C1689.79,-570.64 1781.74,-550.21 1842.69,-536.67\"/>\n",
       "<polygon fill=\"black\" stroke=\"black\" points=\"1843.57,-540.06 1852.57,-534.47 1842.05,-533.22 1843.57,-540.06\"/>\n",
       "</g>\n",
       "<!-- 57 -->\n",
       "<g id=\"node58\" class=\"node\">\n",
       "<title>57</title>\n",
       "<ellipse fill=\"#9edae5\" stroke=\"black\" cx=\"1294.19\" cy=\"-594\" rx=\"57.69\" ry=\"18\"/>\n",
       "<text text-anchor=\"middle\" x=\"1294.19\" y=\"-590.3\" font-family=\"Times,serif\" font-size=\"14.00\">57 : {20, 42}</text>\n",
       "</g>\n",
       "<!-- 57&#45;&gt;50 -->\n",
       "<g id=\"edge128\" class=\"edge\">\n",
       "<title>57&#45;&gt;50</title>\n",
       "<path fill=\"none\" stroke=\"black\" d=\"M1257.51,-579.83C1226.58,-568.73 1182.06,-552.75 1148.1,-540.56\"/>\n",
       "<polygon fill=\"black\" stroke=\"black\" points=\"1148.97,-537.15 1138.38,-537.07 1146.61,-543.74 1148.97,-537.15\"/>\n",
       "</g>\n",
       "<!-- 57&#45;&gt;51 -->\n",
       "<g id=\"edge129\" class=\"edge\">\n",
       "<title>57&#45;&gt;51</title>\n",
       "<path fill=\"none\" stroke=\"black\" d=\"M1285.96,-576.05C1282.09,-568.09 1277.39,-558.41 1273.07,-549.51\"/>\n",
       "<polygon fill=\"black\" stroke=\"black\" points=\"1276.1,-547.74 1268.58,-540.28 1269.8,-550.8 1276.1,-547.74\"/>\n",
       "</g>\n",
       "<!-- 57&#45;&gt;54 -->\n",
       "<g id=\"edge130\" class=\"edge\">\n",
       "<title>57&#45;&gt;54</title>\n",
       "<path fill=\"none\" stroke=\"black\" d=\"M1321.43,-577.98C1339.64,-567.95 1363.82,-554.62 1383.81,-543.6\"/>\n",
       "<polygon fill=\"black\" stroke=\"black\" points=\"1385.6,-546.61 1392.67,-538.72 1382.22,-540.48 1385.6,-546.61\"/>\n",
       "</g>\n",
       "<!-- 58 -->\n",
       "<g id=\"node59\" class=\"node\">\n",
       "<title>58</title>\n",
       "<ellipse fill=\"#9edae5\" stroke=\"black\" cx=\"1736.19\" cy=\"-594\" rx=\"57.69\" ry=\"18\"/>\n",
       "<text text-anchor=\"middle\" x=\"1736.19\" y=\"-590.3\" font-family=\"Times,serif\" font-size=\"14.00\">58 : {16, 42}</text>\n",
       "</g>\n",
       "<!-- 58&#45;&gt;52 -->\n",
       "<g id=\"edge131\" class=\"edge\">\n",
       "<title>58&#45;&gt;52</title>\n",
       "<path fill=\"none\" stroke=\"black\" d=\"M1737.92,-575.7C1738.69,-567.98 1739.62,-558.71 1740.48,-550.11\"/>\n",
       "<polygon fill=\"black\" stroke=\"black\" points=\"1743.97,-550.4 1741.48,-540.1 1737,-549.71 1743.97,-550.4\"/>\n",
       "</g>\n",
       "<!-- 58&#45;&gt;53 -->\n",
       "<g id=\"edge132\" class=\"edge\">\n",
       "<title>58&#45;&gt;53</title>\n",
       "<path fill=\"none\" stroke=\"black\" d=\"M1769.38,-579.17C1795.15,-568.43 1831.15,-553.43 1859.47,-541.64\"/>\n",
       "<polygon fill=\"black\" stroke=\"black\" points=\"1860.86,-544.84 1868.75,-537.77 1858.17,-538.38 1860.86,-544.84\"/>\n",
       "</g>\n",
       "<!-- 58&#45;&gt;54 -->\n",
       "<g id=\"edge133\" class=\"edge\">\n",
       "<title>58&#45;&gt;54</title>\n",
       "<path fill=\"none\" stroke=\"black\" d=\"M1690.39,-582.82C1635.59,-570.64 1543.64,-550.21 1482.69,-536.67\"/>\n",
       "<polygon fill=\"black\" stroke=\"black\" points=\"1483.33,-533.22 1472.81,-534.47 1481.81,-540.06 1483.33,-533.22\"/>\n",
       "</g>\n",
       "<!-- 59 -->\n",
       "<g id=\"node60\" class=\"node\">\n",
       "<title>59</title>\n",
       "<ellipse fill=\"#9edae5\" stroke=\"black\" cx=\"1522.19\" cy=\"-666\" rx=\"44.39\" ry=\"18\"/>\n",
       "<text text-anchor=\"middle\" x=\"1522.19\" y=\"-662.3\" font-family=\"Times,serif\" font-size=\"14.00\">59 : {42}</text>\n",
       "</g>\n",
       "<!-- 59&#45;&gt;55 -->\n",
       "<g id=\"edge137\" class=\"edge\">\n",
       "<title>59&#45;&gt;55</title>\n",
       "<path fill=\"none\" stroke=\"black\" d=\"M1506.65,-648.76C1498.23,-639.97 1487.66,-628.93 1478.3,-619.14\"/>\n",
       "<polygon fill=\"black\" stroke=\"black\" points=\"1480.55,-616.44 1471.11,-611.63 1475.5,-621.28 1480.55,-616.44\"/>\n",
       "</g>\n",
       "<!-- 59&#45;&gt;56 -->\n",
       "<g id=\"edge134\" class=\"edge\">\n",
       "<title>59&#45;&gt;56</title>\n",
       "<path fill=\"none\" stroke=\"black\" d=\"M1537.73,-648.76C1546.15,-639.97 1556.71,-628.93 1566.08,-619.14\"/>\n",
       "<polygon fill=\"black\" stroke=\"black\" points=\"1568.88,-621.28 1573.27,-611.63 1563.83,-616.44 1568.88,-621.28\"/>\n",
       "</g>\n",
       "<!-- 59&#45;&gt;57 -->\n",
       "<g id=\"edge135\" class=\"edge\">\n",
       "<title>59&#45;&gt;57</title>\n",
       "<path fill=\"none\" stroke=\"black\" d=\"M1488.06,-654.52C1449.71,-642.75 1387.14,-623.54 1343.49,-610.14\"/>\n",
       "<polygon fill=\"black\" stroke=\"black\" points=\"1344.52,-606.79 1333.93,-607.2 1342.46,-613.48 1344.52,-606.79\"/>\n",
       "</g>\n",
       "<!-- 59&#45;&gt;58 -->\n",
       "<g id=\"edge136\" class=\"edge\">\n",
       "<title>59&#45;&gt;58</title>\n",
       "<path fill=\"none\" stroke=\"black\" d=\"M1555.63,-654.06C1591.25,-642.41 1647.95,-623.86 1688.3,-610.66\"/>\n",
       "<polygon fill=\"black\" stroke=\"black\" points=\"1689.51,-613.95 1697.93,-607.51 1687.34,-607.3 1689.51,-613.95\"/>\n",
       "</g>\n",
       "<!-- 60 -->\n",
       "<g id=\"node61\" class=\"node\">\n",
       "<title>60</title>\n",
       "<ellipse fill=\"#9edae5\" stroke=\"black\" cx=\"1522.19\" cy=\"-738\" rx=\"38.19\" ry=\"18\"/>\n",
       "<text text-anchor=\"middle\" x=\"1522.19\" y=\"-734.3\" font-family=\"Times,serif\" font-size=\"14.00\">60 : { }</text>\n",
       "</g>\n",
       "<!-- 60&#45;&gt;59 -->\n",
       "<g id=\"edge138\" class=\"edge\">\n",
       "<title>60&#45;&gt;59</title>\n",
       "<path fill=\"none\" stroke=\"black\" d=\"M1522.19,-719.7C1522.19,-711.98 1522.19,-702.71 1522.19,-694.11\"/>\n",
       "<polygon fill=\"black\" stroke=\"black\" points=\"1525.69,-694.1 1522.19,-684.1 1518.69,-694.1 1525.69,-694.1\"/>\n",
       "</g>\n",
       "</g>\n",
       "</svg>\n"
      ],
      "text/plain": [
       "<graphviz.sources.Source at 0x110d83d90>"
      ]
     },
     "execution_count": 8,
     "metadata": {},
     "output_type": "execute_result"
    }
   ],
   "source": [
    "CMGDB_utils.PlotGraph(latt_repellers)\n",
    "# CMGDB_utils.PlotGraph(latt_attractors)"
   ]
  },
  {
   "cell_type": "code",
   "execution_count": 9,
   "metadata": {},
   "outputs": [
    {
     "data": {
      "image/svg+xml": [
       "<?xml version=\"1.0\" encoding=\"UTF-8\" standalone=\"no\"?>\n",
       "<!DOCTYPE svg PUBLIC \"-//W3C//DTD SVG 1.1//EN\"\n",
       " \"http://www.w3.org/Graphics/SVG/1.1/DTD/svg11.dtd\">\n",
       "<!-- Generated by graphviz version 2.50.0 (0)\n",
       " -->\n",
       "<!-- Pages: 1 -->\n",
       "<svg width=\"121pt\" height=\"188pt\"\n",
       " viewBox=\"0.00 0.00 121.00 188.00\" xmlns=\"http://www.w3.org/2000/svg\" xmlns:xlink=\"http://www.w3.org/1999/xlink\">\n",
       "<g id=\"graph0\" class=\"graph\" transform=\"scale(1 1) rotate(0) translate(4 184)\">\n",
       "<polygon fill=\"aliceblue\" stroke=\"transparent\" points=\"-4,4 -4,-184 117,-184 117,4 -4,4\"/>\n",
       "<!-- x -->\n",
       "<g id=\"node1\" class=\"node\">\n",
       "<title>x</title>\n",
       "<ellipse fill=\"beige\" stroke=\"black\" cx=\"68\" cy=\"-162\" rx=\"27\" ry=\"18\"/>\n",
       "<text text-anchor=\"middle\" x=\"68\" y=\"-158.3\" font-family=\"Times,serif\" font-size=\"14.00\">x</text>\n",
       "</g>\n",
       "<!-- x&#45;&gt;x -->\n",
       "<g id=\"edge1\" class=\"edge\">\n",
       "<title>x&#45;&gt;x</title>\n",
       "<path fill=\"none\" stroke=\"black\" d=\"M87.9,-174.43C100.69,-177.68 113,-173.53 113,-162 113,-153.62 106.5,-149.14 98.04,-148.56\"/>\n",
       "<polygon fill=\"black\" stroke=\"black\" points=\"97.5,-145.1 87.9,-149.57 98.19,-152.07 97.5,-145.1\"/>\n",
       "</g>\n",
       "<!-- y -->\n",
       "<g id=\"node2\" class=\"node\">\n",
       "<title>y</title>\n",
       "<ellipse fill=\"beige\" stroke=\"black\" cx=\"27\" cy=\"-90\" rx=\"27\" ry=\"18\"/>\n",
       "<text text-anchor=\"middle\" x=\"27\" y=\"-86.3\" font-family=\"Times,serif\" font-size=\"14.00\">y</text>\n",
       "</g>\n",
       "<!-- x&#45;&gt;y -->\n",
       "<g id=\"edge6\" class=\"edge\">\n",
       "<title>x&#45;&gt;y</title>\n",
       "<path fill=\"none\" stroke=\"darkgoldenrod\" d=\"M53.91,-146.5C46.9,-136.68 38.98,-123.56 33.33,-112.53\"/>\n",
       "<polygon fill=\"darkgoldenrod\" stroke=\"darkgoldenrod\" points=\"27.02,-111.07 35.97,-106.62 36.86,-108.41 27.91,-112.86 27.02,-111.07\"/>\n",
       "<polyline fill=\"none\" stroke=\"darkgoldenrod\" points=\"31.05,-107.95 33.28,-112.43 \"/>\n",
       "</g>\n",
       "<!-- z -->\n",
       "<g id=\"node3\" class=\"node\">\n",
       "<title>z</title>\n",
       "<ellipse fill=\"beige\" stroke=\"black\" cx=\"68\" cy=\"-18\" rx=\"27\" ry=\"18\"/>\n",
       "<text text-anchor=\"middle\" x=\"68\" y=\"-14.3\" font-family=\"Times,serif\" font-size=\"14.00\">z</text>\n",
       "</g>\n",
       "<!-- x&#45;&gt;z -->\n",
       "<g id=\"edge7\" class=\"edge\">\n",
       "<title>x&#45;&gt;z</title>\n",
       "<path fill=\"none\" stroke=\"black\" d=\"M65.45,-144.01C67.19,-133.7 70.52,-120.23 72,-108 73.92,-92.12 73.92,-87.88 72,-72 70.96,-63.4 69.01,-54.19 67.33,-45.89\"/>\n",
       "<polygon fill=\"black\" stroke=\"black\" points=\"70.76,-45.16 65.45,-35.99 63.88,-46.47 70.76,-45.16\"/>\n",
       "</g>\n",
       "<!-- y&#45;&gt;x -->\n",
       "<g id=\"edge2\" class=\"edge\">\n",
       "<title>y&#45;&gt;x</title>\n",
       "<path fill=\"none\" stroke=\"black\" d=\"M41.03,-105.42C47.11,-113.93 53.89,-124.94 59.28,-134.92\"/>\n",
       "<polygon fill=\"black\" stroke=\"black\" points=\"56.28,-136.75 63.95,-144.05 62.51,-133.56 56.28,-136.75\"/>\n",
       "</g>\n",
       "<!-- y&#45;&gt;y -->\n",
       "<g id=\"edge4\" class=\"edge\">\n",
       "<title>y&#45;&gt;y</title>\n",
       "<path fill=\"none\" stroke=\"black\" d=\"M46.9,-102.43C59.69,-105.68 72,-101.53 72,-90 72,-81.62 65.5,-77.14 57.04,-76.56\"/>\n",
       "<polygon fill=\"black\" stroke=\"black\" points=\"56.5,-73.1 46.9,-77.57 57.19,-80.07 56.5,-73.1\"/>\n",
       "</g>\n",
       "<!-- y&#45;&gt;z -->\n",
       "<g id=\"edge9\" class=\"edge\">\n",
       "<title>y&#45;&gt;z</title>\n",
       "<path fill=\"none\" stroke=\"darkgoldenrod\" d=\"M31.05,-72.05C36.05,-61.62 43.83,-48.25 51.11,-37.54\"/>\n",
       "<polygon fill=\"darkgoldenrod\" stroke=\"darkgoldenrod\" points=\"49.29,-31.39 57.5,-37.1 56.36,-38.74 48.15,-33.03 49.29,-31.39\"/>\n",
       "<polyline fill=\"none\" stroke=\"darkgoldenrod\" points=\"53.97,-33.42 51.11,-37.53 \"/>\n",
       "</g>\n",
       "<!-- z&#45;&gt;x -->\n",
       "<g id=\"edge3\" class=\"edge\">\n",
       "<title>z&#45;&gt;x</title>\n",
       "<path fill=\"none\" stroke=\"black\" d=\"M80.33,-34.13C84.78,-44.63 88.43,-59.02 90,-72 91.92,-87.88 91.92,-92.12 90,-108 88.87,-117.33 86.67,-127.39 83.87,-136.2\"/>\n",
       "<polygon fill=\"black\" stroke=\"black\" points=\"80.48,-135.28 80.33,-145.87 87.05,-137.68 80.48,-135.28\"/>\n",
       "</g>\n",
       "<!-- z&#45;&gt;y -->\n",
       "<g id=\"edge5\" class=\"edge\">\n",
       "<title>z&#45;&gt;y</title>\n",
       "<path fill=\"none\" stroke=\"black\" d=\"M63.95,-35.95C59.62,-44.97 53.21,-56.2 46.85,-66\"/>\n",
       "<polygon fill=\"black\" stroke=\"black\" points=\"43.81,-64.26 41.09,-74.5 49.6,-68.19 43.81,-64.26\"/>\n",
       "</g>\n",
       "<!-- z&#45;&gt;z -->\n",
       "<g id=\"edge8\" class=\"edge\">\n",
       "<title>z&#45;&gt;z</title>\n",
       "<path fill=\"none\" stroke=\"black\" d=\"M87.9,-30.43C100.69,-33.68 113,-29.53 113,-18 113,-9.62 106.5,-5.14 98.04,-4.56\"/>\n",
       "<polygon fill=\"black\" stroke=\"black\" points=\"97.5,-1.1 87.9,-5.57 98.19,-8.07 97.5,-1.1\"/>\n",
       "</g>\n",
       "</g>\n",
       "</svg>\n"
      ],
      "text/plain": [
       "<graphviz.sources.Source at 0x110c549d0>"
      ]
     },
     "execution_count": 9,
     "metadata": {},
     "output_type": "execute_result"
    }
   ],
   "source": [
    "net_spec = \"\"\"x : x + y + z\n",
    "              y : (~x) (y + z)\n",
    "              z : (~y) (x + z)\"\"\"\n",
    "\n",
    "network = DSGRN.Network(net_spec)\n",
    "\n",
    "DSGRN.DrawGraph(network)"
   ]
  },
  {
   "cell_type": "code",
   "execution_count": 10,
   "metadata": {},
   "outputs": [
    {
     "name": "stdout",
     "output_type": "stream",
     "text": [
      "Parameter graph size: 87280405632\n"
     ]
    }
   ],
   "source": [
    "parameter_graph = DSGRN.ParameterGraph(network)\n",
    "\n",
    "print('Parameter graph size:', parameter_graph.size())"
   ]
  },
  {
   "cell_type": "code",
   "execution_count": 11,
   "metadata": {},
   "outputs": [],
   "source": [
    "par_index = 52718681997\n",
    "# par_index = 52717613010\n",
    "# par_index = 52717613012\n",
    "\n",
    "parameter = parameter_graph.parameter(par_index)\n",
    "\n",
    "morse_graph, stg, graded_complex = DSGRN_utils.ConleyMorseGraph(parameter)"
   ]
  },
  {
   "cell_type": "code",
   "execution_count": 12,
   "metadata": {},
   "outputs": [
    {
     "data": {
      "image/svg+xml": [
       "<?xml version=\"1.0\" encoding=\"UTF-8\" standalone=\"no\"?>\n",
       "<!DOCTYPE svg PUBLIC \"-//W3C//DTD SVG 1.1//EN\"\n",
       " \"http://www.w3.org/Graphics/SVG/1.1/DTD/svg11.dtd\">\n",
       "<!-- Generated by graphviz version 2.50.0 (0)\n",
       " -->\n",
       "<!-- Pages: 1 -->\n",
       "<svg width=\"710pt\" height=\"260pt\"\n",
       " viewBox=\"0.00 0.00 710.11 260.00\" xmlns=\"http://www.w3.org/2000/svg\" xmlns:xlink=\"http://www.w3.org/1999/xlink\">\n",
       "<g id=\"graph0\" class=\"graph\" transform=\"scale(1 1) rotate(0) translate(4 256)\">\n",
       "<polygon fill=\"white\" stroke=\"transparent\" points=\"-4,4 -4,-256 706.11,-256 706.11,4 -4,4\"/>\n",
       "<!-- 0 -->\n",
       "<g id=\"node1\" class=\"node\">\n",
       "<title>0</title>\n",
       "<ellipse fill=\"#1f77b4\" fill-opacity=\"0.698039\" stroke=\"black\" cx=\"47.4\" cy=\"-18\" rx=\"47.3\" ry=\"18\"/>\n",
       "<text text-anchor=\"middle\" x=\"47.4\" y=\"-14.3\" font-family=\"Times,serif\" font-size=\"14.00\">0 : (1, 0, 0, 0)</text>\n",
       "</g>\n",
       "<!-- 65 -->\n",
       "<g id=\"node2\" class=\"node\">\n",
       "<title>65</title>\n",
       "<ellipse fill=\"#8c564b\" fill-opacity=\"0.698039\" stroke=\"black\" cx=\"103.4\" cy=\"-90\" rx=\"47.3\" ry=\"18\"/>\n",
       "<text text-anchor=\"middle\" x=\"103.4\" y=\"-86.3\" font-family=\"Times,serif\" font-size=\"14.00\">5 : (0, 0, 0, 0)</text>\n",
       "</g>\n",
       "<!-- 64 -->\n",
       "<g id=\"node3\" class=\"node\">\n",
       "<title>64</title>\n",
       "<ellipse fill=\"#e6550d\" fill-opacity=\"0.698039\" stroke=\"black\" cx=\"179.4\" cy=\"-18\" rx=\"47.3\" ry=\"18\"/>\n",
       "<text text-anchor=\"middle\" x=\"179.4\" y=\"-14.3\" font-family=\"Times,serif\" font-size=\"14.00\">1 : (1, 0, 0, 0)</text>\n",
       "</g>\n",
       "<!-- 65&#45;&gt;64 -->\n",
       "<g id=\"edge1\" class=\"edge\">\n",
       "<title>65&#45;&gt;64</title>\n",
       "<path fill=\"none\" stroke=\"black\" d=\"M120.65,-73.12C130.75,-63.81 143.68,-51.9 154.84,-41.62\"/>\n",
       "<polygon fill=\"black\" stroke=\"black\" points=\"157.24,-44.17 162.22,-34.82 152.5,-39.02 157.24,-44.17\"/>\n",
       "</g>\n",
       "<!-- 108 -->\n",
       "<g id=\"node4\" class=\"node\">\n",
       "<title>108</title>\n",
       "<ellipse fill=\"#31a354\" fill-opacity=\"0.698039\" stroke=\"black\" cx=\"348.4\" cy=\"-18\" rx=\"47.3\" ry=\"18\"/>\n",
       "<text text-anchor=\"middle\" x=\"348.4\" y=\"-14.3\" font-family=\"Times,serif\" font-size=\"14.00\">2 : (1, 0, 0, 0)</text>\n",
       "</g>\n",
       "<!-- 141 -->\n",
       "<g id=\"node5\" class=\"node\">\n",
       "<title>141</title>\n",
       "<ellipse fill=\"#d62728\" fill-opacity=\"0.698039\" stroke=\"black\" cx=\"517.4\" cy=\"-18\" rx=\"47.3\" ry=\"18\"/>\n",
       "<text text-anchor=\"middle\" x=\"517.4\" y=\"-14.3\" font-family=\"Times,serif\" font-size=\"14.00\">3 : (1, 0, 0, 0)</text>\n",
       "</g>\n",
       "<!-- 173 -->\n",
       "<g id=\"node6\" class=\"node\">\n",
       "<title>173</title>\n",
       "<ellipse fill=\"#9467bd\" fill-opacity=\"0.698039\" stroke=\"black\" cx=\"648.4\" cy=\"-18\" rx=\"47.3\" ry=\"18\"/>\n",
       "<text text-anchor=\"middle\" x=\"648.4\" y=\"-14.3\" font-family=\"Times,serif\" font-size=\"14.00\">4 : (1, 0, 0, 0)</text>\n",
       "</g>\n",
       "<!-- 111 -->\n",
       "<g id=\"node7\" class=\"node\">\n",
       "<title>111</title>\n",
       "<ellipse fill=\"#e377c2\" fill-opacity=\"0.698039\" stroke=\"black\" cx=\"442.4\" cy=\"-90\" rx=\"47.3\" ry=\"18\"/>\n",
       "<text text-anchor=\"middle\" x=\"442.4\" y=\"-86.3\" font-family=\"Times,serif\" font-size=\"14.00\">6 : (0, 0, 0, 0)</text>\n",
       "</g>\n",
       "<!-- 111&#45;&gt;108 -->\n",
       "<g id=\"edge2\" class=\"edge\">\n",
       "<title>111&#45;&gt;108</title>\n",
       "<path fill=\"none\" stroke=\"black\" d=\"M421.54,-73.46C408.43,-63.7 391.33,-50.97 376.97,-40.28\"/>\n",
       "<polygon fill=\"black\" stroke=\"black\" points=\"378.99,-37.42 368.88,-34.25 374.81,-43.03 378.99,-37.42\"/>\n",
       "</g>\n",
       "<!-- 207 -->\n",
       "<g id=\"node8\" class=\"node\">\n",
       "<title>207</title>\n",
       "<ellipse fill=\"#bcbd22\" fill-opacity=\"0.698039\" stroke=\"black\" cx=\"329.4\" cy=\"-90\" rx=\"47.3\" ry=\"18\"/>\n",
       "<text text-anchor=\"middle\" x=\"329.4\" y=\"-86.3\" font-family=\"Times,serif\" font-size=\"14.00\">8 : (0, 1, 0, 0)</text>\n",
       "</g>\n",
       "<!-- 207&#45;&gt;0 -->\n",
       "<g id=\"edge3\" class=\"edge\">\n",
       "<title>207&#45;&gt;0</title>\n",
       "<path fill=\"none\" stroke=\"black\" d=\"M293.61,-77.98C286.6,-75.92 279.28,-73.84 272.4,-72 239.82,-63.31 153.06,-43.19 97.29,-30.39\"/>\n",
       "<polygon fill=\"black\" stroke=\"black\" points=\"97.79,-26.92 87.26,-28.09 96.23,-33.74 97.79,-26.92\"/>\n",
       "</g>\n",
       "<!-- 207&#45;&gt;141 -->\n",
       "<g id=\"edge4\" class=\"edge\">\n",
       "<title>207&#45;&gt;141</title>\n",
       "<path fill=\"none\" stroke=\"black\" d=\"M362.15,-76.81C393.46,-65.15 440.83,-47.51 475.01,-34.79\"/>\n",
       "<polygon fill=\"black\" stroke=\"black\" points=\"476.56,-37.94 484.71,-31.17 474.12,-31.38 476.56,-37.94\"/>\n",
       "</g>\n",
       "<!-- 208 -->\n",
       "<g id=\"node9\" class=\"node\">\n",
       "<title>208</title>\n",
       "<ellipse fill=\"#80b1d3\" fill-opacity=\"0.698039\" stroke=\"black\" cx=\"216.4\" cy=\"-90\" rx=\"47.3\" ry=\"18\"/>\n",
       "<text text-anchor=\"middle\" x=\"216.4\" y=\"-86.3\" font-family=\"Times,serif\" font-size=\"14.00\">9 : (0, 1, 0, 0)</text>\n",
       "</g>\n",
       "<!-- 208&#45;&gt;64 -->\n",
       "<g id=\"edge5\" class=\"edge\">\n",
       "<title>208&#45;&gt;64</title>\n",
       "<path fill=\"none\" stroke=\"black\" d=\"M207.44,-72.05C203.13,-63.89 197.85,-53.91 193.05,-44.82\"/>\n",
       "<polygon fill=\"black\" stroke=\"black\" points=\"196.04,-42.99 188.27,-35.79 189.85,-46.27 196.04,-42.99\"/>\n",
       "</g>\n",
       "<!-- 208&#45;&gt;108 -->\n",
       "<g id=\"edge6\" class=\"edge\">\n",
       "<title>208&#45;&gt;108</title>\n",
       "<path fill=\"none\" stroke=\"black\" d=\"M242.8,-75C262.94,-64.32 290.9,-49.49 312.98,-37.78\"/>\n",
       "<polygon fill=\"black\" stroke=\"black\" points=\"314.86,-40.75 322.05,-32.97 311.58,-34.57 314.86,-40.75\"/>\n",
       "</g>\n",
       "<!-- 206 -->\n",
       "<g id=\"node10\" class=\"node\">\n",
       "<title>206</title>\n",
       "<ellipse fill=\"#ffffb3\" fill-opacity=\"0.698039\" stroke=\"black\" cx=\"103.4\" cy=\"-162\" rx=\"51.92\" ry=\"18\"/>\n",
       "<text text-anchor=\"middle\" x=\"103.4\" y=\"-158.3\" font-family=\"Times,serif\" font-size=\"14.00\">10 : (0, 1, 0, 0)</text>\n",
       "</g>\n",
       "<!-- 206&#45;&gt;0 -->\n",
       "<g id=\"edge7\" class=\"edge\">\n",
       "<title>206&#45;&gt;0</title>\n",
       "<path fill=\"none\" stroke=\"black\" d=\"M79.9,-145.86C67.74,-136.57 54.07,-123.49 47.4,-108 39.03,-88.54 39.62,-64.4 41.98,-46.17\"/>\n",
       "<polygon fill=\"black\" stroke=\"black\" points=\"45.45,-46.62 43.52,-36.2 38.53,-45.55 45.45,-46.62\"/>\n",
       "</g>\n",
       "<!-- 206&#45;&gt;65 -->\n",
       "<g id=\"edge8\" class=\"edge\">\n",
       "<title>206&#45;&gt;65</title>\n",
       "<path fill=\"none\" stroke=\"black\" d=\"M103.4,-143.7C103.4,-135.98 103.4,-126.71 103.4,-118.11\"/>\n",
       "<polygon fill=\"black\" stroke=\"black\" points=\"106.9,-118.1 103.4,-108.1 99.9,-118.1 106.9,-118.1\"/>\n",
       "</g>\n",
       "<!-- 209 -->\n",
       "<g id=\"node11\" class=\"node\">\n",
       "<title>209</title>\n",
       "<ellipse fill=\"#fccde5\" fill-opacity=\"0.698039\" stroke=\"black\" cx=\"231.4\" cy=\"-162\" rx=\"51.92\" ry=\"18\"/>\n",
       "<text text-anchor=\"middle\" x=\"231.4\" y=\"-158.3\" font-family=\"Times,serif\" font-size=\"14.00\">11 : (0, 0, 0, 0)</text>\n",
       "</g>\n",
       "<!-- 209&#45;&gt;65 -->\n",
       "<g id=\"edge10\" class=\"edge\">\n",
       "<title>209&#45;&gt;65</title>\n",
       "<path fill=\"none\" stroke=\"black\" d=\"M204.88,-146.5C185.61,-135.96 159.36,-121.6 138.38,-110.13\"/>\n",
       "<polygon fill=\"black\" stroke=\"black\" points=\"139.9,-106.97 129.45,-105.25 136.54,-113.11 139.9,-106.97\"/>\n",
       "</g>\n",
       "<!-- 209&#45;&gt;111 -->\n",
       "<g id=\"edge11\" class=\"edge\">\n",
       "<title>209&#45;&gt;111</title>\n",
       "<path fill=\"none\" stroke=\"black\" d=\"M267.67,-148.97C303.8,-136.98 359.32,-118.56 398.04,-105.72\"/>\n",
       "<polygon fill=\"black\" stroke=\"black\" points=\"399.61,-108.88 408,-102.41 397.41,-102.24 399.61,-108.88\"/>\n",
       "</g>\n",
       "<!-- 209&#45;&gt;208 -->\n",
       "<g id=\"edge9\" class=\"edge\">\n",
       "<title>209&#45;&gt;208</title>\n",
       "<path fill=\"none\" stroke=\"black\" d=\"M227.69,-143.7C226.04,-135.98 224.05,-126.71 222.21,-118.11\"/>\n",
       "<polygon fill=\"black\" stroke=\"black\" points=\"225.58,-117.15 220.07,-108.1 218.74,-118.62 225.58,-117.15\"/>\n",
       "</g>\n",
       "<!-- 210 -->\n",
       "<g id=\"node12\" class=\"node\">\n",
       "<title>210</title>\n",
       "<ellipse fill=\"#b3de69\" fill-opacity=\"0.698039\" stroke=\"black\" cx=\"458.4\" cy=\"-162\" rx=\"51.92\" ry=\"18\"/>\n",
       "<text text-anchor=\"middle\" x=\"458.4\" y=\"-158.3\" font-family=\"Times,serif\" font-size=\"14.00\">12 : (0, 1, 0, 0)</text>\n",
       "</g>\n",
       "<!-- 210&#45;&gt;141 -->\n",
       "<g id=\"edge12\" class=\"edge\">\n",
       "<title>210&#45;&gt;141</title>\n",
       "<path fill=\"none\" stroke=\"black\" d=\"M473.8,-144.57C482.27,-134.67 492.27,-121.42 498.4,-108 507.4,-88.3 512.21,-64.17 514.73,-46.01\"/>\n",
       "<polygon fill=\"black\" stroke=\"black\" points=\"518.21,-46.45 515.97,-36.09 511.26,-45.58 518.21,-46.45\"/>\n",
       "</g>\n",
       "<!-- 210&#45;&gt;111 -->\n",
       "<g id=\"edge13\" class=\"edge\">\n",
       "<title>210&#45;&gt;111</title>\n",
       "<path fill=\"none\" stroke=\"black\" d=\"M454.45,-143.7C452.68,-135.98 450.56,-126.71 448.6,-118.11\"/>\n",
       "<polygon fill=\"black\" stroke=\"black\" points=\"451.95,-117.07 446.31,-108.1 445.13,-118.63 451.95,-117.07\"/>\n",
       "</g>\n",
       "<!-- 430 -->\n",
       "<g id=\"node13\" class=\"node\">\n",
       "<title>430</title>\n",
       "<ellipse fill=\"#fdae6b\" fill-opacity=\"0.698039\" stroke=\"black\" cx=\"650.4\" cy=\"-162\" rx=\"51.92\" ry=\"18\"/>\n",
       "<text text-anchor=\"middle\" x=\"650.4\" y=\"-158.3\" font-family=\"Times,serif\" font-size=\"14.00\">13 : (0, 1, 0, 0)</text>\n",
       "</g>\n",
       "<!-- 430&#45;&gt;173 -->\n",
       "<g id=\"edge14\" class=\"edge\">\n",
       "<title>430&#45;&gt;173</title>\n",
       "<path fill=\"none\" stroke=\"black\" d=\"M650.16,-143.87C649.82,-119.67 649.19,-75.21 648.79,-46.39\"/>\n",
       "<polygon fill=\"black\" stroke=\"black\" points=\"652.28,-46.14 648.64,-36.19 645.28,-46.24 652.28,-46.14\"/>\n",
       "</g>\n",
       "<!-- 430&#45;&gt;111 -->\n",
       "<g id=\"edge15\" class=\"edge\">\n",
       "<title>430&#45;&gt;111</title>\n",
       "<path fill=\"none\" stroke=\"black\" d=\"M614.64,-148.97C579.14,-137.02 524.63,-118.67 486.47,-105.83\"/>\n",
       "<polygon fill=\"black\" stroke=\"black\" points=\"487.25,-102.4 476.66,-102.53 485.02,-109.03 487.25,-102.4\"/>\n",
       "</g>\n",
       "<!-- 213 -->\n",
       "<g id=\"node14\" class=\"node\">\n",
       "<title>213</title>\n",
       "<ellipse fill=\"#6a3d9a\" fill-opacity=\"0.698039\" stroke=\"black\" cx=\"274.4\" cy=\"-234\" rx=\"51.92\" ry=\"18\"/>\n",
       "<text text-anchor=\"middle\" x=\"274.4\" y=\"-230.3\" font-family=\"Times,serif\" font-size=\"14.00\">14 : (0, 0, 1, 0)</text>\n",
       "</g>\n",
       "<!-- 213&#45;&gt;207 -->\n",
       "<g id=\"edge19\" class=\"edge\">\n",
       "<title>213&#45;&gt;207</title>\n",
       "<path fill=\"none\" stroke=\"black\" d=\"M281.03,-215.87C290.49,-191.46 307.93,-146.43 319.08,-117.64\"/>\n",
       "<polygon fill=\"black\" stroke=\"black\" points=\"322.39,-118.78 322.74,-108.19 315.87,-116.25 322.39,-118.78\"/>\n",
       "</g>\n",
       "<!-- 213&#45;&gt;206 -->\n",
       "<g id=\"edge18\" class=\"edge\">\n",
       "<title>213&#45;&gt;206</title>\n",
       "<path fill=\"none\" stroke=\"black\" d=\"M242.24,-219.83C214.74,-208.58 174.98,-192.3 145.05,-180.05\"/>\n",
       "<polygon fill=\"black\" stroke=\"black\" points=\"146.29,-176.78 135.71,-176.23 143.64,-183.25 146.29,-176.78\"/>\n",
       "</g>\n",
       "<!-- 213&#45;&gt;209 -->\n",
       "<g id=\"edge16\" class=\"edge\">\n",
       "<title>213&#45;&gt;209</title>\n",
       "<path fill=\"none\" stroke=\"black\" d=\"M263.99,-216.05C258.92,-207.8 252.72,-197.7 247.09,-188.54\"/>\n",
       "<polygon fill=\"black\" stroke=\"black\" points=\"249.93,-186.48 241.71,-179.79 243.97,-190.14 249.93,-186.48\"/>\n",
       "</g>\n",
       "<!-- 213&#45;&gt;210 -->\n",
       "<g id=\"edge17\" class=\"edge\">\n",
       "<title>213&#45;&gt;210</title>\n",
       "<path fill=\"none\" stroke=\"black\" d=\"M308.15,-220.16C338.24,-208.71 382.44,-191.9 415.12,-179.46\"/>\n",
       "<polygon fill=\"black\" stroke=\"black\" points=\"416.76,-182.58 424.87,-175.76 414.27,-176.04 416.76,-182.58\"/>\n",
       "</g>\n",
       "<!-- 439 -->\n",
       "<g id=\"node15\" class=\"node\">\n",
       "<title>439</title>\n",
       "<ellipse fill=\"#c49c94\" fill-opacity=\"0.698039\" stroke=\"black\" cx=\"570.4\" cy=\"-234\" rx=\"51.92\" ry=\"18\"/>\n",
       "<text text-anchor=\"middle\" x=\"570.4\" y=\"-230.3\" font-family=\"Times,serif\" font-size=\"14.00\">15 : (0, 0, 1, 0)</text>\n",
       "</g>\n",
       "<!-- 439&#45;&gt;210 -->\n",
       "<g id=\"edge21\" class=\"edge\">\n",
       "<title>439&#45;&gt;210</title>\n",
       "<path fill=\"none\" stroke=\"black\" d=\"M546.37,-217.98C530.28,-207.93 508.89,-194.56 491.23,-183.52\"/>\n",
       "<polygon fill=\"black\" stroke=\"black\" points=\"492.72,-180.32 482.39,-177.99 489.01,-186.26 492.72,-180.32\"/>\n",
       "</g>\n",
       "<!-- 439&#45;&gt;430 -->\n",
       "<g id=\"edge22\" class=\"edge\">\n",
       "<title>439&#45;&gt;430</title>\n",
       "<path fill=\"none\" stroke=\"black\" d=\"M588.55,-217.12C599.12,-207.87 612.61,-196.07 624.3,-185.84\"/>\n",
       "<polygon fill=\"black\" stroke=\"black\" points=\"626.82,-188.28 632.04,-179.06 622.21,-183.01 626.82,-188.28\"/>\n",
       "</g>\n",
       "<!-- 185 -->\n",
       "<g id=\"node16\" class=\"node\">\n",
       "<title>185</title>\n",
       "<ellipse fill=\"#7f7f7f\" fill-opacity=\"0.698039\" stroke=\"black\" cx=\"592.4\" cy=\"-90\" rx=\"47.3\" ry=\"18\"/>\n",
       "<text text-anchor=\"middle\" x=\"592.4\" y=\"-86.3\" font-family=\"Times,serif\" font-size=\"14.00\">7 : (0, 1, 0, 0)</text>\n",
       "</g>\n",
       "<!-- 439&#45;&gt;185 -->\n",
       "<g id=\"edge20\" class=\"edge\">\n",
       "<title>439&#45;&gt;185</title>\n",
       "<path fill=\"none\" stroke=\"black\" d=\"M573.05,-215.87C576.8,-191.67 583.69,-147.21 588.16,-118.39\"/>\n",
       "<polygon fill=\"black\" stroke=\"black\" points=\"591.66,-118.61 589.74,-108.19 584.75,-117.54 591.66,-118.61\"/>\n",
       "</g>\n",
       "<!-- 185&#45;&gt;141 -->\n",
       "<g id=\"edge23\" class=\"edge\">\n",
       "<title>185&#45;&gt;141</title>\n",
       "<path fill=\"none\" stroke=\"black\" d=\"M575.38,-73.12C565.5,-63.9 552.89,-52.13 541.96,-41.92\"/>\n",
       "<polygon fill=\"black\" stroke=\"black\" points=\"544.05,-39.09 534.35,-34.82 539.27,-44.2 544.05,-39.09\"/>\n",
       "</g>\n",
       "<!-- 185&#45;&gt;173 -->\n",
       "<g id=\"edge24\" class=\"edge\">\n",
       "<title>185&#45;&gt;173</title>\n",
       "<path fill=\"none\" stroke=\"black\" d=\"M605.67,-72.41C612.58,-63.78 621.15,-53.06 628.8,-43.5\"/>\n",
       "<polygon fill=\"black\" stroke=\"black\" points=\"631.71,-45.47 635.22,-35.47 626.24,-41.09 631.71,-45.47\"/>\n",
       "</g>\n",
       "</g>\n",
       "</svg>\n"
      ],
      "text/plain": [
       "<graphviz.sources.Source at 0x10de51090>"
      ]
     },
     "execution_count": 12,
     "metadata": {},
     "output_type": "execute_result"
    }
   ],
   "source": [
    "DSGRN_utils.PlotMorseGraph(morse_graph)"
   ]
  },
  {
   "cell_type": "code",
   "execution_count": null,
   "metadata": {},
   "outputs": [],
   "source": []
  },
  {
   "cell_type": "code",
   "execution_count": null,
   "metadata": {},
   "outputs": [],
   "source": []
  },
  {
   "cell_type": "code",
   "execution_count": 102,
   "metadata": {},
   "outputs": [
    {
     "name": "stdout",
     "output_type": "stream",
     "text": [
      "CPU times: user 101 μs, sys: 17 μs, total: 118 μs\n",
      "Wall time: 121 μs\n"
     ]
    }
   ],
   "source": [
    "%%time\n",
    "att = CMGDB_utils.morse_graph_attractors(morse_graph)"
   ]
  },
  {
   "cell_type": "code",
   "execution_count": 103,
   "metadata": {},
   "outputs": [
    {
     "name": "stdout",
     "output_type": "stream",
     "text": [
      "CPU times: user 116 μs, sys: 1 μs, total: 117 μs\n",
      "Wall time: 121 μs\n"
     ]
    }
   ],
   "source": [
    "%%time\n",
    "att_slow = CMGDB_utils.morse_graph_attractors_slow(morse_graph)"
   ]
  },
  {
   "cell_type": "code",
   "execution_count": 104,
   "metadata": {},
   "outputs": [
    {
     "name": "stdout",
     "output_type": "stream",
     "text": [
      "CPU times: user 109 μs, sys: 8 μs, total: 117 μs\n",
      "Wall time: 119 μs\n"
     ]
    }
   ],
   "source": [
    "%%time\n",
    "att_2 = CMGDB_utils.morse_graph_attractors_2(morse_graph)"
   ]
  },
  {
   "cell_type": "code",
   "execution_count": 105,
   "metadata": {},
   "outputs": [
    {
     "name": "stdout",
     "output_type": "stream",
     "text": [
      "CPU times: user 102 μs, sys: 1 μs, total: 103 μs\n",
      "Wall time: 106 μs\n"
     ]
    }
   ],
   "source": [
    "%%time\n",
    "att_slow_2 = CMGDB_utils.morse_graph_attractors_slow_2(morse_graph)"
   ]
  },
  {
   "cell_type": "code",
   "execution_count": 107,
   "metadata": {},
   "outputs": [
    {
     "name": "stdout",
     "output_type": "stream",
     "text": [
      "CPU times: user 126 μs, sys: 1e+03 ns, total: 127 μs\n",
      "Wall time: 131 μs\n"
     ]
    }
   ],
   "source": [
    "%%time\n",
    "att_slow_3 = CMGDB_utils.morse_graph_attractors_slow_3(morse_graph)"
   ]
  },
  {
   "cell_type": "code",
   "execution_count": 108,
   "metadata": {},
   "outputs": [
    {
     "data": {
      "text/plain": [
       "8"
      ]
     },
     "execution_count": 108,
     "metadata": {},
     "output_type": "execute_result"
    }
   ],
   "source": [
    "len(att)"
   ]
  },
  {
   "cell_type": "code",
   "execution_count": 109,
   "metadata": {},
   "outputs": [
    {
     "data": {
      "text/plain": [
       "(True, True, True, True)"
      ]
     },
     "execution_count": 109,
     "metadata": {},
     "output_type": "execute_result"
    }
   ],
   "source": [
    "att == att_slow, att_slow == att_2, att_2 == att_slow_2, att_slow_2 == att_slow_3"
   ]
  },
  {
   "cell_type": "code",
   "execution_count": null,
   "metadata": {},
   "outputs": [],
   "source": []
  },
  {
   "cell_type": "code",
   "execution_count": 13,
   "metadata": {},
   "outputs": [
    {
     "name": "stdout",
     "output_type": "stream",
     "text": [
      "CPU times: user 1.8 ms, sys: 97 μs, total: 1.9 ms\n",
      "Wall time: 1.91 ms\n"
     ]
    }
   ],
   "source": [
    "%%time\n",
    "attractors = CMGDB_utils.morse_graph_attractors(morse_graph)"
   ]
  },
  {
   "cell_type": "code",
   "execution_count": 8,
   "metadata": {},
   "outputs": [
    {
     "data": {
      "text/plain": [
       "109046"
      ]
     },
     "execution_count": 8,
     "metadata": {},
     "output_type": "execute_result"
    }
   ],
   "source": [
    "len(attractors)"
   ]
  },
  {
   "cell_type": "code",
   "execution_count": null,
   "metadata": {},
   "outputs": [],
   "source": []
  },
  {
   "cell_type": "code",
   "execution_count": 13,
   "metadata": {},
   "outputs": [
    {
     "name": "stdout",
     "output_type": "stream",
     "text": [
      "CPU times: user 349 ms, sys: 13 ms, total: 362 ms\n",
      "Wall time: 363 ms\n"
     ]
    }
   ],
   "source": [
    "%%time\n",
    "latt_attractors = CMGDB_utils.lattice_attractors(morse_graph)"
   ]
  },
  {
   "cell_type": "code",
   "execution_count": 14,
   "metadata": {},
   "outputs": [
    {
     "data": {
      "text/plain": [
       "443"
      ]
     },
     "execution_count": 14,
     "metadata": {},
     "output_type": "execute_result"
    }
   ],
   "source": [
    "len(latt_attractors.vertices())"
   ]
  },
  {
   "cell_type": "code",
   "execution_count": 15,
   "metadata": {},
   "outputs": [
    {
     "name": "stdout",
     "output_type": "stream",
     "text": [
      "CPU times: user 287 ms, sys: 4.82 ms, total: 291 ms\n",
      "Wall time: 292 ms\n"
     ]
    }
   ],
   "source": [
    "%%time\n",
    "latt_repellers = CMGDB_utils.lattice_repellers(morse_graph)"
   ]
  },
  {
   "cell_type": "code",
   "execution_count": 16,
   "metadata": {},
   "outputs": [
    {
     "data": {
      "text/plain": [
       "443"
      ]
     },
     "execution_count": 16,
     "metadata": {},
     "output_type": "execute_result"
    }
   ],
   "source": [
    "len(latt_repellers.vertices())"
   ]
  },
  {
   "cell_type": "code",
   "execution_count": 16,
   "metadata": {},
   "outputs": [],
   "source": [
    "# CMGDB_utils.PlotGraph(latt_attractors)"
   ]
  },
  {
   "cell_type": "code",
   "execution_count": null,
   "metadata": {},
   "outputs": [],
   "source": []
  },
  {
   "cell_type": "code",
   "execution_count": null,
   "metadata": {},
   "outputs": [],
   "source": []
  },
  {
   "cell_type": "code",
   "execution_count": null,
   "metadata": {},
   "outputs": [],
   "source": []
  },
  {
   "cell_type": "code",
   "execution_count": 17,
   "metadata": {},
   "outputs": [],
   "source": [
    "import CMGDB\n",
    "import CMGDB_utils\n",
    "\n",
    "import numpy as np\n",
    "import time"
   ]
  },
  {
   "cell_type": "markdown",
   "metadata": {},
   "source": [
    "## Logistic map example"
   ]
  },
  {
   "cell_type": "code",
   "execution_count": 18,
   "metadata": {},
   "outputs": [],
   "source": [
    "def f(x):\n",
    "    r = 3.2\n",
    "    return [r * x[0] * (1.0 - x[0])]\n",
    "\n",
    "def F(rect):\n",
    "    return CMGDB.BoxMap(f, rect, padding=True)\n",
    "\n",
    "lower_bounds = [-0.1]\n",
    "upper_bounds = [1.0]\n",
    "\n",
    "subdiv_min = 12\n",
    "subdiv_max = 15\n",
    "subdiv_init = 8\n",
    "subdiv_limit = 10000\n",
    "\n",
    "model = CMGDB.Model(subdiv_min, subdiv_max, subdiv_init, subdiv_limit, lower_bounds, upper_bounds, F)"
   ]
  },
  {
   "cell_type": "code",
   "execution_count": 19,
   "metadata": {},
   "outputs": [
    {
     "name": "stdout",
     "output_type": "stream",
     "text": [
      "CPU times: user 14.6 ms, sys: 1.31 ms, total: 15.9 ms\n",
      "Wall time: 14.9 ms\n"
     ]
    }
   ],
   "source": [
    "%%time\n",
    "# morse_graph, map_graph = CMGDB.ComputeConleyMorseGraph(model)\n",
    "morse_graph, map_graph = CMGDB.ComputeMorseGraph(model)"
   ]
  },
  {
   "cell_type": "code",
   "execution_count": 20,
   "metadata": {},
   "outputs": [
    {
     "data": {
      "image/svg+xml": [
       "<?xml version=\"1.0\" encoding=\"UTF-8\" standalone=\"no\"?>\n",
       "<!DOCTYPE svg PUBLIC \"-//W3C//DTD SVG 1.1//EN\"\n",
       " \"http://www.w3.org/Graphics/SVG/1.1/DTD/svg11.dtd\">\n",
       "<!-- Generated by graphviz version 2.50.0 (0)\n",
       " -->\n",
       "<!-- Pages: 1 -->\n",
       "<svg width=\"62pt\" height=\"188pt\"\n",
       " viewBox=\"0.00 0.00 62.00 188.00\" xmlns=\"http://www.w3.org/2000/svg\" xmlns:xlink=\"http://www.w3.org/1999/xlink\">\n",
       "<g id=\"graph0\" class=\"graph\" transform=\"scale(1 1) rotate(0) translate(4 184)\">\n",
       "<polygon fill=\"white\" stroke=\"transparent\" points=\"-4,4 -4,-184 58,-184 58,4 -4,4\"/>\n",
       "<!-- 0 -->\n",
       "<g id=\"node1\" class=\"node\">\n",
       "<title>0</title>\n",
       "<ellipse fill=\"#1f77b4\" stroke=\"black\" cx=\"27\" cy=\"-18\" rx=\"27\" ry=\"18\"/>\n",
       "<text text-anchor=\"middle\" x=\"27\" y=\"-14.3\" font-family=\"Times,serif\" font-size=\"14.00\">0</text>\n",
       "</g>\n",
       "<!-- 1 -->\n",
       "<g id=\"node2\" class=\"node\">\n",
       "<title>1</title>\n",
       "<ellipse fill=\"#8c564b\" stroke=\"black\" cx=\"27\" cy=\"-90\" rx=\"27\" ry=\"18\"/>\n",
       "<text text-anchor=\"middle\" x=\"27\" y=\"-86.3\" font-family=\"Times,serif\" font-size=\"14.00\">1</text>\n",
       "</g>\n",
       "<!-- 1&#45;&gt;0 -->\n",
       "<g id=\"edge1\" class=\"edge\">\n",
       "<title>1&#45;&gt;0</title>\n",
       "<path fill=\"none\" stroke=\"black\" d=\"M27,-71.7C27,-63.98 27,-54.71 27,-46.11\"/>\n",
       "<polygon fill=\"black\" stroke=\"black\" points=\"30.5,-46.1 27,-36.1 23.5,-46.1 30.5,-46.1\"/>\n",
       "</g>\n",
       "<!-- 2 -->\n",
       "<g id=\"node3\" class=\"node\">\n",
       "<title>2</title>\n",
       "<ellipse fill=\"#9edae5\" stroke=\"black\" cx=\"27\" cy=\"-162\" rx=\"27\" ry=\"18\"/>\n",
       "<text text-anchor=\"middle\" x=\"27\" y=\"-158.3\" font-family=\"Times,serif\" font-size=\"14.00\">2</text>\n",
       "</g>\n",
       "<!-- 2&#45;&gt;1 -->\n",
       "<g id=\"edge2\" class=\"edge\">\n",
       "<title>2&#45;&gt;1</title>\n",
       "<path fill=\"none\" stroke=\"black\" d=\"M27,-143.7C27,-135.98 27,-126.71 27,-118.11\"/>\n",
       "<polygon fill=\"black\" stroke=\"black\" points=\"30.5,-118.1 27,-108.1 23.5,-118.1 30.5,-118.1\"/>\n",
       "</g>\n",
       "</g>\n",
       "</svg>\n"
      ],
      "text/plain": [
       "<graphviz.sources.Source at 0x110e45250>"
      ]
     },
     "execution_count": 20,
     "metadata": {},
     "output_type": "execute_result"
    }
   ],
   "source": [
    "CMGDB.PlotMorseGraph(morse_graph)"
   ]
  },
  {
   "cell_type": "code",
   "execution_count": 21,
   "metadata": {},
   "outputs": [
    {
     "data": {
      "image/png": "[encoded data removed]",
      "text/plain": [
       "<Figure size 700x700 with 1 Axes>"
      ]
     },
     "metadata": {},
     "output_type": "display_data"
    }
   ],
   "source": [
    "CMGDB.PlotMorseSets(morse_graph, fig_w=7, fig_h=7)"
   ]
  },
  {
   "cell_type": "code",
   "execution_count": 24,
   "metadata": {},
   "outputs": [
    {
     "name": "stdout",
     "output_type": "stream",
     "text": [
      "CPU times: user 120 μs, sys: 1 μs, total: 121 μs\n",
      "Wall time: 125 μs\n"
     ]
    }
   ],
   "source": [
    "%%time\n",
    "latt_attractors = CMGDB_utils.lattice_attractors(morse_graph)"
   ]
  },
  {
   "cell_type": "code",
   "execution_count": 25,
   "metadata": {},
   "outputs": [
    {
     "name": "stdout",
     "output_type": "stream",
     "text": [
      "CPU times: user 132 μs, sys: 1e+03 ns, total: 133 μs\n",
      "Wall time: 138 μs\n"
     ]
    }
   ],
   "source": [
    "%%time\n",
    "latt_repellers = CMGDB_utils.lattice_repellers(morse_graph)"
   ]
  },
  {
   "cell_type": "code",
   "execution_count": 26,
   "metadata": {},
   "outputs": [
    {
     "data": {
      "image/svg+xml": [
       "<?xml version=\"1.0\" encoding=\"UTF-8\" standalone=\"no\"?>\n",
       "<!DOCTYPE svg PUBLIC \"-//W3C//DTD SVG 1.1//EN\"\n",
       " \"http://www.w3.org/Graphics/SVG/1.1/DTD/svg11.dtd\">\n",
       "<!-- Generated by graphviz version 2.50.0 (0)\n",
       " -->\n",
       "<!-- Pages: 1 -->\n",
       "<svg width=\"116pt\" height=\"260pt\"\n",
       " viewBox=\"0.00 0.00 115.89 260.00\" xmlns=\"http://www.w3.org/2000/svg\" xmlns:xlink=\"http://www.w3.org/1999/xlink\">\n",
       "<g id=\"graph0\" class=\"graph\" transform=\"scale(1 1) rotate(0) translate(4 256)\">\n",
       "<polygon fill=\"white\" stroke=\"transparent\" points=\"-4,4 -4,-256 111.89,-256 111.89,4 -4,4\"/>\n",
       "<!-- 0 -->\n",
       "<g id=\"node1\" class=\"node\">\n",
       "<title>0</title>\n",
       "<ellipse fill=\"#1f77b4\" stroke=\"black\" cx=\"53.95\" cy=\"-18\" rx=\"33.6\" ry=\"18\"/>\n",
       "<text text-anchor=\"middle\" x=\"53.95\" y=\"-14.3\" font-family=\"Times,serif\" font-size=\"14.00\">0 : { }</text>\n",
       "</g>\n",
       "<!-- 1 -->\n",
       "<g id=\"node2\" class=\"node\">\n",
       "<title>1</title>\n",
       "<ellipse fill=\"#d62728\" stroke=\"black\" cx=\"53.95\" cy=\"-90\" rx=\"36\" ry=\"18\"/>\n",
       "<text text-anchor=\"middle\" x=\"53.95\" y=\"-86.3\" font-family=\"Times,serif\" font-size=\"14.00\">1 : {0}</text>\n",
       "</g>\n",
       "<!-- 1&#45;&gt;0 -->\n",
       "<g id=\"edge1\" class=\"edge\">\n",
       "<title>1&#45;&gt;0</title>\n",
       "<path fill=\"none\" stroke=\"black\" d=\"M53.95,-71.7C53.95,-63.98 53.95,-54.71 53.95,-46.11\"/>\n",
       "<polygon fill=\"black\" stroke=\"black\" points=\"57.45,-46.1 53.95,-36.1 50.45,-46.1 57.45,-46.1\"/>\n",
       "</g>\n",
       "<!-- 2 -->\n",
       "<g id=\"node3\" class=\"node\">\n",
       "<title>2</title>\n",
       "<ellipse fill=\"#f7b6d2\" stroke=\"black\" cx=\"53.95\" cy=\"-162\" rx=\"44.69\" ry=\"18\"/>\n",
       "<text text-anchor=\"middle\" x=\"53.95\" y=\"-158.3\" font-family=\"Times,serif\" font-size=\"14.00\">2 : {0, 1}</text>\n",
       "</g>\n",
       "<!-- 2&#45;&gt;1 -->\n",
       "<g id=\"edge2\" class=\"edge\">\n",
       "<title>2&#45;&gt;1</title>\n",
       "<path fill=\"none\" stroke=\"black\" d=\"M53.95,-143.7C53.95,-135.98 53.95,-126.71 53.95,-118.11\"/>\n",
       "<polygon fill=\"black\" stroke=\"black\" points=\"57.45,-118.1 53.95,-108.1 50.45,-118.1 57.45,-118.1\"/>\n",
       "</g>\n",
       "<!-- 3 -->\n",
       "<g id=\"node4\" class=\"node\">\n",
       "<title>3</title>\n",
       "<ellipse fill=\"#9edae5\" stroke=\"black\" cx=\"53.95\" cy=\"-234\" rx=\"53.89\" ry=\"18\"/>\n",
       "<text text-anchor=\"middle\" x=\"53.95\" y=\"-230.3\" font-family=\"Times,serif\" font-size=\"14.00\">3 : {0, 1, 2}</text>\n",
       "</g>\n",
       "<!-- 3&#45;&gt;2 -->\n",
       "<g id=\"edge3\" class=\"edge\">\n",
       "<title>3&#45;&gt;2</title>\n",
       "<path fill=\"none\" stroke=\"black\" d=\"M53.95,-215.7C53.95,-207.98 53.95,-198.71 53.95,-190.11\"/>\n",
       "<polygon fill=\"black\" stroke=\"black\" points=\"57.45,-190.1 53.95,-180.1 50.45,-190.1 57.45,-190.1\"/>\n",
       "</g>\n",
       "</g>\n",
       "</svg>\n"
      ],
      "text/plain": [
       "<graphviz.sources.Source at 0x111012690>"
      ]
     },
     "execution_count": 26,
     "metadata": {},
     "output_type": "execute_result"
    }
   ],
   "source": [
    "CMGDB_utils.PlotGraph(latt_attractors)"
   ]
  },
  {
   "cell_type": "code",
   "execution_count": 27,
   "metadata": {},
   "outputs": [
    {
     "data": {
      "image/svg+xml": [
       "<?xml version=\"1.0\" encoding=\"UTF-8\" standalone=\"no\"?>\n",
       "<!DOCTYPE svg PUBLIC \"-//W3C//DTD SVG 1.1//EN\"\n",
       " \"http://www.w3.org/Graphics/SVG/1.1/DTD/svg11.dtd\">\n",
       "<!-- Generated by graphviz version 2.50.0 (0)\n",
       " -->\n",
       "<!-- Pages: 1 -->\n",
       "<svg width=\"116pt\" height=\"260pt\"\n",
       " viewBox=\"0.00 0.00 115.89 260.00\" xmlns=\"http://www.w3.org/2000/svg\" xmlns:xlink=\"http://www.w3.org/1999/xlink\">\n",
       "<g id=\"graph0\" class=\"graph\" transform=\"scale(1 1) rotate(0) translate(4 256)\">\n",
       "<polygon fill=\"white\" stroke=\"transparent\" points=\"-4,4 -4,-256 111.89,-256 111.89,4 -4,4\"/>\n",
       "<!-- 0 -->\n",
       "<g id=\"node1\" class=\"node\">\n",
       "<title>0</title>\n",
       "<ellipse fill=\"#1f77b4\" stroke=\"black\" cx=\"53.95\" cy=\"-18\" rx=\"33.6\" ry=\"18\"/>\n",
       "<text text-anchor=\"middle\" x=\"53.95\" y=\"-14.3\" font-family=\"Times,serif\" font-size=\"14.00\">0 : { }</text>\n",
       "</g>\n",
       "<!-- 1 -->\n",
       "<g id=\"node2\" class=\"node\">\n",
       "<title>1</title>\n",
       "<ellipse fill=\"#d62728\" stroke=\"black\" cx=\"53.95\" cy=\"-90\" rx=\"36\" ry=\"18\"/>\n",
       "<text text-anchor=\"middle\" x=\"53.95\" y=\"-86.3\" font-family=\"Times,serif\" font-size=\"14.00\">1 : {0}</text>\n",
       "</g>\n",
       "<!-- 1&#45;&gt;0 -->\n",
       "<g id=\"edge1\" class=\"edge\">\n",
       "<title>1&#45;&gt;0</title>\n",
       "<path fill=\"none\" stroke=\"black\" d=\"M53.95,-71.7C53.95,-63.98 53.95,-54.71 53.95,-46.11\"/>\n",
       "<polygon fill=\"black\" stroke=\"black\" points=\"57.45,-46.1 53.95,-36.1 50.45,-46.1 57.45,-46.1\"/>\n",
       "</g>\n",
       "<!-- 2 -->\n",
       "<g id=\"node3\" class=\"node\">\n",
       "<title>2</title>\n",
       "<ellipse fill=\"#f7b6d2\" stroke=\"black\" cx=\"53.95\" cy=\"-162\" rx=\"44.69\" ry=\"18\"/>\n",
       "<text text-anchor=\"middle\" x=\"53.95\" y=\"-158.3\" font-family=\"Times,serif\" font-size=\"14.00\">2 : {0, 1}</text>\n",
       "</g>\n",
       "<!-- 2&#45;&gt;1 -->\n",
       "<g id=\"edge2\" class=\"edge\">\n",
       "<title>2&#45;&gt;1</title>\n",
       "<path fill=\"none\" stroke=\"black\" d=\"M53.95,-143.7C53.95,-135.98 53.95,-126.71 53.95,-118.11\"/>\n",
       "<polygon fill=\"black\" stroke=\"black\" points=\"57.45,-118.1 53.95,-108.1 50.45,-118.1 57.45,-118.1\"/>\n",
       "</g>\n",
       "<!-- 3 -->\n",
       "<g id=\"node4\" class=\"node\">\n",
       "<title>3</title>\n",
       "<ellipse fill=\"#9edae5\" stroke=\"black\" cx=\"53.95\" cy=\"-234\" rx=\"53.89\" ry=\"18\"/>\n",
       "<text text-anchor=\"middle\" x=\"53.95\" y=\"-230.3\" font-family=\"Times,serif\" font-size=\"14.00\">3 : {0, 1, 2}</text>\n",
       "</g>\n",
       "<!-- 3&#45;&gt;2 -->\n",
       "<g id=\"edge3\" class=\"edge\">\n",
       "<title>3&#45;&gt;2</title>\n",
       "<path fill=\"none\" stroke=\"black\" d=\"M53.95,-215.7C53.95,-207.98 53.95,-198.71 53.95,-190.11\"/>\n",
       "<polygon fill=\"black\" stroke=\"black\" points=\"57.45,-190.1 53.95,-180.1 50.45,-190.1 57.45,-190.1\"/>\n",
       "</g>\n",
       "</g>\n",
       "</svg>\n"
      ],
      "text/plain": [
       "<graphviz.sources.Source at 0x111011d50>"
      ]
     },
     "execution_count": 27,
     "metadata": {},
     "output_type": "execute_result"
    }
   ],
   "source": [
    "CMGDB_utils.PlotMorseGraph(latt_attractors)"
   ]
  },
  {
   "cell_type": "code",
   "execution_count": 28,
   "metadata": {},
   "outputs": [
    {
     "data": {
      "image/svg+xml": [
       "<?xml version=\"1.0\" encoding=\"UTF-8\" standalone=\"no\"?>\n",
       "<!DOCTYPE svg PUBLIC \"-//W3C//DTD SVG 1.1//EN\"\n",
       " \"http://www.w3.org/Graphics/SVG/1.1/DTD/svg11.dtd\">\n",
       "<!-- Generated by graphviz version 2.50.0 (0)\n",
       " -->\n",
       "<!-- Pages: 1 -->\n",
       "<svg width=\"116pt\" height=\"260pt\"\n",
       " viewBox=\"0.00 0.00 115.89 260.00\" xmlns=\"http://www.w3.org/2000/svg\" xmlns:xlink=\"http://www.w3.org/1999/xlink\">\n",
       "<g id=\"graph0\" class=\"graph\" transform=\"scale(1 1) rotate(0) translate(4 256)\">\n",
       "<polygon fill=\"white\" stroke=\"transparent\" points=\"-4,4 -4,-256 111.89,-256 111.89,4 -4,4\"/>\n",
       "<!-- 0 -->\n",
       "<g id=\"node1\" class=\"node\">\n",
       "<title>0</title>\n",
       "<ellipse fill=\"#1f77b4\" stroke=\"black\" cx=\"53.95\" cy=\"-18\" rx=\"53.89\" ry=\"18\"/>\n",
       "<text text-anchor=\"middle\" x=\"53.95\" y=\"-14.3\" font-family=\"Times,serif\" font-size=\"14.00\">0 : {0, 1, 2}</text>\n",
       "</g>\n",
       "<!-- 1 -->\n",
       "<g id=\"node2\" class=\"node\">\n",
       "<title>1</title>\n",
       "<ellipse fill=\"#d62728\" stroke=\"black\" cx=\"53.95\" cy=\"-90\" rx=\"44.69\" ry=\"18\"/>\n",
       "<text text-anchor=\"middle\" x=\"53.95\" y=\"-86.3\" font-family=\"Times,serif\" font-size=\"14.00\">1 : {1, 2}</text>\n",
       "</g>\n",
       "<!-- 1&#45;&gt;0 -->\n",
       "<g id=\"edge1\" class=\"edge\">\n",
       "<title>1&#45;&gt;0</title>\n",
       "<path fill=\"none\" stroke=\"black\" d=\"M53.95,-71.7C53.95,-63.98 53.95,-54.71 53.95,-46.11\"/>\n",
       "<polygon fill=\"black\" stroke=\"black\" points=\"57.45,-46.1 53.95,-36.1 50.45,-46.1 57.45,-46.1\"/>\n",
       "</g>\n",
       "<!-- 2 -->\n",
       "<g id=\"node3\" class=\"node\">\n",
       "<title>2</title>\n",
       "<ellipse fill=\"#f7b6d2\" stroke=\"black\" cx=\"53.95\" cy=\"-162\" rx=\"36\" ry=\"18\"/>\n",
       "<text text-anchor=\"middle\" x=\"53.95\" y=\"-158.3\" font-family=\"Times,serif\" font-size=\"14.00\">2 : {2}</text>\n",
       "</g>\n",
       "<!-- 2&#45;&gt;1 -->\n",
       "<g id=\"edge2\" class=\"edge\">\n",
       "<title>2&#45;&gt;1</title>\n",
       "<path fill=\"none\" stroke=\"black\" d=\"M53.95,-143.7C53.95,-135.98 53.95,-126.71 53.95,-118.11\"/>\n",
       "<polygon fill=\"black\" stroke=\"black\" points=\"57.45,-118.1 53.95,-108.1 50.45,-118.1 57.45,-118.1\"/>\n",
       "</g>\n",
       "<!-- 3 -->\n",
       "<g id=\"node4\" class=\"node\">\n",
       "<title>3</title>\n",
       "<ellipse fill=\"#9edae5\" stroke=\"black\" cx=\"53.95\" cy=\"-234\" rx=\"33.6\" ry=\"18\"/>\n",
       "<text text-anchor=\"middle\" x=\"53.95\" y=\"-230.3\" font-family=\"Times,serif\" font-size=\"14.00\">3 : { }</text>\n",
       "</g>\n",
       "<!-- 3&#45;&gt;2 -->\n",
       "<g id=\"edge3\" class=\"edge\">\n",
       "<title>3&#45;&gt;2</title>\n",
       "<path fill=\"none\" stroke=\"black\" d=\"M53.95,-215.7C53.95,-207.98 53.95,-198.71 53.95,-190.11\"/>\n",
       "<polygon fill=\"black\" stroke=\"black\" points=\"57.45,-190.1 53.95,-180.1 50.45,-190.1 57.45,-190.1\"/>\n",
       "</g>\n",
       "</g>\n",
       "</svg>\n"
      ],
      "text/plain": [
       "<graphviz.sources.Source at 0x111010d50>"
      ]
     },
     "execution_count": 28,
     "metadata": {},
     "output_type": "execute_result"
    }
   ],
   "source": [
    "CMGDB_utils.PlotGraph(latt_repellers)"
   ]
  },
  {
   "cell_type": "markdown",
   "metadata": {},
   "source": [
    "## Simple 2D map example"
   ]
  },
  {
   "cell_type": "code",
   "execution_count": 33,
   "metadata": {},
   "outputs": [],
   "source": [
    "def f(x):\n",
    "    return [x[0] / (2.0 - x[0]), x[1] / (2.0 - x[1])]\n",
    "\n",
    "def F(rect):\n",
    "    return CMGDB.BoxMap(f, rect, padding=False)\n",
    "\n",
    "subdiv_min = 6\n",
    "subdiv_max = 8\n",
    "subdiv_init = 4\n",
    "subdiv_limit = 10000\n",
    "lower_bounds = [0.0, 0.0]\n",
    "upper_bounds = [1.0, 1.0]\n",
    "\n",
    "model = CMGDB.Model(subdiv_min, subdiv_max, subdiv_init, subdiv_limit, lower_bounds, upper_bounds, F)"
   ]
  },
  {
   "cell_type": "code",
   "execution_count": 34,
   "metadata": {},
   "outputs": [
    {
     "name": "stdout",
     "output_type": "stream",
     "text": [
      "CPU times: user 4.15 ms, sys: 151 μs, total: 4.3 ms\n",
      "Wall time: 4.32 ms\n"
     ]
    }
   ],
   "source": [
    "%%time\n",
    "morse_graph, map_graph = CMGDB.ComputeMorseGraph(model)"
   ]
  },
  {
   "cell_type": "code",
   "execution_count": 35,
   "metadata": {},
   "outputs": [
    {
     "data": {
      "image/svg+xml": [
       "<?xml version=\"1.0\" encoding=\"UTF-8\" standalone=\"no\"?>\n",
       "<!DOCTYPE svg PUBLIC \"-//W3C//DTD SVG 1.1//EN\"\n",
       " \"http://www.w3.org/Graphics/SVG/1.1/DTD/svg11.dtd\">\n",
       "<!-- Generated by graphviz version 2.50.0 (0)\n",
       " -->\n",
       "<!-- Pages: 1 -->\n",
       "<svg width=\"134pt\" height=\"188pt\"\n",
       " viewBox=\"0.00 0.00 134.00 188.00\" xmlns=\"http://www.w3.org/2000/svg\" xmlns:xlink=\"http://www.w3.org/1999/xlink\">\n",
       "<g id=\"graph0\" class=\"graph\" transform=\"scale(1 1) rotate(0) translate(4 184)\">\n",
       "<polygon fill=\"white\" stroke=\"transparent\" points=\"-4,4 -4,-184 130,-184 130,4 -4,4\"/>\n",
       "<!-- 0 -->\n",
       "<g id=\"node1\" class=\"node\">\n",
       "<title>0</title>\n",
       "<ellipse fill=\"#1f77b4\" stroke=\"black\" cx=\"63\" cy=\"-18\" rx=\"27\" ry=\"18\"/>\n",
       "<text text-anchor=\"middle\" x=\"63\" y=\"-14.3\" font-family=\"Times,serif\" font-size=\"14.00\">0</text>\n",
       "</g>\n",
       "<!-- 1 -->\n",
       "<g id=\"node2\" class=\"node\">\n",
       "<title>1</title>\n",
       "<ellipse fill=\"#d62728\" stroke=\"black\" cx=\"27\" cy=\"-90\" rx=\"27\" ry=\"18\"/>\n",
       "<text text-anchor=\"middle\" x=\"27\" y=\"-86.3\" font-family=\"Times,serif\" font-size=\"14.00\">1</text>\n",
       "</g>\n",
       "<!-- 1&#45;&gt;0 -->\n",
       "<g id=\"edge1\" class=\"edge\">\n",
       "<title>1&#45;&gt;0</title>\n",
       "<path fill=\"none\" stroke=\"black\" d=\"M35.35,-72.76C39.71,-64.28 45.15,-53.71 50.04,-44.2\"/>\n",
       "<polygon fill=\"black\" stroke=\"black\" points=\"53.23,-45.64 54.7,-35.15 47.01,-42.44 53.23,-45.64\"/>\n",
       "</g>\n",
       "<!-- 2 -->\n",
       "<g id=\"node3\" class=\"node\">\n",
       "<title>2</title>\n",
       "<ellipse fill=\"#f7b6d2\" stroke=\"black\" cx=\"99\" cy=\"-90\" rx=\"27\" ry=\"18\"/>\n",
       "<text text-anchor=\"middle\" x=\"99\" y=\"-86.3\" font-family=\"Times,serif\" font-size=\"14.00\">2</text>\n",
       "</g>\n",
       "<!-- 2&#45;&gt;0 -->\n",
       "<g id=\"edge2\" class=\"edge\">\n",
       "<title>2&#45;&gt;0</title>\n",
       "<path fill=\"none\" stroke=\"black\" d=\"M90.65,-72.76C86.29,-64.28 80.85,-53.71 75.96,-44.2\"/>\n",
       "<polygon fill=\"black\" stroke=\"black\" points=\"78.99,-42.44 71.3,-35.15 72.77,-45.64 78.99,-42.44\"/>\n",
       "</g>\n",
       "<!-- 3 -->\n",
       "<g id=\"node4\" class=\"node\">\n",
       "<title>3</title>\n",
       "<ellipse fill=\"#9edae5\" stroke=\"black\" cx=\"63\" cy=\"-162\" rx=\"27\" ry=\"18\"/>\n",
       "<text text-anchor=\"middle\" x=\"63\" y=\"-158.3\" font-family=\"Times,serif\" font-size=\"14.00\">3</text>\n",
       "</g>\n",
       "<!-- 3&#45;&gt;1 -->\n",
       "<g id=\"edge4\" class=\"edge\">\n",
       "<title>3&#45;&gt;1</title>\n",
       "<path fill=\"none\" stroke=\"black\" d=\"M54.65,-144.76C50.29,-136.28 44.85,-125.71 39.96,-116.2\"/>\n",
       "<polygon fill=\"black\" stroke=\"black\" points=\"42.99,-114.44 35.3,-107.15 36.77,-117.64 42.99,-114.44\"/>\n",
       "</g>\n",
       "<!-- 3&#45;&gt;2 -->\n",
       "<g id=\"edge3\" class=\"edge\">\n",
       "<title>3&#45;&gt;2</title>\n",
       "<path fill=\"none\" stroke=\"black\" d=\"M71.35,-144.76C75.71,-136.28 81.15,-125.71 86.04,-116.2\"/>\n",
       "<polygon fill=\"black\" stroke=\"black\" points=\"89.23,-117.64 90.7,-107.15 83.01,-114.44 89.23,-117.64\"/>\n",
       "</g>\n",
       "</g>\n",
       "</svg>\n"
      ],
      "text/plain": [
       "<graphviz.sources.Source at 0x11106f850>"
      ]
     },
     "execution_count": 35,
     "metadata": {},
     "output_type": "execute_result"
    }
   ],
   "source": [
    "CMGDB.PlotMorseGraph(morse_graph)"
   ]
  },
  {
   "cell_type": "code",
   "execution_count": 36,
   "metadata": {},
   "outputs": [
    {
     "data": {
      "image/png": "[encoded data removed]",
      "text/plain": [
       "<Figure size 700x700 with 1 Axes>"
      ]
     },
     "metadata": {},
     "output_type": "display_data"
    }
   ],
   "source": [
    "CMGDB.PlotMorseSets(morse_graph, fig_w=7, fig_h=7)"
   ]
  },
  {
   "cell_type": "code",
   "execution_count": 37,
   "metadata": {},
   "outputs": [
    {
     "name": "stdout",
     "output_type": "stream",
     "text": [
      "CPU times: user 211 μs, sys: 35 μs, total: 246 μs\n",
      "Wall time: 253 μs\n"
     ]
    }
   ],
   "source": [
    "%%time\n",
    "latt_attractors = CMGDB_utils.lattice_attractors(morse_graph)"
   ]
  },
  {
   "cell_type": "code",
   "execution_count": 38,
   "metadata": {},
   "outputs": [
    {
     "name": "stdout",
     "output_type": "stream",
     "text": [
      "CPU times: user 210 μs, sys: 10 μs, total: 220 μs\n",
      "Wall time: 225 μs\n"
     ]
    }
   ],
   "source": [
    "%%time\n",
    "latt_repellers = CMGDB_utils.lattice_repellers(morse_graph)"
   ]
  },
  {
   "cell_type": "code",
   "execution_count": 39,
   "metadata": {},
   "outputs": [
    {
     "data": {
      "image/svg+xml": [
       "<?xml version=\"1.0\" encoding=\"UTF-8\" standalone=\"no\"?>\n",
       "<!DOCTYPE svg PUBLIC \"-//W3C//DTD SVG 1.1//EN\"\n",
       " \"http://www.w3.org/Graphics/SVG/1.1/DTD/svg11.dtd\">\n",
       "<!-- Generated by graphviz version 2.50.0 (0)\n",
       " -->\n",
       "<!-- Pages: 1 -->\n",
       "<svg width=\"206pt\" height=\"332pt\"\n",
       " viewBox=\"0.00 0.00 205.69 332.00\" xmlns=\"http://www.w3.org/2000/svg\" xmlns:xlink=\"http://www.w3.org/1999/xlink\">\n",
       "<g id=\"graph0\" class=\"graph\" transform=\"scale(1 1) rotate(0) translate(4 328)\">\n",
       "<polygon fill=\"white\" stroke=\"transparent\" points=\"-4,4 -4,-328 201.69,-328 201.69,4 -4,4\"/>\n",
       "<!-- 0 -->\n",
       "<g id=\"node1\" class=\"node\">\n",
       "<title>0</title>\n",
       "<ellipse fill=\"#1f77b4\" stroke=\"black\" cx=\"98.85\" cy=\"-18\" rx=\"33.6\" ry=\"18\"/>\n",
       "<text text-anchor=\"middle\" x=\"98.85\" y=\"-14.3\" font-family=\"Times,serif\" font-size=\"14.00\">0 : { }</text>\n",
       "</g>\n",
       "<!-- 1 -->\n",
       "<g id=\"node2\" class=\"node\">\n",
       "<title>1</title>\n",
       "<ellipse fill=\"#2ca02c\" stroke=\"black\" cx=\"98.85\" cy=\"-90\" rx=\"36\" ry=\"18\"/>\n",
       "<text text-anchor=\"middle\" x=\"98.85\" y=\"-86.3\" font-family=\"Times,serif\" font-size=\"14.00\">1 : {0}</text>\n",
       "</g>\n",
       "<!-- 1&#45;&gt;0 -->\n",
       "<g id=\"edge1\" class=\"edge\">\n",
       "<title>1&#45;&gt;0</title>\n",
       "<path fill=\"none\" stroke=\"black\" d=\"M98.85,-71.7C98.85,-63.98 98.85,-54.71 98.85,-46.11\"/>\n",
       "<polygon fill=\"black\" stroke=\"black\" points=\"102.35,-46.1 98.85,-36.1 95.35,-46.1 102.35,-46.1\"/>\n",
       "</g>\n",
       "<!-- 2 -->\n",
       "<g id=\"node3\" class=\"node\">\n",
       "<title>2</title>\n",
       "<ellipse fill=\"#9467bd\" stroke=\"black\" cx=\"44.85\" cy=\"-162\" rx=\"44.69\" ry=\"18\"/>\n",
       "<text text-anchor=\"middle\" x=\"44.85\" y=\"-158.3\" font-family=\"Times,serif\" font-size=\"14.00\">2 : {0, 1}</text>\n",
       "</g>\n",
       "<!-- 2&#45;&gt;1 -->\n",
       "<g id=\"edge2\" class=\"edge\">\n",
       "<title>2&#45;&gt;1</title>\n",
       "<path fill=\"none\" stroke=\"black\" d=\"M57.64,-144.41C64.4,-135.66 72.81,-124.75 80.27,-115.08\"/>\n",
       "<polygon fill=\"black\" stroke=\"black\" points=\"83.18,-117.04 86.51,-106.99 77.63,-112.77 83.18,-117.04\"/>\n",
       "</g>\n",
       "<!-- 3 -->\n",
       "<g id=\"node4\" class=\"node\">\n",
       "<title>3</title>\n",
       "<ellipse fill=\"#e377c2\" stroke=\"black\" cx=\"152.85\" cy=\"-162\" rx=\"44.69\" ry=\"18\"/>\n",
       "<text text-anchor=\"middle\" x=\"152.85\" y=\"-158.3\" font-family=\"Times,serif\" font-size=\"14.00\">3 : {0, 2}</text>\n",
       "</g>\n",
       "<!-- 3&#45;&gt;1 -->\n",
       "<g id=\"edge3\" class=\"edge\">\n",
       "<title>3&#45;&gt;1</title>\n",
       "<path fill=\"none\" stroke=\"black\" d=\"M140.05,-144.41C133.29,-135.66 124.88,-124.75 117.42,-115.08\"/>\n",
       "<polygon fill=\"black\" stroke=\"black\" points=\"120.06,-112.77 111.18,-106.99 114.52,-117.04 120.06,-112.77\"/>\n",
       "</g>\n",
       "<!-- 4 -->\n",
       "<g id=\"node5\" class=\"node\">\n",
       "<title>4</title>\n",
       "<ellipse fill=\"#bcbd22\" stroke=\"black\" cx=\"98.85\" cy=\"-234\" rx=\"53.89\" ry=\"18\"/>\n",
       "<text text-anchor=\"middle\" x=\"98.85\" y=\"-230.3\" font-family=\"Times,serif\" font-size=\"14.00\">4 : {0, 1, 2}</text>\n",
       "</g>\n",
       "<!-- 4&#45;&gt;2 -->\n",
       "<g id=\"edge4\" class=\"edge\">\n",
       "<title>4&#45;&gt;2</title>\n",
       "<path fill=\"none\" stroke=\"black\" d=\"M86.05,-216.41C79.39,-207.78 71.12,-197.06 63.74,-187.5\"/>\n",
       "<polygon fill=\"black\" stroke=\"black\" points=\"66.43,-185.25 57.55,-179.47 60.89,-189.53 66.43,-185.25\"/>\n",
       "</g>\n",
       "<!-- 4&#45;&gt;3 -->\n",
       "<g id=\"edge5\" class=\"edge\">\n",
       "<title>4&#45;&gt;3</title>\n",
       "<path fill=\"none\" stroke=\"black\" d=\"M111.64,-216.41C118.3,-207.78 126.57,-197.06 133.95,-187.5\"/>\n",
       "<polygon fill=\"black\" stroke=\"black\" points=\"136.8,-189.53 140.14,-179.47 131.26,-185.25 136.8,-189.53\"/>\n",
       "</g>\n",
       "<!-- 5 -->\n",
       "<g id=\"node6\" class=\"node\">\n",
       "<title>5</title>\n",
       "<ellipse fill=\"#9edae5\" stroke=\"black\" cx=\"98.85\" cy=\"-306\" rx=\"63.89\" ry=\"18\"/>\n",
       "<text text-anchor=\"middle\" x=\"98.85\" y=\"-302.3\" font-family=\"Times,serif\" font-size=\"14.00\">5 : {0, 1, 2, 3}</text>\n",
       "</g>\n",
       "<!-- 5&#45;&gt;4 -->\n",
       "<g id=\"edge6\" class=\"edge\">\n",
       "<title>5&#45;&gt;4</title>\n",
       "<path fill=\"none\" stroke=\"black\" d=\"M98.85,-287.7C98.85,-279.98 98.85,-270.71 98.85,-262.11\"/>\n",
       "<polygon fill=\"black\" stroke=\"black\" points=\"102.35,-262.1 98.85,-252.1 95.35,-262.1 102.35,-262.1\"/>\n",
       "</g>\n",
       "</g>\n",
       "</svg>\n"
      ],
      "text/plain": [
       "<graphviz.sources.Source at 0x111225610>"
      ]
     },
     "execution_count": 39,
     "metadata": {},
     "output_type": "execute_result"
    }
   ],
   "source": [
    "CMGDB_utils.PlotGraph(latt_attractors)"
   ]
  },
  {
   "cell_type": "code",
   "execution_count": 40,
   "metadata": {},
   "outputs": [
    {
     "data": {
      "image/svg+xml": [
       "<?xml version=\"1.0\" encoding=\"UTF-8\" standalone=\"no\"?>\n",
       "<!DOCTYPE svg PUBLIC \"-//W3C//DTD SVG 1.1//EN\"\n",
       " \"http://www.w3.org/Graphics/SVG/1.1/DTD/svg11.dtd\">\n",
       "<!-- Generated by graphviz version 2.50.0 (0)\n",
       " -->\n",
       "<!-- Pages: 1 -->\n",
       "<svg width=\"206pt\" height=\"332pt\"\n",
       " viewBox=\"0.00 0.00 205.69 332.00\" xmlns=\"http://www.w3.org/2000/svg\" xmlns:xlink=\"http://www.w3.org/1999/xlink\">\n",
       "<g id=\"graph0\" class=\"graph\" transform=\"scale(1 1) rotate(0) translate(4 328)\">\n",
       "<polygon fill=\"white\" stroke=\"transparent\" points=\"-4,4 -4,-328 201.69,-328 201.69,4 -4,4\"/>\n",
       "<!-- 0 -->\n",
       "<g id=\"node1\" class=\"node\">\n",
       "<title>0</title>\n",
       "<ellipse fill=\"#1f77b4\" stroke=\"black\" cx=\"98.85\" cy=\"-18\" rx=\"33.6\" ry=\"18\"/>\n",
       "<text text-anchor=\"middle\" x=\"98.85\" y=\"-14.3\" font-family=\"Times,serif\" font-size=\"14.00\">0 : { }</text>\n",
       "</g>\n",
       "<!-- 1 -->\n",
       "<g id=\"node2\" class=\"node\">\n",
       "<title>1</title>\n",
       "<ellipse fill=\"#2ca02c\" stroke=\"black\" cx=\"98.85\" cy=\"-90\" rx=\"36\" ry=\"18\"/>\n",
       "<text text-anchor=\"middle\" x=\"98.85\" y=\"-86.3\" font-family=\"Times,serif\" font-size=\"14.00\">1 : {0}</text>\n",
       "</g>\n",
       "<!-- 1&#45;&gt;0 -->\n",
       "<g id=\"edge1\" class=\"edge\">\n",
       "<title>1&#45;&gt;0</title>\n",
       "<path fill=\"none\" stroke=\"black\" d=\"M98.85,-71.7C98.85,-63.98 98.85,-54.71 98.85,-46.11\"/>\n",
       "<polygon fill=\"black\" stroke=\"black\" points=\"102.35,-46.1 98.85,-36.1 95.35,-46.1 102.35,-46.1\"/>\n",
       "</g>\n",
       "<!-- 2 -->\n",
       "<g id=\"node3\" class=\"node\">\n",
       "<title>2</title>\n",
       "<ellipse fill=\"#9467bd\" stroke=\"black\" cx=\"44.85\" cy=\"-162\" rx=\"44.69\" ry=\"18\"/>\n",
       "<text text-anchor=\"middle\" x=\"44.85\" y=\"-158.3\" font-family=\"Times,serif\" font-size=\"14.00\">2 : {0, 1}</text>\n",
       "</g>\n",
       "<!-- 2&#45;&gt;1 -->\n",
       "<g id=\"edge2\" class=\"edge\">\n",
       "<title>2&#45;&gt;1</title>\n",
       "<path fill=\"none\" stroke=\"black\" d=\"M57.64,-144.41C64.4,-135.66 72.81,-124.75 80.27,-115.08\"/>\n",
       "<polygon fill=\"black\" stroke=\"black\" points=\"83.18,-117.04 86.51,-106.99 77.63,-112.77 83.18,-117.04\"/>\n",
       "</g>\n",
       "<!-- 3 -->\n",
       "<g id=\"node4\" class=\"node\">\n",
       "<title>3</title>\n",
       "<ellipse fill=\"#e377c2\" stroke=\"black\" cx=\"152.85\" cy=\"-162\" rx=\"44.69\" ry=\"18\"/>\n",
       "<text text-anchor=\"middle\" x=\"152.85\" y=\"-158.3\" font-family=\"Times,serif\" font-size=\"14.00\">3 : {0, 2}</text>\n",
       "</g>\n",
       "<!-- 3&#45;&gt;1 -->\n",
       "<g id=\"edge3\" class=\"edge\">\n",
       "<title>3&#45;&gt;1</title>\n",
       "<path fill=\"none\" stroke=\"black\" d=\"M140.05,-144.41C133.29,-135.66 124.88,-124.75 117.42,-115.08\"/>\n",
       "<polygon fill=\"black\" stroke=\"black\" points=\"120.06,-112.77 111.18,-106.99 114.52,-117.04 120.06,-112.77\"/>\n",
       "</g>\n",
       "<!-- 4 -->\n",
       "<g id=\"node5\" class=\"node\">\n",
       "<title>4</title>\n",
       "<ellipse fill=\"#bcbd22\" stroke=\"black\" cx=\"98.85\" cy=\"-234\" rx=\"53.89\" ry=\"18\"/>\n",
       "<text text-anchor=\"middle\" x=\"98.85\" y=\"-230.3\" font-family=\"Times,serif\" font-size=\"14.00\">4 : {0, 1, 2}</text>\n",
       "</g>\n",
       "<!-- 4&#45;&gt;2 -->\n",
       "<g id=\"edge4\" class=\"edge\">\n",
       "<title>4&#45;&gt;2</title>\n",
       "<path fill=\"none\" stroke=\"black\" d=\"M86.05,-216.41C79.39,-207.78 71.12,-197.06 63.74,-187.5\"/>\n",
       "<polygon fill=\"black\" stroke=\"black\" points=\"66.43,-185.25 57.55,-179.47 60.89,-189.53 66.43,-185.25\"/>\n",
       "</g>\n",
       "<!-- 4&#45;&gt;3 -->\n",
       "<g id=\"edge5\" class=\"edge\">\n",
       "<title>4&#45;&gt;3</title>\n",
       "<path fill=\"none\" stroke=\"black\" d=\"M111.64,-216.41C118.3,-207.78 126.57,-197.06 133.95,-187.5\"/>\n",
       "<polygon fill=\"black\" stroke=\"black\" points=\"136.8,-189.53 140.14,-179.47 131.26,-185.25 136.8,-189.53\"/>\n",
       "</g>\n",
       "<!-- 5 -->\n",
       "<g id=\"node6\" class=\"node\">\n",
       "<title>5</title>\n",
       "<ellipse fill=\"#9edae5\" stroke=\"black\" cx=\"98.85\" cy=\"-306\" rx=\"63.89\" ry=\"18\"/>\n",
       "<text text-anchor=\"middle\" x=\"98.85\" y=\"-302.3\" font-family=\"Times,serif\" font-size=\"14.00\">5 : {0, 1, 2, 3}</text>\n",
       "</g>\n",
       "<!-- 5&#45;&gt;4 -->\n",
       "<g id=\"edge6\" class=\"edge\">\n",
       "<title>5&#45;&gt;4</title>\n",
       "<path fill=\"none\" stroke=\"black\" d=\"M98.85,-287.7C98.85,-279.98 98.85,-270.71 98.85,-262.11\"/>\n",
       "<polygon fill=\"black\" stroke=\"black\" points=\"102.35,-262.1 98.85,-252.1 95.35,-262.1 102.35,-262.1\"/>\n",
       "</g>\n",
       "</g>\n",
       "</svg>\n"
      ],
      "text/plain": [
       "<graphviz.sources.Source at 0x110ffefd0>"
      ]
     },
     "execution_count": 40,
     "metadata": {},
     "output_type": "execute_result"
    }
   ],
   "source": [
    "CMGDB_utils.PlotMorseGraph(latt_attractors)"
   ]
  },
  {
   "cell_type": "code",
   "execution_count": 41,
   "metadata": {},
   "outputs": [
    {
     "data": {
      "image/svg+xml": [
       "<?xml version=\"1.0\" encoding=\"UTF-8\" standalone=\"no\"?>\n",
       "<!DOCTYPE svg PUBLIC \"-//W3C//DTD SVG 1.1//EN\"\n",
       " \"http://www.w3.org/Graphics/SVG/1.1/DTD/svg11.dtd\">\n",
       "<!-- Generated by graphviz version 2.50.0 (0)\n",
       " -->\n",
       "<!-- Pages: 1 -->\n",
       "<svg width=\"206pt\" height=\"332pt\"\n",
       " viewBox=\"0.00 0.00 205.69 332.00\" xmlns=\"http://www.w3.org/2000/svg\" xmlns:xlink=\"http://www.w3.org/1999/xlink\">\n",
       "<g id=\"graph0\" class=\"graph\" transform=\"scale(1 1) rotate(0) translate(4 328)\">\n",
       "<polygon fill=\"white\" stroke=\"transparent\" points=\"-4,4 -4,-328 201.69,-328 201.69,4 -4,4\"/>\n",
       "<!-- 0 -->\n",
       "<g id=\"node1\" class=\"node\">\n",
       "<title>0</title>\n",
       "<ellipse fill=\"#1f77b4\" stroke=\"black\" cx=\"98.85\" cy=\"-18\" rx=\"63.89\" ry=\"18\"/>\n",
       "<text text-anchor=\"middle\" x=\"98.85\" y=\"-14.3\" font-family=\"Times,serif\" font-size=\"14.00\">0 : {0, 1, 2, 3}</text>\n",
       "</g>\n",
       "<!-- 1 -->\n",
       "<g id=\"node2\" class=\"node\">\n",
       "<title>1</title>\n",
       "<ellipse fill=\"#2ca02c\" stroke=\"black\" cx=\"98.85\" cy=\"-90\" rx=\"53.89\" ry=\"18\"/>\n",
       "<text text-anchor=\"middle\" x=\"98.85\" y=\"-86.3\" font-family=\"Times,serif\" font-size=\"14.00\">1 : {1, 2, 3}</text>\n",
       "</g>\n",
       "<!-- 1&#45;&gt;0 -->\n",
       "<g id=\"edge1\" class=\"edge\">\n",
       "<title>1&#45;&gt;0</title>\n",
       "<path fill=\"none\" stroke=\"black\" d=\"M98.85,-71.7C98.85,-63.98 98.85,-54.71 98.85,-46.11\"/>\n",
       "<polygon fill=\"black\" stroke=\"black\" points=\"102.35,-46.1 98.85,-36.1 95.35,-46.1 102.35,-46.1\"/>\n",
       "</g>\n",
       "<!-- 2 -->\n",
       "<g id=\"node3\" class=\"node\">\n",
       "<title>2</title>\n",
       "<ellipse fill=\"#9467bd\" stroke=\"black\" cx=\"44.85\" cy=\"-162\" rx=\"44.69\" ry=\"18\"/>\n",
       "<text text-anchor=\"middle\" x=\"44.85\" y=\"-158.3\" font-family=\"Times,serif\" font-size=\"14.00\">2 : {2, 3}</text>\n",
       "</g>\n",
       "<!-- 2&#45;&gt;1 -->\n",
       "<g id=\"edge2\" class=\"edge\">\n",
       "<title>2&#45;&gt;1</title>\n",
       "<path fill=\"none\" stroke=\"black\" d=\"M57.64,-144.41C64.2,-135.91 72.33,-125.37 79.63,-115.91\"/>\n",
       "<polygon fill=\"black\" stroke=\"black\" points=\"82.43,-118.01 85.77,-107.96 76.89,-113.74 82.43,-118.01\"/>\n",
       "</g>\n",
       "<!-- 3 -->\n",
       "<g id=\"node4\" class=\"node\">\n",
       "<title>3</title>\n",
       "<ellipse fill=\"#e377c2\" stroke=\"black\" cx=\"152.85\" cy=\"-162\" rx=\"44.69\" ry=\"18\"/>\n",
       "<text text-anchor=\"middle\" x=\"152.85\" y=\"-158.3\" font-family=\"Times,serif\" font-size=\"14.00\">3 : {1, 3}</text>\n",
       "</g>\n",
       "<!-- 3&#45;&gt;1 -->\n",
       "<g id=\"edge3\" class=\"edge\">\n",
       "<title>3&#45;&gt;1</title>\n",
       "<path fill=\"none\" stroke=\"black\" d=\"M140.05,-144.41C133.49,-135.91 125.36,-125.37 118.07,-115.91\"/>\n",
       "<polygon fill=\"black\" stroke=\"black\" points=\"120.81,-113.74 111.93,-107.96 115.26,-118.01 120.81,-113.74\"/>\n",
       "</g>\n",
       "<!-- 4 -->\n",
       "<g id=\"node5\" class=\"node\">\n",
       "<title>4</title>\n",
       "<ellipse fill=\"#bcbd22\" stroke=\"black\" cx=\"98.85\" cy=\"-234\" rx=\"36\" ry=\"18\"/>\n",
       "<text text-anchor=\"middle\" x=\"98.85\" y=\"-230.3\" font-family=\"Times,serif\" font-size=\"14.00\">4 : {3}</text>\n",
       "</g>\n",
       "<!-- 4&#45;&gt;2 -->\n",
       "<g id=\"edge4\" class=\"edge\">\n",
       "<title>4&#45;&gt;2</title>\n",
       "<path fill=\"none\" stroke=\"black\" d=\"M86.32,-216.76C79.67,-208.14 71.36,-197.36 63.92,-187.73\"/>\n",
       "<polygon fill=\"black\" stroke=\"black\" points=\"66.56,-185.41 57.68,-179.63 61.01,-189.69 66.56,-185.41\"/>\n",
       "</g>\n",
       "<!-- 4&#45;&gt;3 -->\n",
       "<g id=\"edge5\" class=\"edge\">\n",
       "<title>4&#45;&gt;3</title>\n",
       "<path fill=\"none\" stroke=\"black\" d=\"M111.37,-216.76C118.02,-208.14 126.34,-197.36 133.77,-187.73\"/>\n",
       "<polygon fill=\"black\" stroke=\"black\" points=\"136.68,-189.69 140.01,-179.63 131.14,-185.41 136.68,-189.69\"/>\n",
       "</g>\n",
       "<!-- 5 -->\n",
       "<g id=\"node6\" class=\"node\">\n",
       "<title>5</title>\n",
       "<ellipse fill=\"#9edae5\" stroke=\"black\" cx=\"98.85\" cy=\"-306\" rx=\"33.6\" ry=\"18\"/>\n",
       "<text text-anchor=\"middle\" x=\"98.85\" y=\"-302.3\" font-family=\"Times,serif\" font-size=\"14.00\">5 : { }</text>\n",
       "</g>\n",
       "<!-- 5&#45;&gt;4 -->\n",
       "<g id=\"edge6\" class=\"edge\">\n",
       "<title>5&#45;&gt;4</title>\n",
       "<path fill=\"none\" stroke=\"black\" d=\"M98.85,-287.7C98.85,-279.98 98.85,-270.71 98.85,-262.11\"/>\n",
       "<polygon fill=\"black\" stroke=\"black\" points=\"102.35,-262.1 98.85,-252.1 95.35,-262.1 102.35,-262.1\"/>\n",
       "</g>\n",
       "</g>\n",
       "</svg>\n"
      ],
      "text/plain": [
       "<graphviz.sources.Source at 0x111239b50>"
      ]
     },
     "execution_count": 41,
     "metadata": {},
     "output_type": "execute_result"
    }
   ],
   "source": [
    "CMGDB_utils.PlotGraph(latt_repellers)"
   ]
  },
  {
   "cell_type": "markdown",
   "metadata": {},
   "source": [
    "## Leslie map examples"
   ]
  },
  {
   "cell_type": "code",
   "execution_count": 42,
   "metadata": {},
   "outputs": [],
   "source": [
    "def f(x):\n",
    "    th1 = 19.6\n",
    "    th2 = 23.68\n",
    "    return [(th1 * x[0] + th2 * x[1]) * np.exp (-0.1 * (x[0] + x[1])), 0.7 * x[0]]"
   ]
  },
  {
   "cell_type": "code",
   "execution_count": 43,
   "metadata": {},
   "outputs": [],
   "source": [
    "def F(rect):\n",
    "    return CMGDB_utils.BoxMap(f, rect)"
   ]
  },
  {
   "cell_type": "code",
   "execution_count": 44,
   "metadata": {},
   "outputs": [],
   "source": [
    "lower_bounds = [0.0, 0.0]\n",
    "upper_bounds = [90.0, 70.0]\n",
    "grid_size = [500, 500]\n",
    "\n",
    "model = CMGDB_utils.Model(lower_bounds, upper_bounds, grid_size, F, map_type='BoxMap', padding=False)\n",
    "# model = CMGDB_utils.Model(lower_bounds, upper_bounds, grid_size, F, map_type='B', padding=False)"
   ]
  },
  {
   "cell_type": "code",
   "execution_count": 45,
   "metadata": {},
   "outputs": [
    {
     "name": "stdout",
     "output_type": "stream",
     "text": [
      "CPU times: user 11.3 s, sys: 183 ms, total: 11.5 s\n",
      "Wall time: 11.4 s\n"
     ]
    }
   ],
   "source": [
    "%%time\n",
    "morse_graph, cubical_complex = CMGDB_utils.ComputeMorseGraph(model)"
   ]
  },
  {
   "cell_type": "code",
   "execution_count": 46,
   "metadata": {},
   "outputs": [
    {
     "data": {
      "image/svg+xml": [
       "<?xml version=\"1.0\" encoding=\"UTF-8\" standalone=\"no\"?>\n",
       "<!DOCTYPE svg PUBLIC \"-//W3C//DTD SVG 1.1//EN\"\n",
       " \"http://www.w3.org/Graphics/SVG/1.1/DTD/svg11.dtd\">\n",
       "<!-- Generated by graphviz version 2.50.0 (0)\n",
       " -->\n",
       "<!-- Pages: 1 -->\n",
       "<svg width=\"134pt\" height=\"260pt\"\n",
       " viewBox=\"0.00 0.00 134.00 260.00\" xmlns=\"http://www.w3.org/2000/svg\" xmlns:xlink=\"http://www.w3.org/1999/xlink\">\n",
       "<g id=\"graph0\" class=\"graph\" transform=\"scale(1 1) rotate(0) translate(4 256)\">\n",
       "<polygon fill=\"white\" stroke=\"transparent\" points=\"-4,4 -4,-256 130,-256 130,4 -4,4\"/>\n",
       "<!-- 0 -->\n",
       "<g id=\"node1\" class=\"node\">\n",
       "<title>0</title>\n",
       "<ellipse fill=\"#1f77b4\" stroke=\"black\" cx=\"27\" cy=\"-18\" rx=\"27\" ry=\"18\"/>\n",
       "<text text-anchor=\"middle\" x=\"27\" y=\"-14.3\" font-family=\"Times,serif\" font-size=\"14.00\">0</text>\n",
       "</g>\n",
       "<!-- 1 -->\n",
       "<g id=\"node2\" class=\"node\">\n",
       "<title>1</title>\n",
       "<ellipse fill=\"#98df8a\" stroke=\"black\" cx=\"36\" cy=\"-90\" rx=\"27\" ry=\"18\"/>\n",
       "<text text-anchor=\"middle\" x=\"36\" y=\"-86.3\" font-family=\"Times,serif\" font-size=\"14.00\">1</text>\n",
       "</g>\n",
       "<!-- 1&#45;&gt;0 -->\n",
       "<g id=\"edge1\" class=\"edge\">\n",
       "<title>1&#45;&gt;0</title>\n",
       "<path fill=\"none\" stroke=\"black\" d=\"M33.82,-72.05C32.83,-64.35 31.63,-55.03 30.52,-46.36\"/>\n",
       "<polygon fill=\"black\" stroke=\"black\" points=\"33.97,-45.75 29.22,-36.28 27.02,-46.64 33.97,-45.75\"/>\n",
       "</g>\n",
       "<!-- 2 -->\n",
       "<g id=\"node3\" class=\"node\">\n",
       "<title>2</title>\n",
       "<ellipse fill=\"#8c564b\" stroke=\"black\" cx=\"99\" cy=\"-18\" rx=\"27\" ry=\"18\"/>\n",
       "<text text-anchor=\"middle\" x=\"99\" y=\"-14.3\" font-family=\"Times,serif\" font-size=\"14.00\">2</text>\n",
       "</g>\n",
       "<!-- 3 -->\n",
       "<g id=\"node4\" class=\"node\">\n",
       "<title>3</title>\n",
       "<ellipse fill=\"#c7c7c7\" stroke=\"black\" cx=\"63\" cy=\"-162\" rx=\"27\" ry=\"18\"/>\n",
       "<text text-anchor=\"middle\" x=\"63\" y=\"-158.3\" font-family=\"Times,serif\" font-size=\"14.00\">3</text>\n",
       "</g>\n",
       "<!-- 3&#45;&gt;1 -->\n",
       "<g id=\"edge2\" class=\"edge\">\n",
       "<title>3&#45;&gt;1</title>\n",
       "<path fill=\"none\" stroke=\"black\" d=\"M56.6,-144.41C53.49,-136.34 49.67,-126.43 46.17,-117.35\"/>\n",
       "<polygon fill=\"black\" stroke=\"black\" points=\"49.4,-116.03 42.54,-107.96 42.87,-118.55 49.4,-116.03\"/>\n",
       "</g>\n",
       "<!-- 3&#45;&gt;2 -->\n",
       "<g id=\"edge3\" class=\"edge\">\n",
       "<title>3&#45;&gt;2</title>\n",
       "<path fill=\"none\" stroke=\"black\" d=\"M67.27,-144.15C73.44,-119.81 84.91,-74.57 92.24,-45.67\"/>\n",
       "<polygon fill=\"black\" stroke=\"black\" points=\"95.67,-46.38 94.73,-35.82 88.88,-44.66 95.67,-46.38\"/>\n",
       "</g>\n",
       "<!-- 4 -->\n",
       "<g id=\"node5\" class=\"node\">\n",
       "<title>4</title>\n",
       "<ellipse fill=\"#9edae5\" stroke=\"black\" cx=\"63\" cy=\"-234\" rx=\"27\" ry=\"18\"/>\n",
       "<text text-anchor=\"middle\" x=\"63\" y=\"-230.3\" font-family=\"Times,serif\" font-size=\"14.00\">4</text>\n",
       "</g>\n",
       "<!-- 4&#45;&gt;3 -->\n",
       "<g id=\"edge4\" class=\"edge\">\n",
       "<title>4&#45;&gt;3</title>\n",
       "<path fill=\"none\" stroke=\"black\" d=\"M63,-215.7C63,-207.98 63,-198.71 63,-190.11\"/>\n",
       "<polygon fill=\"black\" stroke=\"black\" points=\"66.5,-190.1 63,-180.1 59.5,-190.1 66.5,-190.1\"/>\n",
       "</g>\n",
       "</g>\n",
       "</svg>\n"
      ],
      "text/plain": [
       "<graphviz.sources.Source at 0x111245810>"
      ]
     },
     "execution_count": 46,
     "metadata": {},
     "output_type": "execute_result"
    }
   ],
   "source": [
    "CMGDB_utils.PlotMorseGraph(morse_graph)"
   ]
  },
  {
   "cell_type": "code",
   "execution_count": 47,
   "metadata": {},
   "outputs": [
    {
     "data": {
      "image/png": "[encoded data removed]",
      "text/plain": [
       "<Figure size 800x800 with 1 Axes>"
      ]
     },
     "metadata": {},
     "output_type": "display_data"
    }
   ],
   "source": [
    "CMGDB_utils.PlotMorseSets(morse_graph, cubical_complex)"
   ]
  },
  {
   "cell_type": "code",
   "execution_count": 48,
   "metadata": {},
   "outputs": [
    {
     "name": "stdout",
     "output_type": "stream",
     "text": [
      "CPU times: user 180 μs, sys: 21 μs, total: 201 μs\n",
      "Wall time: 206 μs\n"
     ]
    }
   ],
   "source": [
    "%%time\n",
    "latt_attractors = CMGDB_utils.lattice_attractors(morse_graph[0])"
   ]
  },
  {
   "cell_type": "code",
   "execution_count": 49,
   "metadata": {},
   "outputs": [
    {
     "name": "stdout",
     "output_type": "stream",
     "text": [
      "CPU times: user 204 μs, sys: 5 μs, total: 209 μs\n",
      "Wall time: 212 μs\n"
     ]
    }
   ],
   "source": [
    "%%time\n",
    "latt_repellers = CMGDB_utils.lattice_repellers(morse_graph[0])"
   ]
  },
  {
   "cell_type": "code",
   "execution_count": 50,
   "metadata": {},
   "outputs": [
    {
     "data": {
      "image/svg+xml": [
       "<?xml version=\"1.0\" encoding=\"UTF-8\" standalone=\"no\"?>\n",
       "<!DOCTYPE svg PUBLIC \"-//W3C//DTD SVG 1.1//EN\"\n",
       " \"http://www.w3.org/Graphics/SVG/1.1/DTD/svg11.dtd\">\n",
       "<!-- Generated by graphviz version 2.50.0 (0)\n",
       " -->\n",
       "<!-- Pages: 1 -->\n",
       "<svg width=\"206pt\" height=\"404pt\"\n",
       " viewBox=\"0.00 0.00 205.69 404.00\" xmlns=\"http://www.w3.org/2000/svg\" xmlns:xlink=\"http://www.w3.org/1999/xlink\">\n",
       "<g id=\"graph0\" class=\"graph\" transform=\"scale(1 1) rotate(0) translate(4 400)\">\n",
       "<polygon fill=\"white\" stroke=\"transparent\" points=\"-4,4 -4,-400 201.69,-400 201.69,4 -4,4\"/>\n",
       "<!-- 0 -->\n",
       "<g id=\"node1\" class=\"node\">\n",
       "<title>0</title>\n",
       "<ellipse fill=\"#1f77b4\" stroke=\"black\" cx=\"107.85\" cy=\"-18\" rx=\"33.6\" ry=\"18\"/>\n",
       "<text text-anchor=\"middle\" x=\"107.85\" y=\"-14.3\" font-family=\"Times,serif\" font-size=\"14.00\">0 : { }</text>\n",
       "</g>\n",
       "<!-- 1 -->\n",
       "<g id=\"node2\" class=\"node\">\n",
       "<title>1</title>\n",
       "<ellipse fill=\"#ff7f0e\" stroke=\"black\" cx=\"63.85\" cy=\"-90\" rx=\"36\" ry=\"18\"/>\n",
       "<text text-anchor=\"middle\" x=\"63.85\" y=\"-86.3\" font-family=\"Times,serif\" font-size=\"14.00\">1 : {0}</text>\n",
       "</g>\n",
       "<!-- 1&#45;&gt;0 -->\n",
       "<g id=\"edge1\" class=\"edge\">\n",
       "<title>1&#45;&gt;0</title>\n",
       "<path fill=\"none\" stroke=\"black\" d=\"M74.27,-72.41C79.59,-63.95 86.16,-53.49 92.08,-44.08\"/>\n",
       "<polygon fill=\"black\" stroke=\"black\" points=\"95.13,-45.8 97.49,-35.47 89.21,-42.07 95.13,-45.8\"/>\n",
       "</g>\n",
       "<!-- 2 -->\n",
       "<g id=\"node3\" class=\"node\">\n",
       "<title>2</title>\n",
       "<ellipse fill=\"#98df8a\" stroke=\"black\" cx=\"152.85\" cy=\"-90\" rx=\"36\" ry=\"18\"/>\n",
       "<text text-anchor=\"middle\" x=\"152.85\" y=\"-86.3\" font-family=\"Times,serif\" font-size=\"14.00\">2 : {2}</text>\n",
       "</g>\n",
       "<!-- 2&#45;&gt;0 -->\n",
       "<g id=\"edge2\" class=\"edge\">\n",
       "<title>2&#45;&gt;0</title>\n",
       "<path fill=\"none\" stroke=\"black\" d=\"M142.41,-72.76C136.84,-64.11 129.88,-53.27 123.66,-43.6\"/>\n",
       "<polygon fill=\"black\" stroke=\"black\" points=\"126.58,-41.67 118.23,-35.15 120.69,-45.45 126.58,-41.67\"/>\n",
       "</g>\n",
       "<!-- 3 -->\n",
       "<g id=\"node4\" class=\"node\">\n",
       "<title>3</title>\n",
       "<ellipse fill=\"#9467bd\" stroke=\"black\" cx=\"44.85\" cy=\"-162\" rx=\"44.69\" ry=\"18\"/>\n",
       "<text text-anchor=\"middle\" x=\"44.85\" y=\"-158.3\" font-family=\"Times,serif\" font-size=\"14.00\">3 : {0, 1}</text>\n",
       "</g>\n",
       "<!-- 3&#45;&gt;1 -->\n",
       "<g id=\"edge3\" class=\"edge\">\n",
       "<title>3&#45;&gt;1</title>\n",
       "<path fill=\"none\" stroke=\"black\" d=\"M49.45,-144.05C51.56,-136.26 54.12,-126.82 56.5,-118.08\"/>\n",
       "<polygon fill=\"black\" stroke=\"black\" points=\"59.92,-118.84 59.16,-108.28 53.16,-117.01 59.92,-118.84\"/>\n",
       "</g>\n",
       "<!-- 4 -->\n",
       "<g id=\"node5\" class=\"node\">\n",
       "<title>4</title>\n",
       "<ellipse fill=\"#c49c94\" stroke=\"black\" cx=\"152.85\" cy=\"-162\" rx=\"44.69\" ry=\"18\"/>\n",
       "<text text-anchor=\"middle\" x=\"152.85\" y=\"-158.3\" font-family=\"Times,serif\" font-size=\"14.00\">4 : {0, 2}</text>\n",
       "</g>\n",
       "<!-- 4&#45;&gt;1 -->\n",
       "<g id=\"edge4\" class=\"edge\">\n",
       "<title>4&#45;&gt;1</title>\n",
       "<path fill=\"none\" stroke=\"black\" d=\"M133.09,-145.46C120.54,-135.59 104.14,-122.69 90.44,-111.92\"/>\n",
       "<polygon fill=\"black\" stroke=\"black\" points=\"92.35,-108.97 82.33,-105.54 88.02,-114.47 92.35,-108.97\"/>\n",
       "</g>\n",
       "<!-- 4&#45;&gt;2 -->\n",
       "<g id=\"edge5\" class=\"edge\">\n",
       "<title>4&#45;&gt;2</title>\n",
       "<path fill=\"none\" stroke=\"black\" d=\"M152.85,-143.7C152.85,-135.98 152.85,-126.71 152.85,-118.11\"/>\n",
       "<polygon fill=\"black\" stroke=\"black\" points=\"156.35,-118.1 152.85,-108.1 149.35,-118.1 156.35,-118.1\"/>\n",
       "</g>\n",
       "<!-- 5 -->\n",
       "<g id=\"node6\" class=\"node\">\n",
       "<title>5</title>\n",
       "<ellipse fill=\"#7f7f7f\" stroke=\"black\" cx=\"98.85\" cy=\"-234\" rx=\"53.89\" ry=\"18\"/>\n",
       "<text text-anchor=\"middle\" x=\"98.85\" y=\"-230.3\" font-family=\"Times,serif\" font-size=\"14.00\">5 : {0, 1, 2}</text>\n",
       "</g>\n",
       "<!-- 5&#45;&gt;3 -->\n",
       "<g id=\"edge6\" class=\"edge\">\n",
       "<title>5&#45;&gt;3</title>\n",
       "<path fill=\"none\" stroke=\"black\" d=\"M86.05,-216.41C79.39,-207.78 71.12,-197.06 63.74,-187.5\"/>\n",
       "<polygon fill=\"black\" stroke=\"black\" points=\"66.43,-185.25 57.55,-179.47 60.89,-189.53 66.43,-185.25\"/>\n",
       "</g>\n",
       "<!-- 5&#45;&gt;4 -->\n",
       "<g id=\"edge7\" class=\"edge\">\n",
       "<title>5&#45;&gt;4</title>\n",
       "<path fill=\"none\" stroke=\"black\" d=\"M111.64,-216.41C118.3,-207.78 126.57,-197.06 133.95,-187.5\"/>\n",
       "<polygon fill=\"black\" stroke=\"black\" points=\"136.8,-189.53 140.14,-179.47 131.26,-185.25 136.8,-189.53\"/>\n",
       "</g>\n",
       "<!-- 6 -->\n",
       "<g id=\"node7\" class=\"node\">\n",
       "<title>6</title>\n",
       "<ellipse fill=\"#dbdb8d\" stroke=\"black\" cx=\"98.85\" cy=\"-306\" rx=\"63.89\" ry=\"18\"/>\n",
       "<text text-anchor=\"middle\" x=\"98.85\" y=\"-302.3\" font-family=\"Times,serif\" font-size=\"14.00\">6 : {0, 1, 2, 3}</text>\n",
       "</g>\n",
       "<!-- 6&#45;&gt;5 -->\n",
       "<g id=\"edge8\" class=\"edge\">\n",
       "<title>6&#45;&gt;5</title>\n",
       "<path fill=\"none\" stroke=\"black\" d=\"M98.85,-287.7C98.85,-279.98 98.85,-270.71 98.85,-262.11\"/>\n",
       "<polygon fill=\"black\" stroke=\"black\" points=\"102.35,-262.1 98.85,-252.1 95.35,-262.1 102.35,-262.1\"/>\n",
       "</g>\n",
       "<!-- 7 -->\n",
       "<g id=\"node8\" class=\"node\">\n",
       "<title>7</title>\n",
       "<ellipse fill=\"#9edae5\" stroke=\"black\" cx=\"98.85\" cy=\"-378\" rx=\"72.59\" ry=\"18\"/>\n",
       "<text text-anchor=\"middle\" x=\"98.85\" y=\"-374.3\" font-family=\"Times,serif\" font-size=\"14.00\">7 : {0, 1, 2, 3, 4}</text>\n",
       "</g>\n",
       "<!-- 7&#45;&gt;6 -->\n",
       "<g id=\"edge9\" class=\"edge\">\n",
       "<title>7&#45;&gt;6</title>\n",
       "<path fill=\"none\" stroke=\"black\" d=\"M98.85,-359.7C98.85,-351.98 98.85,-342.71 98.85,-334.11\"/>\n",
       "<polygon fill=\"black\" stroke=\"black\" points=\"102.35,-334.1 98.85,-324.1 95.35,-334.1 102.35,-334.1\"/>\n",
       "</g>\n",
       "</g>\n",
       "</svg>\n"
      ],
      "text/plain": [
       "<graphviz.sources.Source at 0x111201790>"
      ]
     },
     "execution_count": 50,
     "metadata": {},
     "output_type": "execute_result"
    }
   ],
   "source": [
    "CMGDB_utils.PlotGraph(latt_attractors)"
   ]
  },
  {
   "cell_type": "code",
   "execution_count": 51,
   "metadata": {},
   "outputs": [
    {
     "data": {
      "image/svg+xml": [
       "<?xml version=\"1.0\" encoding=\"UTF-8\" standalone=\"no\"?>\n",
       "<!DOCTYPE svg PUBLIC \"-//W3C//DTD SVG 1.1//EN\"\n",
       " \"http://www.w3.org/Graphics/SVG/1.1/DTD/svg11.dtd\">\n",
       "<!-- Generated by graphviz version 2.50.0 (0)\n",
       " -->\n",
       "<!-- Pages: 1 -->\n",
       "<svg width=\"206pt\" height=\"404pt\"\n",
       " viewBox=\"0.00 0.00 205.69 404.00\" xmlns=\"http://www.w3.org/2000/svg\" xmlns:xlink=\"http://www.w3.org/1999/xlink\">\n",
       "<g id=\"graph0\" class=\"graph\" transform=\"scale(1 1) rotate(0) translate(4 400)\">\n",
       "<polygon fill=\"white\" stroke=\"transparent\" points=\"-4,4 -4,-400 201.69,-400 201.69,4 -4,4\"/>\n",
       "<!-- 0 -->\n",
       "<g id=\"node1\" class=\"node\">\n",
       "<title>0</title>\n",
       "<ellipse fill=\"#1f77b4\" stroke=\"black\" cx=\"107.85\" cy=\"-18\" rx=\"33.6\" ry=\"18\"/>\n",
       "<text text-anchor=\"middle\" x=\"107.85\" y=\"-14.3\" font-family=\"Times,serif\" font-size=\"14.00\">0 : { }</text>\n",
       "</g>\n",
       "<!-- 1 -->\n",
       "<g id=\"node2\" class=\"node\">\n",
       "<title>1</title>\n",
       "<ellipse fill=\"#ff7f0e\" stroke=\"black\" cx=\"63.85\" cy=\"-90\" rx=\"36\" ry=\"18\"/>\n",
       "<text text-anchor=\"middle\" x=\"63.85\" y=\"-86.3\" font-family=\"Times,serif\" font-size=\"14.00\">1 : {0}</text>\n",
       "</g>\n",
       "<!-- 1&#45;&gt;0 -->\n",
       "<g id=\"edge1\" class=\"edge\">\n",
       "<title>1&#45;&gt;0</title>\n",
       "<path fill=\"none\" stroke=\"black\" d=\"M74.27,-72.41C79.59,-63.95 86.16,-53.49 92.08,-44.08\"/>\n",
       "<polygon fill=\"black\" stroke=\"black\" points=\"95.13,-45.8 97.49,-35.47 89.21,-42.07 95.13,-45.8\"/>\n",
       "</g>\n",
       "<!-- 2 -->\n",
       "<g id=\"node3\" class=\"node\">\n",
       "<title>2</title>\n",
       "<ellipse fill=\"#98df8a\" stroke=\"black\" cx=\"152.85\" cy=\"-90\" rx=\"36\" ry=\"18\"/>\n",
       "<text text-anchor=\"middle\" x=\"152.85\" y=\"-86.3\" font-family=\"Times,serif\" font-size=\"14.00\">2 : {2}</text>\n",
       "</g>\n",
       "<!-- 2&#45;&gt;0 -->\n",
       "<g id=\"edge2\" class=\"edge\">\n",
       "<title>2&#45;&gt;0</title>\n",
       "<path fill=\"none\" stroke=\"black\" d=\"M142.41,-72.76C136.84,-64.11 129.88,-53.27 123.66,-43.6\"/>\n",
       "<polygon fill=\"black\" stroke=\"black\" points=\"126.58,-41.67 118.23,-35.15 120.69,-45.45 126.58,-41.67\"/>\n",
       "</g>\n",
       "<!-- 3 -->\n",
       "<g id=\"node4\" class=\"node\">\n",
       "<title>3</title>\n",
       "<ellipse fill=\"#9467bd\" stroke=\"black\" cx=\"44.85\" cy=\"-162\" rx=\"44.69\" ry=\"18\"/>\n",
       "<text text-anchor=\"middle\" x=\"44.85\" y=\"-158.3\" font-family=\"Times,serif\" font-size=\"14.00\">3 : {0, 1}</text>\n",
       "</g>\n",
       "<!-- 3&#45;&gt;1 -->\n",
       "<g id=\"edge3\" class=\"edge\">\n",
       "<title>3&#45;&gt;1</title>\n",
       "<path fill=\"none\" stroke=\"black\" d=\"M49.45,-144.05C51.56,-136.26 54.12,-126.82 56.5,-118.08\"/>\n",
       "<polygon fill=\"black\" stroke=\"black\" points=\"59.92,-118.84 59.16,-108.28 53.16,-117.01 59.92,-118.84\"/>\n",
       "</g>\n",
       "<!-- 4 -->\n",
       "<g id=\"node5\" class=\"node\">\n",
       "<title>4</title>\n",
       "<ellipse fill=\"#c49c94\" stroke=\"black\" cx=\"152.85\" cy=\"-162\" rx=\"44.69\" ry=\"18\"/>\n",
       "<text text-anchor=\"middle\" x=\"152.85\" y=\"-158.3\" font-family=\"Times,serif\" font-size=\"14.00\">4 : {0, 2}</text>\n",
       "</g>\n",
       "<!-- 4&#45;&gt;1 -->\n",
       "<g id=\"edge4\" class=\"edge\">\n",
       "<title>4&#45;&gt;1</title>\n",
       "<path fill=\"none\" stroke=\"black\" d=\"M133.09,-145.46C120.54,-135.59 104.14,-122.69 90.44,-111.92\"/>\n",
       "<polygon fill=\"black\" stroke=\"black\" points=\"92.35,-108.97 82.33,-105.54 88.02,-114.47 92.35,-108.97\"/>\n",
       "</g>\n",
       "<!-- 4&#45;&gt;2 -->\n",
       "<g id=\"edge5\" class=\"edge\">\n",
       "<title>4&#45;&gt;2</title>\n",
       "<path fill=\"none\" stroke=\"black\" d=\"M152.85,-143.7C152.85,-135.98 152.85,-126.71 152.85,-118.11\"/>\n",
       "<polygon fill=\"black\" stroke=\"black\" points=\"156.35,-118.1 152.85,-108.1 149.35,-118.1 156.35,-118.1\"/>\n",
       "</g>\n",
       "<!-- 5 -->\n",
       "<g id=\"node6\" class=\"node\">\n",
       "<title>5</title>\n",
       "<ellipse fill=\"#7f7f7f\" stroke=\"black\" cx=\"98.85\" cy=\"-234\" rx=\"53.89\" ry=\"18\"/>\n",
       "<text text-anchor=\"middle\" x=\"98.85\" y=\"-230.3\" font-family=\"Times,serif\" font-size=\"14.00\">5 : {0, 1, 2}</text>\n",
       "</g>\n",
       "<!-- 5&#45;&gt;3 -->\n",
       "<g id=\"edge6\" class=\"edge\">\n",
       "<title>5&#45;&gt;3</title>\n",
       "<path fill=\"none\" stroke=\"black\" d=\"M86.05,-216.41C79.39,-207.78 71.12,-197.06 63.74,-187.5\"/>\n",
       "<polygon fill=\"black\" stroke=\"black\" points=\"66.43,-185.25 57.55,-179.47 60.89,-189.53 66.43,-185.25\"/>\n",
       "</g>\n",
       "<!-- 5&#45;&gt;4 -->\n",
       "<g id=\"edge7\" class=\"edge\">\n",
       "<title>5&#45;&gt;4</title>\n",
       "<path fill=\"none\" stroke=\"black\" d=\"M111.64,-216.41C118.3,-207.78 126.57,-197.06 133.95,-187.5\"/>\n",
       "<polygon fill=\"black\" stroke=\"black\" points=\"136.8,-189.53 140.14,-179.47 131.26,-185.25 136.8,-189.53\"/>\n",
       "</g>\n",
       "<!-- 6 -->\n",
       "<g id=\"node7\" class=\"node\">\n",
       "<title>6</title>\n",
       "<ellipse fill=\"#dbdb8d\" stroke=\"black\" cx=\"98.85\" cy=\"-306\" rx=\"63.89\" ry=\"18\"/>\n",
       "<text text-anchor=\"middle\" x=\"98.85\" y=\"-302.3\" font-family=\"Times,serif\" font-size=\"14.00\">6 : {0, 1, 2, 3}</text>\n",
       "</g>\n",
       "<!-- 6&#45;&gt;5 -->\n",
       "<g id=\"edge8\" class=\"edge\">\n",
       "<title>6&#45;&gt;5</title>\n",
       "<path fill=\"none\" stroke=\"black\" d=\"M98.85,-287.7C98.85,-279.98 98.85,-270.71 98.85,-262.11\"/>\n",
       "<polygon fill=\"black\" stroke=\"black\" points=\"102.35,-262.1 98.85,-252.1 95.35,-262.1 102.35,-262.1\"/>\n",
       "</g>\n",
       "<!-- 7 -->\n",
       "<g id=\"node8\" class=\"node\">\n",
       "<title>7</title>\n",
       "<ellipse fill=\"#9edae5\" stroke=\"black\" cx=\"98.85\" cy=\"-378\" rx=\"72.59\" ry=\"18\"/>\n",
       "<text text-anchor=\"middle\" x=\"98.85\" y=\"-374.3\" font-family=\"Times,serif\" font-size=\"14.00\">7 : {0, 1, 2, 3, 4}</text>\n",
       "</g>\n",
       "<!-- 7&#45;&gt;6 -->\n",
       "<g id=\"edge9\" class=\"edge\">\n",
       "<title>7&#45;&gt;6</title>\n",
       "<path fill=\"none\" stroke=\"black\" d=\"M98.85,-359.7C98.85,-351.98 98.85,-342.71 98.85,-334.11\"/>\n",
       "<polygon fill=\"black\" stroke=\"black\" points=\"102.35,-334.1 98.85,-324.1 95.35,-334.1 102.35,-334.1\"/>\n",
       "</g>\n",
       "</g>\n",
       "</svg>\n"
      ],
      "text/plain": [
       "<graphviz.sources.Source at 0x111278ad0>"
      ]
     },
     "execution_count": 51,
     "metadata": {},
     "output_type": "execute_result"
    }
   ],
   "source": [
    "CMGDB_utils.PlotMorseGraph(latt_attractors)"
   ]
  },
  {
   "cell_type": "code",
   "execution_count": 52,
   "metadata": {},
   "outputs": [
    {
     "data": {
      "image/svg+xml": [
       "<?xml version=\"1.0\" encoding=\"UTF-8\" standalone=\"no\"?>\n",
       "<!DOCTYPE svg PUBLIC \"-//W3C//DTD SVG 1.1//EN\"\n",
       " \"http://www.w3.org/Graphics/SVG/1.1/DTD/svg11.dtd\">\n",
       "<!-- Generated by graphviz version 2.50.0 (0)\n",
       " -->\n",
       "<!-- Pages: 1 -->\n",
       "<svg width=\"280pt\" height=\"404pt\"\n",
       " viewBox=\"0.00 0.00 280.39 404.00\" xmlns=\"http://www.w3.org/2000/svg\" xmlns:xlink=\"http://www.w3.org/1999/xlink\">\n",
       "<g id=\"graph0\" class=\"graph\" transform=\"scale(1 1) rotate(0) translate(4 400)\">\n",
       "<polygon fill=\"white\" stroke=\"transparent\" points=\"-4,4 -4,-400 276.39,-400 276.39,4 -4,4\"/>\n",
       "<!-- 0 -->\n",
       "<g id=\"node1\" class=\"node\">\n",
       "<title>0</title>\n",
       "<ellipse fill=\"#1f77b4\" stroke=\"black\" cx=\"135.69\" cy=\"-18\" rx=\"72.59\" ry=\"18\"/>\n",
       "<text text-anchor=\"middle\" x=\"135.69\" y=\"-14.3\" font-family=\"Times,serif\" font-size=\"14.00\">0 : {0, 1, 2, 3, 4}</text>\n",
       "</g>\n",
       "<!-- 1 -->\n",
       "<g id=\"node2\" class=\"node\">\n",
       "<title>1</title>\n",
       "<ellipse fill=\"#ff7f0e\" stroke=\"black\" cx=\"63.69\" cy=\"-90\" rx=\"63.89\" ry=\"18\"/>\n",
       "<text text-anchor=\"middle\" x=\"63.69\" y=\"-86.3\" font-family=\"Times,serif\" font-size=\"14.00\">1 : {1, 2, 3, 4}</text>\n",
       "</g>\n",
       "<!-- 1&#45;&gt;0 -->\n",
       "<g id=\"edge1\" class=\"edge\">\n",
       "<title>1&#45;&gt;0</title>\n",
       "<path fill=\"none\" stroke=\"black\" d=\"M80.76,-72.41C89.77,-63.65 101,-52.73 110.95,-43.06\"/>\n",
       "<polygon fill=\"black\" stroke=\"black\" points=\"113.52,-45.44 118.25,-35.96 108.64,-40.42 113.52,-45.44\"/>\n",
       "</g>\n",
       "<!-- 2 -->\n",
       "<g id=\"node3\" class=\"node\">\n",
       "<title>2</title>\n",
       "<ellipse fill=\"#98df8a\" stroke=\"black\" cx=\"208.69\" cy=\"-90\" rx=\"63.89\" ry=\"18\"/>\n",
       "<text text-anchor=\"middle\" x=\"208.69\" y=\"-86.3\" font-family=\"Times,serif\" font-size=\"14.00\">2 : {0, 1, 3, 4}</text>\n",
       "</g>\n",
       "<!-- 2&#45;&gt;0 -->\n",
       "<g id=\"edge2\" class=\"edge\">\n",
       "<title>2&#45;&gt;0</title>\n",
       "<path fill=\"none\" stroke=\"black\" d=\"M191.39,-72.41C182.19,-63.58 170.7,-52.57 160.56,-42.84\"/>\n",
       "<polygon fill=\"black\" stroke=\"black\" points=\"162.76,-40.11 153.12,-35.71 157.92,-45.16 162.76,-40.11\"/>\n",
       "</g>\n",
       "<!-- 3 -->\n",
       "<g id=\"node4\" class=\"node\">\n",
       "<title>3</title>\n",
       "<ellipse fill=\"#9467bd\" stroke=\"black\" cx=\"63.69\" cy=\"-162\" rx=\"53.89\" ry=\"18\"/>\n",
       "<text text-anchor=\"middle\" x=\"63.69\" y=\"-158.3\" font-family=\"Times,serif\" font-size=\"14.00\">3 : {2, 3, 4}</text>\n",
       "</g>\n",
       "<!-- 3&#45;&gt;1 -->\n",
       "<g id=\"edge3\" class=\"edge\">\n",
       "<title>3&#45;&gt;1</title>\n",
       "<path fill=\"none\" stroke=\"black\" d=\"M63.69,-143.7C63.69,-135.98 63.69,-126.71 63.69,-118.11\"/>\n",
       "<polygon fill=\"black\" stroke=\"black\" points=\"67.19,-118.1 63.69,-108.1 60.19,-118.1 67.19,-118.1\"/>\n",
       "</g>\n",
       "<!-- 4 -->\n",
       "<g id=\"node5\" class=\"node\">\n",
       "<title>4</title>\n",
       "<ellipse fill=\"#c49c94\" stroke=\"black\" cx=\"189.69\" cy=\"-162\" rx=\"53.89\" ry=\"18\"/>\n",
       "<text text-anchor=\"middle\" x=\"189.69\" y=\"-158.3\" font-family=\"Times,serif\" font-size=\"14.00\">4 : {1, 3, 4}</text>\n",
       "</g>\n",
       "<!-- 4&#45;&gt;1 -->\n",
       "<g id=\"edge4\" class=\"edge\">\n",
       "<title>4&#45;&gt;1</title>\n",
       "<path fill=\"none\" stroke=\"black\" d=\"M162.97,-146.15C144.68,-135.99 120.2,-122.39 100.12,-111.24\"/>\n",
       "<polygon fill=\"black\" stroke=\"black\" points=\"101.69,-108.1 91.25,-106.31 98.29,-114.22 101.69,-108.1\"/>\n",
       "</g>\n",
       "<!-- 4&#45;&gt;2 -->\n",
       "<g id=\"edge5\" class=\"edge\">\n",
       "<title>4&#45;&gt;2</title>\n",
       "<path fill=\"none\" stroke=\"black\" d=\"M194.29,-144.05C196.41,-136.26 198.97,-126.82 201.34,-118.08\"/>\n",
       "<polygon fill=\"black\" stroke=\"black\" points=\"204.76,-118.84 204.01,-108.28 198.01,-117.01 204.76,-118.84\"/>\n",
       "</g>\n",
       "<!-- 5 -->\n",
       "<g id=\"node6\" class=\"node\">\n",
       "<title>5</title>\n",
       "<ellipse fill=\"#7f7f7f\" stroke=\"black\" cx=\"126.69\" cy=\"-234\" rx=\"44.69\" ry=\"18\"/>\n",
       "<text text-anchor=\"middle\" x=\"126.69\" y=\"-230.3\" font-family=\"Times,serif\" font-size=\"14.00\">5 : {3, 4}</text>\n",
       "</g>\n",
       "<!-- 5&#45;&gt;3 -->\n",
       "<g id=\"edge6\" class=\"edge\">\n",
       "<title>5&#45;&gt;3</title>\n",
       "<path fill=\"none\" stroke=\"black\" d=\"M112.08,-216.76C104.17,-207.97 94.23,-196.93 85.42,-187.14\"/>\n",
       "<polygon fill=\"black\" stroke=\"black\" points=\"87.96,-184.72 78.66,-179.63 82.75,-189.41 87.96,-184.72\"/>\n",
       "</g>\n",
       "<!-- 5&#45;&gt;4 -->\n",
       "<g id=\"edge7\" class=\"edge\">\n",
       "<title>5&#45;&gt;4</title>\n",
       "<path fill=\"none\" stroke=\"black\" d=\"M141.31,-216.76C149.22,-207.97 159.16,-196.93 167.96,-187.14\"/>\n",
       "<polygon fill=\"black\" stroke=\"black\" points=\"170.64,-189.41 174.72,-179.63 165.43,-184.72 170.64,-189.41\"/>\n",
       "</g>\n",
       "<!-- 6 -->\n",
       "<g id=\"node7\" class=\"node\">\n",
       "<title>6</title>\n",
       "<ellipse fill=\"#dbdb8d\" stroke=\"black\" cx=\"126.69\" cy=\"-306\" rx=\"36\" ry=\"18\"/>\n",
       "<text text-anchor=\"middle\" x=\"126.69\" y=\"-302.3\" font-family=\"Times,serif\" font-size=\"14.00\">6 : {4}</text>\n",
       "</g>\n",
       "<!-- 6&#45;&gt;5 -->\n",
       "<g id=\"edge8\" class=\"edge\">\n",
       "<title>6&#45;&gt;5</title>\n",
       "<path fill=\"none\" stroke=\"black\" d=\"M126.69,-287.7C126.69,-279.98 126.69,-270.71 126.69,-262.11\"/>\n",
       "<polygon fill=\"black\" stroke=\"black\" points=\"130.19,-262.1 126.69,-252.1 123.19,-262.1 130.19,-262.1\"/>\n",
       "</g>\n",
       "<!-- 7 -->\n",
       "<g id=\"node8\" class=\"node\">\n",
       "<title>7</title>\n",
       "<ellipse fill=\"#9edae5\" stroke=\"black\" cx=\"126.69\" cy=\"-378\" rx=\"33.6\" ry=\"18\"/>\n",
       "<text text-anchor=\"middle\" x=\"126.69\" y=\"-374.3\" font-family=\"Times,serif\" font-size=\"14.00\">7 : { }</text>\n",
       "</g>\n",
       "<!-- 7&#45;&gt;6 -->\n",
       "<g id=\"edge9\" class=\"edge\">\n",
       "<title>7&#45;&gt;6</title>\n",
       "<path fill=\"none\" stroke=\"black\" d=\"M126.69,-359.7C126.69,-351.98 126.69,-342.71 126.69,-334.11\"/>\n",
       "<polygon fill=\"black\" stroke=\"black\" points=\"130.19,-334.1 126.69,-324.1 123.19,-334.1 130.19,-334.1\"/>\n",
       "</g>\n",
       "</g>\n",
       "</svg>\n"
      ],
      "text/plain": [
       "<graphviz.sources.Source at 0x111011890>"
      ]
     },
     "execution_count": 52,
     "metadata": {},
     "output_type": "execute_result"
    }
   ],
   "source": [
    "CMGDB_utils.PlotGraph(latt_repellers)"
   ]
  },
  {
   "cell_type": "markdown",
   "metadata": {},
   "source": [
    "## Conley index example"
   ]
  },
  {
   "cell_type": "code",
   "execution_count": 53,
   "metadata": {},
   "outputs": [
    {
     "name": "stdout",
     "output_type": "stream",
     "text": [
      "CPU times: user 11.7 s, sys: 142 ms, total: 11.9 s\n",
      "Wall time: 11.8 s\n"
     ]
    }
   ],
   "source": [
    "%%time\n",
    "morse_graph, cubical_complex = CMGDB_utils.ComputeConleyMorseGraph(model)"
   ]
  },
  {
   "cell_type": "code",
   "execution_count": 54,
   "metadata": {},
   "outputs": [
    {
     "data": {
      "image/svg+xml": [
       "<?xml version=\"1.0\" encoding=\"UTF-8\" standalone=\"no\"?>\n",
       "<!DOCTYPE svg PUBLIC \"-//W3C//DTD SVG 1.1//EN\"\n",
       " \"http://www.w3.org/Graphics/SVG/1.1/DTD/svg11.dtd\">\n",
       "<!-- Generated by graphviz version 2.50.0 (0)\n",
       " -->\n",
       "<!-- Pages: 1 -->\n",
       "<svg width=\"278pt\" height=\"260pt\"\n",
       " viewBox=\"0.00 0.00 278.09 260.00\" xmlns=\"http://www.w3.org/2000/svg\" xmlns:xlink=\"http://www.w3.org/1999/xlink\">\n",
       "<g id=\"graph0\" class=\"graph\" transform=\"scale(1 1) rotate(0) translate(4 256)\">\n",
       "<polygon fill=\"white\" stroke=\"transparent\" points=\"-4,4 -4,-256 274.09,-256 274.09,4 -4,4\"/>\n",
       "<!-- 0 -->\n",
       "<g id=\"node1\" class=\"node\">\n",
       "<title>0</title>\n",
       "<ellipse fill=\"#1f77b4\" stroke=\"black\" cx=\"67.59\" cy=\"-18\" rx=\"67.69\" ry=\"18\"/>\n",
       "<text text-anchor=\"middle\" x=\"67.59\" y=\"-14.3\" font-family=\"Times,serif\" font-size=\"14.00\">0 : (x^3&#45;1, 0, 0)</text>\n",
       "</g>\n",
       "<!-- 1 -->\n",
       "<g id=\"node2\" class=\"node\">\n",
       "<title>1</title>\n",
       "<ellipse fill=\"#98df8a\" stroke=\"black\" cx=\"100.59\" cy=\"-90\" rx=\"51.19\" ry=\"18\"/>\n",
       "<text text-anchor=\"middle\" x=\"100.59\" y=\"-86.3\" font-family=\"Times,serif\" font-size=\"14.00\">1 : (0, 0, 0)</text>\n",
       "</g>\n",
       "<!-- 1&#45;&gt;0 -->\n",
       "<g id=\"edge1\" class=\"edge\">\n",
       "<title>1&#45;&gt;0</title>\n",
       "<path fill=\"none\" stroke=\"black\" d=\"M92.61,-72.05C88.85,-64.09 84.29,-54.41 80.09,-45.51\"/>\n",
       "<polygon fill=\"black\" stroke=\"black\" points=\"83.17,-43.83 75.74,-36.28 76.84,-46.81 83.17,-43.83\"/>\n",
       "</g>\n",
       "<!-- 2 -->\n",
       "<g id=\"node3\" class=\"node\">\n",
       "<title>2</title>\n",
       "<ellipse fill=\"#8c564b\" stroke=\"black\" cx=\"211.59\" cy=\"-18\" rx=\"58.49\" ry=\"18\"/>\n",
       "<text text-anchor=\"middle\" x=\"211.59\" y=\"-14.3\" font-family=\"Times,serif\" font-size=\"14.00\">2 : (x&#45;1, 0, 0)</text>\n",
       "</g>\n",
       "<!-- 3 -->\n",
       "<g id=\"node4\" class=\"node\">\n",
       "<title>3</title>\n",
       "<ellipse fill=\"#c7c7c7\" stroke=\"black\" cx=\"139.59\" cy=\"-162\" rx=\"67.69\" ry=\"18\"/>\n",
       "<text text-anchor=\"middle\" x=\"139.59\" y=\"-158.3\" font-family=\"Times,serif\" font-size=\"14.00\">3 : (0, x^3&#45;1, 0)</text>\n",
       "</g>\n",
       "<!-- 3&#45;&gt;1 -->\n",
       "<g id=\"edge2\" class=\"edge\">\n",
       "<title>3&#45;&gt;1</title>\n",
       "<path fill=\"none\" stroke=\"black\" d=\"M130.15,-144.05C125.55,-135.8 119.93,-125.7 114.82,-116.54\"/>\n",
       "<polygon fill=\"black\" stroke=\"black\" points=\"117.87,-114.82 109.95,-107.79 111.76,-118.23 117.87,-114.82\"/>\n",
       "</g>\n",
       "<!-- 3&#45;&gt;2 -->\n",
       "<g id=\"edge3\" class=\"edge\">\n",
       "<title>3&#45;&gt;2</title>\n",
       "<path fill=\"none\" stroke=\"black\" d=\"M148.28,-143.87C160.71,-119.35 183.69,-74.03 198.28,-45.26\"/>\n",
       "<polygon fill=\"black\" stroke=\"black\" points=\"201.48,-46.69 202.88,-36.19 195.23,-43.53 201.48,-46.69\"/>\n",
       "</g>\n",
       "<!-- 4 -->\n",
       "<g id=\"node5\" class=\"node\">\n",
       "<title>4</title>\n",
       "<ellipse fill=\"#9edae5\" stroke=\"black\" cx=\"139.59\" cy=\"-234\" rx=\"51.19\" ry=\"18\"/>\n",
       "<text text-anchor=\"middle\" x=\"139.59\" y=\"-230.3\" font-family=\"Times,serif\" font-size=\"14.00\">4 : (0, 0, 0)</text>\n",
       "</g>\n",
       "<!-- 4&#45;&gt;3 -->\n",
       "<g id=\"edge4\" class=\"edge\">\n",
       "<title>4&#45;&gt;3</title>\n",
       "<path fill=\"none\" stroke=\"black\" d=\"M139.59,-215.7C139.59,-207.98 139.59,-198.71 139.59,-190.11\"/>\n",
       "<polygon fill=\"black\" stroke=\"black\" points=\"143.09,-190.1 139.59,-180.1 136.09,-190.1 143.09,-190.1\"/>\n",
       "</g>\n",
       "</g>\n",
       "</svg>\n"
      ],
      "text/plain": [
       "<graphviz.sources.Source at 0x111208cd0>"
      ]
     },
     "execution_count": 54,
     "metadata": {},
     "output_type": "execute_result"
    }
   ],
   "source": [
    "CMGDB_utils.PlotMorseGraph(morse_graph)"
   ]
  },
  {
   "cell_type": "code",
   "execution_count": 55,
   "metadata": {},
   "outputs": [
    {
     "data": {
      "image/png": "[encoded data removed]",
      "text/plain": [
       "<Figure size 800x800 with 1 Axes>"
      ]
     },
     "metadata": {},
     "output_type": "display_data"
    }
   ],
   "source": [
    "CMGDB_utils.PlotMorseSets(morse_graph, cubical_complex)"
   ]
  },
  {
   "cell_type": "code",
   "execution_count": 56,
   "metadata": {},
   "outputs": [
    {
     "name": "stdout",
     "output_type": "stream",
     "text": [
      "CPU times: user 175 μs, sys: 20 μs, total: 195 μs\n",
      "Wall time: 199 μs\n"
     ]
    }
   ],
   "source": [
    "%%time\n",
    "latt_attractors = CMGDB_utils.lattice_attractors(morse_graph[0])"
   ]
  },
  {
   "cell_type": "code",
   "execution_count": 57,
   "metadata": {},
   "outputs": [
    {
     "name": "stdout",
     "output_type": "stream",
     "text": [
      "CPU times: user 206 μs, sys: 12 μs, total: 218 μs\n",
      "Wall time: 224 μs\n"
     ]
    }
   ],
   "source": [
    "%%time\n",
    "latt_repellers = CMGDB_utils.lattice_repellers(morse_graph[0])"
   ]
  },
  {
   "cell_type": "code",
   "execution_count": 58,
   "metadata": {},
   "outputs": [
    {
     "data": {
      "image/svg+xml": [
       "<?xml version=\"1.0\" encoding=\"UTF-8\" standalone=\"no\"?>\n",
       "<!DOCTYPE svg PUBLIC \"-//W3C//DTD SVG 1.1//EN\"\n",
       " \"http://www.w3.org/Graphics/SVG/1.1/DTD/svg11.dtd\">\n",
       "<!-- Generated by graphviz version 2.50.0 (0)\n",
       " -->\n",
       "<!-- Pages: 1 -->\n",
       "<svg width=\"206pt\" height=\"404pt\"\n",
       " viewBox=\"0.00 0.00 205.69 404.00\" xmlns=\"http://www.w3.org/2000/svg\" xmlns:xlink=\"http://www.w3.org/1999/xlink\">\n",
       "<g id=\"graph0\" class=\"graph\" transform=\"scale(1 1) rotate(0) translate(4 400)\">\n",
       "<polygon fill=\"white\" stroke=\"transparent\" points=\"-4,4 -4,-400 201.69,-400 201.69,4 -4,4\"/>\n",
       "<!-- 0 -->\n",
       "<g id=\"node1\" class=\"node\">\n",
       "<title>0</title>\n",
       "<ellipse fill=\"#1f77b4\" stroke=\"black\" cx=\"107.85\" cy=\"-18\" rx=\"33.6\" ry=\"18\"/>\n",
       "<text text-anchor=\"middle\" x=\"107.85\" y=\"-14.3\" font-family=\"Times,serif\" font-size=\"14.00\">0 : { }</text>\n",
       "</g>\n",
       "<!-- 1 -->\n",
       "<g id=\"node2\" class=\"node\">\n",
       "<title>1</title>\n",
       "<ellipse fill=\"#ff7f0e\" stroke=\"black\" cx=\"63.85\" cy=\"-90\" rx=\"36\" ry=\"18\"/>\n",
       "<text text-anchor=\"middle\" x=\"63.85\" y=\"-86.3\" font-family=\"Times,serif\" font-size=\"14.00\">1 : {0}</text>\n",
       "</g>\n",
       "<!-- 1&#45;&gt;0 -->\n",
       "<g id=\"edge1\" class=\"edge\">\n",
       "<title>1&#45;&gt;0</title>\n",
       "<path fill=\"none\" stroke=\"black\" d=\"M74.27,-72.41C79.59,-63.95 86.16,-53.49 92.08,-44.08\"/>\n",
       "<polygon fill=\"black\" stroke=\"black\" points=\"95.13,-45.8 97.49,-35.47 89.21,-42.07 95.13,-45.8\"/>\n",
       "</g>\n",
       "<!-- 2 -->\n",
       "<g id=\"node3\" class=\"node\">\n",
       "<title>2</title>\n",
       "<ellipse fill=\"#98df8a\" stroke=\"black\" cx=\"152.85\" cy=\"-90\" rx=\"36\" ry=\"18\"/>\n",
       "<text text-anchor=\"middle\" x=\"152.85\" y=\"-86.3\" font-family=\"Times,serif\" font-size=\"14.00\">2 : {2}</text>\n",
       "</g>\n",
       "<!-- 2&#45;&gt;0 -->\n",
       "<g id=\"edge2\" class=\"edge\">\n",
       "<title>2&#45;&gt;0</title>\n",
       "<path fill=\"none\" stroke=\"black\" d=\"M142.41,-72.76C136.84,-64.11 129.88,-53.27 123.66,-43.6\"/>\n",
       "<polygon fill=\"black\" stroke=\"black\" points=\"126.58,-41.67 118.23,-35.15 120.69,-45.45 126.58,-41.67\"/>\n",
       "</g>\n",
       "<!-- 3 -->\n",
       "<g id=\"node4\" class=\"node\">\n",
       "<title>3</title>\n",
       "<ellipse fill=\"#9467bd\" stroke=\"black\" cx=\"44.85\" cy=\"-162\" rx=\"44.69\" ry=\"18\"/>\n",
       "<text text-anchor=\"middle\" x=\"44.85\" y=\"-158.3\" font-family=\"Times,serif\" font-size=\"14.00\">3 : {0, 1}</text>\n",
       "</g>\n",
       "<!-- 3&#45;&gt;1 -->\n",
       "<g id=\"edge3\" class=\"edge\">\n",
       "<title>3&#45;&gt;1</title>\n",
       "<path fill=\"none\" stroke=\"black\" d=\"M49.45,-144.05C51.56,-136.26 54.12,-126.82 56.5,-118.08\"/>\n",
       "<polygon fill=\"black\" stroke=\"black\" points=\"59.92,-118.84 59.16,-108.28 53.16,-117.01 59.92,-118.84\"/>\n",
       "</g>\n",
       "<!-- 4 -->\n",
       "<g id=\"node5\" class=\"node\">\n",
       "<title>4</title>\n",
       "<ellipse fill=\"#c49c94\" stroke=\"black\" cx=\"152.85\" cy=\"-162\" rx=\"44.69\" ry=\"18\"/>\n",
       "<text text-anchor=\"middle\" x=\"152.85\" y=\"-158.3\" font-family=\"Times,serif\" font-size=\"14.00\">4 : {0, 2}</text>\n",
       "</g>\n",
       "<!-- 4&#45;&gt;1 -->\n",
       "<g id=\"edge4\" class=\"edge\">\n",
       "<title>4&#45;&gt;1</title>\n",
       "<path fill=\"none\" stroke=\"black\" d=\"M133.09,-145.46C120.54,-135.59 104.14,-122.69 90.44,-111.92\"/>\n",
       "<polygon fill=\"black\" stroke=\"black\" points=\"92.35,-108.97 82.33,-105.54 88.02,-114.47 92.35,-108.97\"/>\n",
       "</g>\n",
       "<!-- 4&#45;&gt;2 -->\n",
       "<g id=\"edge5\" class=\"edge\">\n",
       "<title>4&#45;&gt;2</title>\n",
       "<path fill=\"none\" stroke=\"black\" d=\"M152.85,-143.7C152.85,-135.98 152.85,-126.71 152.85,-118.11\"/>\n",
       "<polygon fill=\"black\" stroke=\"black\" points=\"156.35,-118.1 152.85,-108.1 149.35,-118.1 156.35,-118.1\"/>\n",
       "</g>\n",
       "<!-- 5 -->\n",
       "<g id=\"node6\" class=\"node\">\n",
       "<title>5</title>\n",
       "<ellipse fill=\"#7f7f7f\" stroke=\"black\" cx=\"98.85\" cy=\"-234\" rx=\"53.89\" ry=\"18\"/>\n",
       "<text text-anchor=\"middle\" x=\"98.85\" y=\"-230.3\" font-family=\"Times,serif\" font-size=\"14.00\">5 : {0, 1, 2}</text>\n",
       "</g>\n",
       "<!-- 5&#45;&gt;3 -->\n",
       "<g id=\"edge6\" class=\"edge\">\n",
       "<title>5&#45;&gt;3</title>\n",
       "<path fill=\"none\" stroke=\"black\" d=\"M86.05,-216.41C79.39,-207.78 71.12,-197.06 63.74,-187.5\"/>\n",
       "<polygon fill=\"black\" stroke=\"black\" points=\"66.43,-185.25 57.55,-179.47 60.89,-189.53 66.43,-185.25\"/>\n",
       "</g>\n",
       "<!-- 5&#45;&gt;4 -->\n",
       "<g id=\"edge7\" class=\"edge\">\n",
       "<title>5&#45;&gt;4</title>\n",
       "<path fill=\"none\" stroke=\"black\" d=\"M111.64,-216.41C118.3,-207.78 126.57,-197.06 133.95,-187.5\"/>\n",
       "<polygon fill=\"black\" stroke=\"black\" points=\"136.8,-189.53 140.14,-179.47 131.26,-185.25 136.8,-189.53\"/>\n",
       "</g>\n",
       "<!-- 6 -->\n",
       "<g id=\"node7\" class=\"node\">\n",
       "<title>6</title>\n",
       "<ellipse fill=\"#dbdb8d\" stroke=\"black\" cx=\"98.85\" cy=\"-306\" rx=\"63.89\" ry=\"18\"/>\n",
       "<text text-anchor=\"middle\" x=\"98.85\" y=\"-302.3\" font-family=\"Times,serif\" font-size=\"14.00\">6 : {0, 1, 2, 3}</text>\n",
       "</g>\n",
       "<!-- 6&#45;&gt;5 -->\n",
       "<g id=\"edge8\" class=\"edge\">\n",
       "<title>6&#45;&gt;5</title>\n",
       "<path fill=\"none\" stroke=\"black\" d=\"M98.85,-287.7C98.85,-279.98 98.85,-270.71 98.85,-262.11\"/>\n",
       "<polygon fill=\"black\" stroke=\"black\" points=\"102.35,-262.1 98.85,-252.1 95.35,-262.1 102.35,-262.1\"/>\n",
       "</g>\n",
       "<!-- 7 -->\n",
       "<g id=\"node8\" class=\"node\">\n",
       "<title>7</title>\n",
       "<ellipse fill=\"#9edae5\" stroke=\"black\" cx=\"98.85\" cy=\"-378\" rx=\"72.59\" ry=\"18\"/>\n",
       "<text text-anchor=\"middle\" x=\"98.85\" y=\"-374.3\" font-family=\"Times,serif\" font-size=\"14.00\">7 : {0, 1, 2, 3, 4}</text>\n",
       "</g>\n",
       "<!-- 7&#45;&gt;6 -->\n",
       "<g id=\"edge9\" class=\"edge\">\n",
       "<title>7&#45;&gt;6</title>\n",
       "<path fill=\"none\" stroke=\"black\" d=\"M98.85,-359.7C98.85,-351.98 98.85,-342.71 98.85,-334.11\"/>\n",
       "<polygon fill=\"black\" stroke=\"black\" points=\"102.35,-334.1 98.85,-324.1 95.35,-334.1 102.35,-334.1\"/>\n",
       "</g>\n",
       "</g>\n",
       "</svg>\n"
      ],
      "text/plain": [
       "<graphviz.sources.Source at 0x111200450>"
      ]
     },
     "execution_count": 58,
     "metadata": {},
     "output_type": "execute_result"
    }
   ],
   "source": [
    "CMGDB_utils.PlotGraph(latt_attractors)"
   ]
  },
  {
   "cell_type": "code",
   "execution_count": 59,
   "metadata": {},
   "outputs": [
    {
     "data": {
      "image/svg+xml": [
       "<?xml version=\"1.0\" encoding=\"UTF-8\" standalone=\"no\"?>\n",
       "<!DOCTYPE svg PUBLIC \"-//W3C//DTD SVG 1.1//EN\"\n",
       " \"http://www.w3.org/Graphics/SVG/1.1/DTD/svg11.dtd\">\n",
       "<!-- Generated by graphviz version 2.50.0 (0)\n",
       " -->\n",
       "<!-- Pages: 1 -->\n",
       "<svg width=\"206pt\" height=\"404pt\"\n",
       " viewBox=\"0.00 0.00 205.69 404.00\" xmlns=\"http://www.w3.org/2000/svg\" xmlns:xlink=\"http://www.w3.org/1999/xlink\">\n",
       "<g id=\"graph0\" class=\"graph\" transform=\"scale(1 1) rotate(0) translate(4 400)\">\n",
       "<polygon fill=\"white\" stroke=\"transparent\" points=\"-4,4 -4,-400 201.69,-400 201.69,4 -4,4\"/>\n",
       "<!-- 0 -->\n",
       "<g id=\"node1\" class=\"node\">\n",
       "<title>0</title>\n",
       "<ellipse fill=\"#1f77b4\" stroke=\"black\" cx=\"107.85\" cy=\"-18\" rx=\"33.6\" ry=\"18\"/>\n",
       "<text text-anchor=\"middle\" x=\"107.85\" y=\"-14.3\" font-family=\"Times,serif\" font-size=\"14.00\">0 : { }</text>\n",
       "</g>\n",
       "<!-- 1 -->\n",
       "<g id=\"node2\" class=\"node\">\n",
       "<title>1</title>\n",
       "<ellipse fill=\"#ff7f0e\" stroke=\"black\" cx=\"63.85\" cy=\"-90\" rx=\"36\" ry=\"18\"/>\n",
       "<text text-anchor=\"middle\" x=\"63.85\" y=\"-86.3\" font-family=\"Times,serif\" font-size=\"14.00\">1 : {0}</text>\n",
       "</g>\n",
       "<!-- 1&#45;&gt;0 -->\n",
       "<g id=\"edge1\" class=\"edge\">\n",
       "<title>1&#45;&gt;0</title>\n",
       "<path fill=\"none\" stroke=\"black\" d=\"M74.27,-72.41C79.59,-63.95 86.16,-53.49 92.08,-44.08\"/>\n",
       "<polygon fill=\"black\" stroke=\"black\" points=\"95.13,-45.8 97.49,-35.47 89.21,-42.07 95.13,-45.8\"/>\n",
       "</g>\n",
       "<!-- 2 -->\n",
       "<g id=\"node3\" class=\"node\">\n",
       "<title>2</title>\n",
       "<ellipse fill=\"#98df8a\" stroke=\"black\" cx=\"152.85\" cy=\"-90\" rx=\"36\" ry=\"18\"/>\n",
       "<text text-anchor=\"middle\" x=\"152.85\" y=\"-86.3\" font-family=\"Times,serif\" font-size=\"14.00\">2 : {2}</text>\n",
       "</g>\n",
       "<!-- 2&#45;&gt;0 -->\n",
       "<g id=\"edge2\" class=\"edge\">\n",
       "<title>2&#45;&gt;0</title>\n",
       "<path fill=\"none\" stroke=\"black\" d=\"M142.41,-72.76C136.84,-64.11 129.88,-53.27 123.66,-43.6\"/>\n",
       "<polygon fill=\"black\" stroke=\"black\" points=\"126.58,-41.67 118.23,-35.15 120.69,-45.45 126.58,-41.67\"/>\n",
       "</g>\n",
       "<!-- 3 -->\n",
       "<g id=\"node4\" class=\"node\">\n",
       "<title>3</title>\n",
       "<ellipse fill=\"#9467bd\" stroke=\"black\" cx=\"44.85\" cy=\"-162\" rx=\"44.69\" ry=\"18\"/>\n",
       "<text text-anchor=\"middle\" x=\"44.85\" y=\"-158.3\" font-family=\"Times,serif\" font-size=\"14.00\">3 : {0, 1}</text>\n",
       "</g>\n",
       "<!-- 3&#45;&gt;1 -->\n",
       "<g id=\"edge3\" class=\"edge\">\n",
       "<title>3&#45;&gt;1</title>\n",
       "<path fill=\"none\" stroke=\"black\" d=\"M49.45,-144.05C51.56,-136.26 54.12,-126.82 56.5,-118.08\"/>\n",
       "<polygon fill=\"black\" stroke=\"black\" points=\"59.92,-118.84 59.16,-108.28 53.16,-117.01 59.92,-118.84\"/>\n",
       "</g>\n",
       "<!-- 4 -->\n",
       "<g id=\"node5\" class=\"node\">\n",
       "<title>4</title>\n",
       "<ellipse fill=\"#c49c94\" stroke=\"black\" cx=\"152.85\" cy=\"-162\" rx=\"44.69\" ry=\"18\"/>\n",
       "<text text-anchor=\"middle\" x=\"152.85\" y=\"-158.3\" font-family=\"Times,serif\" font-size=\"14.00\">4 : {0, 2}</text>\n",
       "</g>\n",
       "<!-- 4&#45;&gt;1 -->\n",
       "<g id=\"edge4\" class=\"edge\">\n",
       "<title>4&#45;&gt;1</title>\n",
       "<path fill=\"none\" stroke=\"black\" d=\"M133.09,-145.46C120.54,-135.59 104.14,-122.69 90.44,-111.92\"/>\n",
       "<polygon fill=\"black\" stroke=\"black\" points=\"92.35,-108.97 82.33,-105.54 88.02,-114.47 92.35,-108.97\"/>\n",
       "</g>\n",
       "<!-- 4&#45;&gt;2 -->\n",
       "<g id=\"edge5\" class=\"edge\">\n",
       "<title>4&#45;&gt;2</title>\n",
       "<path fill=\"none\" stroke=\"black\" d=\"M152.85,-143.7C152.85,-135.98 152.85,-126.71 152.85,-118.11\"/>\n",
       "<polygon fill=\"black\" stroke=\"black\" points=\"156.35,-118.1 152.85,-108.1 149.35,-118.1 156.35,-118.1\"/>\n",
       "</g>\n",
       "<!-- 5 -->\n",
       "<g id=\"node6\" class=\"node\">\n",
       "<title>5</title>\n",
       "<ellipse fill=\"#7f7f7f\" stroke=\"black\" cx=\"98.85\" cy=\"-234\" rx=\"53.89\" ry=\"18\"/>\n",
       "<text text-anchor=\"middle\" x=\"98.85\" y=\"-230.3\" font-family=\"Times,serif\" font-size=\"14.00\">5 : {0, 1, 2}</text>\n",
       "</g>\n",
       "<!-- 5&#45;&gt;3 -->\n",
       "<g id=\"edge6\" class=\"edge\">\n",
       "<title>5&#45;&gt;3</title>\n",
       "<path fill=\"none\" stroke=\"black\" d=\"M86.05,-216.41C79.39,-207.78 71.12,-197.06 63.74,-187.5\"/>\n",
       "<polygon fill=\"black\" stroke=\"black\" points=\"66.43,-185.25 57.55,-179.47 60.89,-189.53 66.43,-185.25\"/>\n",
       "</g>\n",
       "<!-- 5&#45;&gt;4 -->\n",
       "<g id=\"edge7\" class=\"edge\">\n",
       "<title>5&#45;&gt;4</title>\n",
       "<path fill=\"none\" stroke=\"black\" d=\"M111.64,-216.41C118.3,-207.78 126.57,-197.06 133.95,-187.5\"/>\n",
       "<polygon fill=\"black\" stroke=\"black\" points=\"136.8,-189.53 140.14,-179.47 131.26,-185.25 136.8,-189.53\"/>\n",
       "</g>\n",
       "<!-- 6 -->\n",
       "<g id=\"node7\" class=\"node\">\n",
       "<title>6</title>\n",
       "<ellipse fill=\"#dbdb8d\" stroke=\"black\" cx=\"98.85\" cy=\"-306\" rx=\"63.89\" ry=\"18\"/>\n",
       "<text text-anchor=\"middle\" x=\"98.85\" y=\"-302.3\" font-family=\"Times,serif\" font-size=\"14.00\">6 : {0, 1, 2, 3}</text>\n",
       "</g>\n",
       "<!-- 6&#45;&gt;5 -->\n",
       "<g id=\"edge8\" class=\"edge\">\n",
       "<title>6&#45;&gt;5</title>\n",
       "<path fill=\"none\" stroke=\"black\" d=\"M98.85,-287.7C98.85,-279.98 98.85,-270.71 98.85,-262.11\"/>\n",
       "<polygon fill=\"black\" stroke=\"black\" points=\"102.35,-262.1 98.85,-252.1 95.35,-262.1 102.35,-262.1\"/>\n",
       "</g>\n",
       "<!-- 7 -->\n",
       "<g id=\"node8\" class=\"node\">\n",
       "<title>7</title>\n",
       "<ellipse fill=\"#9edae5\" stroke=\"black\" cx=\"98.85\" cy=\"-378\" rx=\"72.59\" ry=\"18\"/>\n",
       "<text text-anchor=\"middle\" x=\"98.85\" y=\"-374.3\" font-family=\"Times,serif\" font-size=\"14.00\">7 : {0, 1, 2, 3, 4}</text>\n",
       "</g>\n",
       "<!-- 7&#45;&gt;6 -->\n",
       "<g id=\"edge9\" class=\"edge\">\n",
       "<title>7&#45;&gt;6</title>\n",
       "<path fill=\"none\" stroke=\"black\" d=\"M98.85,-359.7C98.85,-351.98 98.85,-342.71 98.85,-334.11\"/>\n",
       "<polygon fill=\"black\" stroke=\"black\" points=\"102.35,-334.1 98.85,-324.1 95.35,-334.1 102.35,-334.1\"/>\n",
       "</g>\n",
       "</g>\n",
       "</svg>\n"
      ],
      "text/plain": [
       "<graphviz.sources.Source at 0x111258810>"
      ]
     },
     "execution_count": 59,
     "metadata": {},
     "output_type": "execute_result"
    }
   ],
   "source": [
    "CMGDB_utils.PlotMorseGraph(latt_attractors)"
   ]
  },
  {
   "cell_type": "code",
   "execution_count": 60,
   "metadata": {},
   "outputs": [
    {
     "data": {
      "image/svg+xml": [
       "<?xml version=\"1.0\" encoding=\"UTF-8\" standalone=\"no\"?>\n",
       "<!DOCTYPE svg PUBLIC \"-//W3C//DTD SVG 1.1//EN\"\n",
       " \"http://www.w3.org/Graphics/SVG/1.1/DTD/svg11.dtd\">\n",
       "<!-- Generated by graphviz version 2.50.0 (0)\n",
       " -->\n",
       "<!-- Pages: 1 -->\n",
       "<svg width=\"280pt\" height=\"404pt\"\n",
       " viewBox=\"0.00 0.00 280.39 404.00\" xmlns=\"http://www.w3.org/2000/svg\" xmlns:xlink=\"http://www.w3.org/1999/xlink\">\n",
       "<g id=\"graph0\" class=\"graph\" transform=\"scale(1 1) rotate(0) translate(4 400)\">\n",
       "<polygon fill=\"white\" stroke=\"transparent\" points=\"-4,4 -4,-400 276.39,-400 276.39,4 -4,4\"/>\n",
       "<!-- 0 -->\n",
       "<g id=\"node1\" class=\"node\">\n",
       "<title>0</title>\n",
       "<ellipse fill=\"#1f77b4\" stroke=\"black\" cx=\"135.69\" cy=\"-18\" rx=\"72.59\" ry=\"18\"/>\n",
       "<text text-anchor=\"middle\" x=\"135.69\" y=\"-14.3\" font-family=\"Times,serif\" font-size=\"14.00\">0 : {0, 1, 2, 3, 4}</text>\n",
       "</g>\n",
       "<!-- 1 -->\n",
       "<g id=\"node2\" class=\"node\">\n",
       "<title>1</title>\n",
       "<ellipse fill=\"#ff7f0e\" stroke=\"black\" cx=\"63.69\" cy=\"-90\" rx=\"63.89\" ry=\"18\"/>\n",
       "<text text-anchor=\"middle\" x=\"63.69\" y=\"-86.3\" font-family=\"Times,serif\" font-size=\"14.00\">1 : {1, 2, 3, 4}</text>\n",
       "</g>\n",
       "<!-- 1&#45;&gt;0 -->\n",
       "<g id=\"edge1\" class=\"edge\">\n",
       "<title>1&#45;&gt;0</title>\n",
       "<path fill=\"none\" stroke=\"black\" d=\"M80.76,-72.41C89.77,-63.65 101,-52.73 110.95,-43.06\"/>\n",
       "<polygon fill=\"black\" stroke=\"black\" points=\"113.52,-45.44 118.25,-35.96 108.64,-40.42 113.52,-45.44\"/>\n",
       "</g>\n",
       "<!-- 2 -->\n",
       "<g id=\"node3\" class=\"node\">\n",
       "<title>2</title>\n",
       "<ellipse fill=\"#98df8a\" stroke=\"black\" cx=\"208.69\" cy=\"-90\" rx=\"63.89\" ry=\"18\"/>\n",
       "<text text-anchor=\"middle\" x=\"208.69\" y=\"-86.3\" font-family=\"Times,serif\" font-size=\"14.00\">2 : {0, 1, 3, 4}</text>\n",
       "</g>\n",
       "<!-- 2&#45;&gt;0 -->\n",
       "<g id=\"edge2\" class=\"edge\">\n",
       "<title>2&#45;&gt;0</title>\n",
       "<path fill=\"none\" stroke=\"black\" d=\"M191.39,-72.41C182.19,-63.58 170.7,-52.57 160.56,-42.84\"/>\n",
       "<polygon fill=\"black\" stroke=\"black\" points=\"162.76,-40.11 153.12,-35.71 157.92,-45.16 162.76,-40.11\"/>\n",
       "</g>\n",
       "<!-- 3 -->\n",
       "<g id=\"node4\" class=\"node\">\n",
       "<title>3</title>\n",
       "<ellipse fill=\"#9467bd\" stroke=\"black\" cx=\"63.69\" cy=\"-162\" rx=\"53.89\" ry=\"18\"/>\n",
       "<text text-anchor=\"middle\" x=\"63.69\" y=\"-158.3\" font-family=\"Times,serif\" font-size=\"14.00\">3 : {2, 3, 4}</text>\n",
       "</g>\n",
       "<!-- 3&#45;&gt;1 -->\n",
       "<g id=\"edge3\" class=\"edge\">\n",
       "<title>3&#45;&gt;1</title>\n",
       "<path fill=\"none\" stroke=\"black\" d=\"M63.69,-143.7C63.69,-135.98 63.69,-126.71 63.69,-118.11\"/>\n",
       "<polygon fill=\"black\" stroke=\"black\" points=\"67.19,-118.1 63.69,-108.1 60.19,-118.1 67.19,-118.1\"/>\n",
       "</g>\n",
       "<!-- 4 -->\n",
       "<g id=\"node5\" class=\"node\">\n",
       "<title>4</title>\n",
       "<ellipse fill=\"#c49c94\" stroke=\"black\" cx=\"189.69\" cy=\"-162\" rx=\"53.89\" ry=\"18\"/>\n",
       "<text text-anchor=\"middle\" x=\"189.69\" y=\"-158.3\" font-family=\"Times,serif\" font-size=\"14.00\">4 : {1, 3, 4}</text>\n",
       "</g>\n",
       "<!-- 4&#45;&gt;1 -->\n",
       "<g id=\"edge4\" class=\"edge\">\n",
       "<title>4&#45;&gt;1</title>\n",
       "<path fill=\"none\" stroke=\"black\" d=\"M162.97,-146.15C144.68,-135.99 120.2,-122.39 100.12,-111.24\"/>\n",
       "<polygon fill=\"black\" stroke=\"black\" points=\"101.69,-108.1 91.25,-106.31 98.29,-114.22 101.69,-108.1\"/>\n",
       "</g>\n",
       "<!-- 4&#45;&gt;2 -->\n",
       "<g id=\"edge5\" class=\"edge\">\n",
       "<title>4&#45;&gt;2</title>\n",
       "<path fill=\"none\" stroke=\"black\" d=\"M194.29,-144.05C196.41,-136.26 198.97,-126.82 201.34,-118.08\"/>\n",
       "<polygon fill=\"black\" stroke=\"black\" points=\"204.76,-118.84 204.01,-108.28 198.01,-117.01 204.76,-118.84\"/>\n",
       "</g>\n",
       "<!-- 5 -->\n",
       "<g id=\"node6\" class=\"node\">\n",
       "<title>5</title>\n",
       "<ellipse fill=\"#7f7f7f\" stroke=\"black\" cx=\"126.69\" cy=\"-234\" rx=\"44.69\" ry=\"18\"/>\n",
       "<text text-anchor=\"middle\" x=\"126.69\" y=\"-230.3\" font-family=\"Times,serif\" font-size=\"14.00\">5 : {3, 4}</text>\n",
       "</g>\n",
       "<!-- 5&#45;&gt;3 -->\n",
       "<g id=\"edge6\" class=\"edge\">\n",
       "<title>5&#45;&gt;3</title>\n",
       "<path fill=\"none\" stroke=\"black\" d=\"M112.08,-216.76C104.17,-207.97 94.23,-196.93 85.42,-187.14\"/>\n",
       "<polygon fill=\"black\" stroke=\"black\" points=\"87.96,-184.72 78.66,-179.63 82.75,-189.41 87.96,-184.72\"/>\n",
       "</g>\n",
       "<!-- 5&#45;&gt;4 -->\n",
       "<g id=\"edge7\" class=\"edge\">\n",
       "<title>5&#45;&gt;4</title>\n",
       "<path fill=\"none\" stroke=\"black\" d=\"M141.31,-216.76C149.22,-207.97 159.16,-196.93 167.96,-187.14\"/>\n",
       "<polygon fill=\"black\" stroke=\"black\" points=\"170.64,-189.41 174.72,-179.63 165.43,-184.72 170.64,-189.41\"/>\n",
       "</g>\n",
       "<!-- 6 -->\n",
       "<g id=\"node7\" class=\"node\">\n",
       "<title>6</title>\n",
       "<ellipse fill=\"#dbdb8d\" stroke=\"black\" cx=\"126.69\" cy=\"-306\" rx=\"36\" ry=\"18\"/>\n",
       "<text text-anchor=\"middle\" x=\"126.69\" y=\"-302.3\" font-family=\"Times,serif\" font-size=\"14.00\">6 : {4}</text>\n",
       "</g>\n",
       "<!-- 6&#45;&gt;5 -->\n",
       "<g id=\"edge8\" class=\"edge\">\n",
       "<title>6&#45;&gt;5</title>\n",
       "<path fill=\"none\" stroke=\"black\" d=\"M126.69,-287.7C126.69,-279.98 126.69,-270.71 126.69,-262.11\"/>\n",
       "<polygon fill=\"black\" stroke=\"black\" points=\"130.19,-262.1 126.69,-252.1 123.19,-262.1 130.19,-262.1\"/>\n",
       "</g>\n",
       "<!-- 7 -->\n",
       "<g id=\"node8\" class=\"node\">\n",
       "<title>7</title>\n",
       "<ellipse fill=\"#9edae5\" stroke=\"black\" cx=\"126.69\" cy=\"-378\" rx=\"33.6\" ry=\"18\"/>\n",
       "<text text-anchor=\"middle\" x=\"126.69\" y=\"-374.3\" font-family=\"Times,serif\" font-size=\"14.00\">7 : { }</text>\n",
       "</g>\n",
       "<!-- 7&#45;&gt;6 -->\n",
       "<g id=\"edge9\" class=\"edge\">\n",
       "<title>7&#45;&gt;6</title>\n",
       "<path fill=\"none\" stroke=\"black\" d=\"M126.69,-359.7C126.69,-351.98 126.69,-342.71 126.69,-334.11\"/>\n",
       "<polygon fill=\"black\" stroke=\"black\" points=\"130.19,-334.1 126.69,-324.1 123.19,-334.1 130.19,-334.1\"/>\n",
       "</g>\n",
       "</g>\n",
       "</svg>\n"
      ],
      "text/plain": [
       "<graphviz.sources.Source at 0x1118c7390>"
      ]
     },
     "execution_count": 60,
     "metadata": {},
     "output_type": "execute_result"
    }
   ],
   "source": [
    "CMGDB_utils.PlotGraph(latt_repellers)"
   ]
  },
  {
   "cell_type": "code",
   "execution_count": null,
   "metadata": {},
   "outputs": [],
   "source": []
  }
 ],
 "metadata": {
  "kernelspec": {
   "display_name": "Python 3 (ipykernel)",
   "language": "python",
   "name": "python3"
  },
  "language_info": {
   "codemirror_mode": {
    "name": "ipython",
    "version": 3
   },
   "file_extension": ".py",
   "mimetype": "text/x-python",
   "name": "python",
   "nbconvert_exporter": "python",
   "pygments_lexer": "ipython3",
   "version": "3.11.11"
  }
 },
 "nbformat": 4,
 "nbformat_minor": 4
}
